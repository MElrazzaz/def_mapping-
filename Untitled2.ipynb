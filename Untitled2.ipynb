{
 "cells": [
  {
   "cell_type": "code",
   "execution_count": null,
   "metadata": {},
   "outputs": [],
   "source": [
    "import os\n",
    "os. getcwd()"
   ]
  },
  {
   "cell_type": "code",
   "execution_count": null,
   "metadata": {},
   "outputs": [],
   "source": [
    "from feature_extraction import feature_extraction"
   ]
  },
  {
   "cell_type": "code",
   "execution_count": null,
   "metadata": {},
   "outputs": [],
   "source": [
    "csv_path = r\"C:\\Users\\me250041\\OneDrive - Teradata\\Desktop\\master\\scrapping\\data-factory\\new_scrapping_all_out.txt\"\n",
    "model_path = r'C:\\Users\\me250041\\OneDrive - Teradata\\Desktop\\master\\arabert-master\\examples\\aubmindlab\\bert-base-arabert'\n",
    "feature_extraction_object = feature_extraction(csv_path, model_path)\n",
    "print(\"feature_extraction_object\")\n",
    "feature_extraction_object.df_def_tokenization('def', 'def_tokenized')\n",
    "print('df_def_tokenization')\n",
    "feature_extraction_object.df_choose_example('quran_ex', 'example', 'choosed_example')\n",
    "print('df_choose_example')\n",
    "feature_extraction_object.df_segmenting_examples('choosed_example', 'example_tokenized')\n",
    "print('df_segmenting_examples')\n",
    "feature_extraction_object.df_segmenting_word('word', 'word_stemed')\n",
    "print('df_segmenting_word')\n",
    "feature_extraction_object.df_get_word_index('word', 'word_stemed', 'example_tokenized', 'choosed_example', 'word_index')\n",
    "feature_extraction_object.df = feature_extraction_object.df.dropna()\n",
    "print('df_get_word_index')\n",
    "feature_extraction_object.df_get_sentence_embedding_by_average_embedding\\\n",
    "    ('example_tokenized','word_index',4,'context_word_embeddings')\n",
    "print('df_get_sentence_embedding_by_average_embedding')\n",
    "feature_extraction_object.df_generate_def_embeddings('def_tokenized','def_embeddings')\n",
    "print('get_def_tokens_tensor')"
   ]
  },
  {
   "cell_type": "code",
   "execution_count": 2,
   "metadata": {},
   "outputs": [],
   "source": [
    "import pandas as pd"
   ]
  },
  {
   "cell_type": "code",
   "execution_count": 3,
   "metadata": {},
   "outputs": [],
   "source": [
    "df = pd.read_csv(r\"C:\\Users\\me250041\\OneDrive - Teradata\\Desktop\\master\\arabert-master\\examples\\newDF.csv\",encoding='utf-8')"
   ]
  },
  {
   "cell_type": "code",
   "execution_count": 39,
   "metadata": {},
   "outputs": [],
   "source": [
    "#  df.drop(['body'], axis='columns', inplace=True)\n",
    "df = df.sample(100)"
   ]
  },
  {
   "cell_type": "code",
   "execution_count": 40,
   "metadata": {},
   "outputs": [
    {
     "data": {
      "text/plain": [
       "100"
      ]
     },
     "execution_count": 40,
     "metadata": {},
     "output_type": "execute_result"
    }
   ],
   "source": [
    "len(df)\n"
   ]
  },
  {
   "cell_type": "code",
   "execution_count": 4,
   "metadata": {},
   "outputs": [],
   "source": [
    "import re\n",
    "def convert_txt_tensor_to_list(text_tensor):\n",
    "    string_list = str(text_tensor)\n",
    "    string_list = string_list.replace('tensor','')\n",
    "    string_list = re.sub(r'[\\]\\[\\(\\)\\'\"]','',string_list)\n",
    "    string_list = re.split(',\\s+',string_list)\n",
    "    float_list = [float(i) for i in string_list]\n",
    "    return float_list"
   ]
  },
  {
   "cell_type": "code",
   "execution_count": 5,
   "metadata": {},
   "outputs": [],
   "source": [
    "df['def_embeddings'] = df.apply(lambda row: convert_txt_tensor_to_list(row['def_embeddings']),axis=1)"
   ]
  },
  {
   "cell_type": "code",
   "execution_count": 6,
   "metadata": {},
   "outputs": [],
   "source": [
    "df['context_word_embeddings'] = df.apply(lambda row: convert_txt_tensor_to_list(row['context_word_embeddings']),axis=1)"
   ]
  },
  {
   "cell_type": "code",
   "execution_count": 7,
   "metadata": {},
   "outputs": [],
   "source": [
    "df.to_csv('./df_listed_embedding', encoding='utf-8', index=False)\n"
   ]
  },
  {
   "cell_type": "code",
   "execution_count": 8,
   "metadata": {},
   "outputs": [],
   "source": [
    "df.to_pickle('pickled_df')"
   ]
  },
  {
   "cell_type": "code",
   "execution_count": 44,
   "metadata": {},
   "outputs": [],
   "source": [
    "import tensorflow as tf\n",
    "from tensorflow import keras\n",
    "from tensorflow.keras import layers"
   ]
  },
  {
   "cell_type": "code",
   "execution_count": 45,
   "metadata": {},
   "outputs": [],
   "source": [
    "df = df.dropna()"
   ]
  },
  {
   "cell_type": "code",
   "execution_count": null,
   "metadata": {},
   "outputs": [],
   "source": [
    "# import torch\n",
    "# import tensorflow as tf\n",
    "# def convert_to_tf_tensor(pytorch_tensor):\n",
    "#     np_tensor = pytorch_tensor.numpy()\n",
    "#     tf_tensor = tf.convert_to_tensor(np_tensor)\n",
    "#     return tf_tensor"
   ]
  },
  {
   "cell_type": "code",
   "execution_count": 46,
   "metadata": {},
   "outputs": [],
   "source": [
    "import numpy as np\n",
    "msk = np.random.rand(len(df)) < 0.8\n",
    "train = df[msk]\n",
    "test = df[~msk]"
   ]
  },
  {
   "cell_type": "code",
   "execution_count": 47,
   "metadata": {},
   "outputs": [],
   "source": [
    "df_train_lable = train['context_word_embeddings']\n",
    "\n",
    "df_test_lable = test['context_word_embeddings']\n",
    "\n",
    "df_train_feat = train['def_embeddings']\n",
    "\n",
    "df_test_feat = test['def_embeddings']"
   ]
  },
  {
   "cell_type": "code",
   "execution_count": 48,
   "metadata": {},
   "outputs": [],
   "source": [
    "df_train_feat = pd.DataFrame(list(df_train_feat))\n",
    "\n",
    "df_test_feat = pd.DataFrame(list(df_test_feat))\n",
    "\n",
    "df_train_lable = pd.DataFrame(list(df_train_lable))\n",
    "\n",
    "df_test_lable = pd.DataFrame(list(df_test_lable))\n"
   ]
  },
  {
   "cell_type": "code",
   "execution_count": 49,
   "metadata": {},
   "outputs": [],
   "source": [
    "train_dataset = tf.data.Dataset.from_tensor_slices((df_train_feat.values, df_train_lable.values))\n",
    "\n",
    "test_dataset = tf.data.Dataset.from_tensor_slices((df_test_feat.values, df_test_lable.values))\n",
    "\n",
    "train_dataset = train_dataset.shuffle(len(train_dataset)).batch(1)"
   ]
  },
  {
   "cell_type": "code",
   "execution_count": 17,
   "metadata": {
    "scrolled": true
   },
   "outputs": [
    {
     "name": "stdout",
     "output_type": "stream",
     "text": [
      "Features: (1, 768), Target: (1, 768)\n"
     ]
    }
   ],
   "source": [
    "for feat, targ in train_dataset.take(1):\n",
    "  print ('Features: {}, Target: {}'.format(feat.shape, targ.shape))"
   ]
  },
  {
   "cell_type": "code",
   "execution_count": 11,
   "metadata": {},
   "outputs": [
    {
     "ename": "NameError",
     "evalue": "name 'keras' is not defined",
     "output_type": "error",
     "traceback": [
      "\u001b[1;31m---------------------------------------------------------------------------\u001b[0m",
      "\u001b[1;31mNameError\u001b[0m                                 Traceback (most recent call last)",
      "\u001b[1;32m<ipython-input-11-eff9cdc5654a>\u001b[0m in \u001b[0;36m<module>\u001b[1;34m\u001b[0m\n\u001b[0;32m      1\u001b[0m \u001b[1;32mfrom\u001b[0m \u001b[0mtensorflow\u001b[0m\u001b[1;33m.\u001b[0m\u001b[0mkeras\u001b[0m \u001b[1;32mimport\u001b[0m \u001b[0mregularizers\u001b[0m\u001b[1;33m\u001b[0m\u001b[1;33m\u001b[0m\u001b[0m\n\u001b[1;32m----> 2\u001b[1;33m \u001b[0mopt\u001b[0m \u001b[1;33m=\u001b[0m \u001b[0mkeras\u001b[0m\u001b[1;33m.\u001b[0m\u001b[0moptimizers\u001b[0m\u001b[1;33m.\u001b[0m\u001b[0mAdam\u001b[0m\u001b[1;33m(\u001b[0m\u001b[0mlearning_rate\u001b[0m\u001b[1;33m=\u001b[0m\u001b[1;36m0.01\u001b[0m\u001b[1;33m)\u001b[0m\u001b[1;33m\u001b[0m\u001b[1;33m\u001b[0m\u001b[0m\n\u001b[0m\u001b[0;32m      3\u001b[0m \u001b[1;33m\u001b[0m\u001b[0m\n\u001b[0;32m      4\u001b[0m \u001b[1;32mdef\u001b[0m \u001b[0mget_compiled_model\u001b[0m\u001b[1;33m(\u001b[0m\u001b[1;33m)\u001b[0m\u001b[1;33m:\u001b[0m\u001b[1;33m\u001b[0m\u001b[1;33m\u001b[0m\u001b[0m\n\u001b[0;32m      5\u001b[0m   model = tf.keras.Sequential([\n",
      "\u001b[1;31mNameError\u001b[0m: name 'keras' is not defined"
     ]
    }
   ],
   "source": [
    "from tensorflow.keras import regularizers\n",
    "opt = keras.optimizers.Adam(learning_rate=0.01)\n",
    "\n",
    "def get_compiled_model():\n",
    "  model = tf.keras.Sequential([\n",
    "    tf.keras.layers.Dense(350, activation='relu',kernel_regularizer=regularizers.l2(l2=1e-4)),\n",
    "    tf.keras.layers.Dense(200, activation='relu',kernel_regularizer=regularizers.l2(l2=1e-4)),\n",
    "    tf.keras.layers.Dense(150, activation='relu',kernel_regularizer=regularizers.l2(l2=1e-4)),\n",
    "    tf.keras.layers.Dense(768)\n",
    "  ])\n",
    "\n",
    "  model.compile(optimizer=opt,\n",
    "                loss=tf.keras.losses.mse,\n",
    "                metrics='cosine_similarity'\n",
    "                )\n",
    "  return model"
   ]
  },
  {
   "cell_type": "code",
   "execution_count": 10,
   "metadata": {},
   "outputs": [
    {
     "ename": "NameError",
     "evalue": "name 'get_compiled_model' is not defined",
     "output_type": "error",
     "traceback": [
      "\u001b[1;31m---------------------------------------------------------------------------\u001b[0m",
      "\u001b[1;31mNameError\u001b[0m                                 Traceback (most recent call last)",
      "\u001b[1;32m<ipython-input-10-43d8c9ffffed>\u001b[0m in \u001b[0;36m<module>\u001b[1;34m\u001b[0m\n\u001b[1;32m----> 1\u001b[1;33m \u001b[0mmodel\u001b[0m \u001b[1;33m=\u001b[0m \u001b[0mget_compiled_model\u001b[0m\u001b[1;33m(\u001b[0m\u001b[1;33m)\u001b[0m\u001b[1;33m\u001b[0m\u001b[1;33m\u001b[0m\u001b[0m\n\u001b[0m\u001b[0;32m      2\u001b[0m \u001b[0mmodel\u001b[0m\u001b[1;33m.\u001b[0m\u001b[0mfit\u001b[0m\u001b[1;33m(\u001b[0m\u001b[1;33m[\u001b[0m\u001b[0mtrain_dataset\u001b[0m\u001b[1;33m,\u001b[0m\u001b[0mtrain_dataset2\u001b[0m\u001b[1;33m]\u001b[0m\u001b[1;33m,\u001b[0m \u001b[0mepochs\u001b[0m\u001b[1;33m=\u001b[0m\u001b[1;36m15\u001b[0m\u001b[1;33m)\u001b[0m\u001b[1;33m\u001b[0m\u001b[1;33m\u001b[0m\u001b[0m\n",
      "\u001b[1;31mNameError\u001b[0m: name 'get_compiled_model' is not defined"
     ]
    }
   ],
   "source": [
    "model = get_compiled_model()\n",
    "model.fit([train_dataset,train_dataset2], epochs=15)"
   ]
  },
  {
   "cell_type": "code",
   "execution_count": 18,
   "metadata": {},
   "outputs": [],
   "source": [
    "df2 = df.copy()\n",
    "df['label']=1"
   ]
  },
  {
   "cell_type": "code",
   "execution_count": null,
   "metadata": {},
   "outputs": [],
   "source": [
    "df2 = df.copy()\n",
    "df['label']=1\n",
    "df.sample"
   ]
  },
  {
   "cell_type": "code",
   "execution_count": 19,
   "metadata": {},
   "outputs": [],
   "source": [
    "df2['label']=0"
   ]
  },
  {
   "cell_type": "code",
   "execution_count": null,
   "metadata": {},
   "outputs": [],
   "source": [
    "df2"
   ]
  },
  {
   "cell_type": "code",
   "execution_count": null,
   "metadata": {},
   "outputs": [],
   "source": [
    "\n",
    "def generate_random(word,id,data):\n",
    "    data_new =df[id!=id]\n",
    "    new_row = data_new.sample()\n",
    "        return new_row[def_embeddings],0\n",
    "def generate_hard(word,id,data):\n",
    "    \n",
    "    df_new = df[word==word and id!=id]\n",
    "    if len(df_new)>0:\n",
    "        new_row = df_new.sample()\n",
    "\n",
    "        return new_row[def_embeddings],0\n",
    "    else:\n",
    "        return_none\n",
    "df2['def'] = df2.apply(lambda row : generate_random(row[word],row[id],df) )\n",
    "df2['def'] = df2.apply(lambda row : generate_hard(row[word],row[id],df) )\n",
    "df2.dropna()\n",
    "panda.Datafram.concate(df,df2)\n",
    "\n",
    "def preparing_input_to_classification(df):\n",
    "        df['context_word_embeddings']\n",
    "        df['def_embeddings']\n",
    "        df_test[['size_kb', 'size_mb', 'size_gb']] = df_test.apply(some_fn(df['context_word_embeddings']), axis=1, result_type=\"expand\")"
   ]
  },
  {
   "cell_type": "code",
   "execution_count": null,
   "metadata": {},
   "outputs": [],
   "source": [
    "from keras.layers import Input, Concatenate, Conv2D, Flatten, Dense, \n",
    "from keras.models import Model\n",
    "def get_compiled_model():\n",
    "# Define two input layers\n",
    "    def_input = Input((768,))\n",
    "    word_input = Input((768,))\n",
    "    concat_layer= Concatenate()([def_input, word_input])\n",
    "    # Convolution + Flatten for the image\n",
    "    dens_layer1 = Dense(350, activation='relu',kernel_regularizer=regularizers.l2(l2=1e-4))(32, (3,3))(concat_layer)\n",
    "    dens_layer2 = Dense(200, activation='relu',kernel_regularizer=regularizers.l2(l2=1e-4))(32, (3,3))(dens_layer1)\n",
    "    output = (Dense(1, activation='sigmoid'))(dens_layer2)\n",
    "    # define a model with a list of two inputs\n",
    "    model = Model(inputs=[def_input, word_input], outputs=output)\n",
    "    return model"
   ]
  },
  {
   "cell_type": "code",
   "execution_count": null,
   "metadata": {},
   "outputs": [],
   "source": [
    "import tensorflow as tf\n",
    "def predict(py_list):\n",
    "    return model.predict(tf.convert_to_tensor(py_list))\n",
    "    "
   ]
  },
  {
   "cell_type": "code",
   "execution_count": 53,
   "metadata": {},
   "outputs": [],
   "source": [
    "df['predictions'] = df.apply(lambda row: model.predict(tf.reshape(tf.convert_to_tensor(row['context_word_embeddings']),(1,-1))),axis=1)"
   ]
  },
  {
   "cell_type": "code",
   "execution_count": null,
   "metadata": {},
   "outputs": [],
   "source": [
    "model.evaluate(df_test_feat.values,df_test_lable.values)"
   ]
  },
  {
   "cell_type": "code",
   "execution_count": null,
   "metadata": {},
   "outputs": [],
   "source": [
    "df.to_csv('./newpredicitons_4_last_layer_average', encoding='utf-8', index=False)"
   ]
  },
  {
   "cell_type": "code",
   "execution_count": 54,
   "metadata": {},
   "outputs": [],
   "source": [
    "df[\"ID\"] = df.index+1 "
   ]
  },
  {
   "cell_type": "code",
   "execution_count": 71,
   "metadata": {},
   "outputs": [],
   "source": [
    "from sklearn.metrics import mean_squared_error\n",
    "df_temp = df.copy()\n",
    "def mse(w_row,df_temp):\n",
    "    df_temp['mse']=df_temp.apply(lambda row: mean_squared_error(w_row['predictions'][0],row['def_embeddings']),axis=1)\n",
    "    df_temp = df_temp.sort_values(by=['mse'])\n",
    "    top10 = list(df_temp['ID'][-99:])\n",
    "    top3 = list(df_temp['ID'][-3:])\n",
    "    top1 = list(df_temp['ID'][-1:])\n",
    "    w_row['top10'] = top10\n",
    "    w_row['top3'] = top3\n",
    "    w_row['top1'] = top1\n",
    "    if w_row['ID'] in top10:\n",
    "        w_row['in_top10'] = 1\n",
    "    else:\n",
    "        w_row['in_top10'] = 0\n",
    "    if w_row['ID'] in top3:\n",
    "        w_row['in_top3'] = 1\n",
    "    else:\n",
    "        w_row['in_top3'] = 0\n",
    "    if w_row['ID'] in top1:\n",
    "        w_row['in_top1'] = 1\n",
    "    else:\n",
    "        w_row['in_top1'] = 0\n",
    "    return w_row\n",
    "df_new = df.apply(lambda row:mse(row,df_temp) ,axis=1)"
   ]
  },
  {
   "cell_type": "code",
   "execution_count": 75,
   "metadata": {},
   "outputs": [
    {
     "data": {
      "text/plain": [
       "(1, 3, 99)"
      ]
     },
     "execution_count": 75,
     "metadata": {},
     "output_type": "execute_result"
    }
   ],
   "source": [
    "df_new['in_top1'].sum(), df_new['in_top3'].sum(), df_new['in_top10'].sum()"
   ]
  },
  {
   "cell_type": "code",
   "execution_count": 78,
   "metadata": {},
   "outputs": [
    {
     "data": {
      "text/html": [
       "<div>\n",
       "<style scoped>\n",
       "    .dataframe tbody tr th:only-of-type {\n",
       "        vertical-align: middle;\n",
       "    }\n",
       "\n",
       "    .dataframe tbody tr th {\n",
       "        vertical-align: top;\n",
       "    }\n",
       "\n",
       "    .dataframe thead th {\n",
       "        text-align: right;\n",
       "    }\n",
       "</style>\n",
       "<table border=\"1\" class=\"dataframe\">\n",
       "  <thead>\n",
       "    <tr style=\"text-align: right;\">\n",
       "      <th></th>\n",
       "      <th>word</th>\n",
       "      <th>def</th>\n",
       "      <th>quran_ex</th>\n",
       "      <th>example</th>\n",
       "      <th>def_tokenized</th>\n",
       "      <th>choosed_example</th>\n",
       "      <th>example_tokenized</th>\n",
       "      <th>word_stemed</th>\n",
       "      <th>word_index</th>\n",
       "      <th>context_word_embeddings</th>\n",
       "      <th>def_embeddings</th>\n",
       "      <th>predictions</th>\n",
       "      <th>ID</th>\n",
       "      <th>top10</th>\n",
       "      <th>top3</th>\n",
       "      <th>top1</th>\n",
       "      <th>in_top10</th>\n",
       "      <th>in_top3</th>\n",
       "      <th>in_top1</th>\n",
       "    </tr>\n",
       "  </thead>\n",
       "  <tbody>\n",
       "    <tr>\n",
       "      <td>1588</td>\n",
       "      <td>إلى</td>\n",
       "      <td>:-  1 - حرف جر يفيد انتهاء الغاية الزمانية أ...</td>\n",
       "      <td>ليجمعنكم إلى يوم القيامة</td>\n",
       "      <td>{ليجمعنكم إلى يوم القيامة} .6 - حرف جر بمعنى...</td>\n",
       "      <td>:- 1 - حرف جر يفيد انتهاء ال+ غاي +ة ال+ زماني...</td>\n",
       "      <td>ليجمعنكم إلى يوم القيامة</td>\n",
       "      <td>ليجمعنكم إلى يوم ال+ قيام +ة</td>\n",
       "      <td>إلى</td>\n",
       "      <td>1.0</td>\n",
       "      <td>[-4.5125, -2.1357, -1.8795, 0.7428, 3.4134, 0....</td>\n",
       "      <td>[0.8238, 0.0123, -0.1445, 0.089, -0.2883, -0.3...</td>\n",
       "      <td>[[-0.71472853, -3.4335928, -0.004001446, 1.661...</td>\n",
       "      <td>1589</td>\n",
       "      <td>[8092, 3573, 942, 2331, 8586, 8795, 9996, 9722...</td>\n",
       "      <td>[7835, 1772, 1589]</td>\n",
       "      <td>[1589]</td>\n",
       "      <td>1</td>\n",
       "      <td>1</td>\n",
       "      <td>1</td>\n",
       "    </tr>\n",
       "  </tbody>\n",
       "</table>\n",
       "</div>"
      ],
      "text/plain": [
       "      word                                                def  \\\n",
       "1588  إلى     :-  1 - حرف جر يفيد انتهاء الغاية الزمانية أ...   \n",
       "\n",
       "                        quran_ex  \\\n",
       "1588   ليجمعنكم إلى يوم القيامة    \n",
       "\n",
       "                                                example  \\\n",
       "1588    {ليجمعنكم إلى يوم القيامة} .6 - حرف جر بمعنى...   \n",
       "\n",
       "                                          def_tokenized  \\\n",
       "1588  :- 1 - حرف جر يفيد انتهاء ال+ غاي +ة ال+ زماني...   \n",
       "\n",
       "                 choosed_example             example_tokenized word_stemed  \\\n",
       "1588   ليجمعنكم إلى يوم القيامة   ليجمعنكم إلى يوم ال+ قيام +ة         إلى   \n",
       "\n",
       "      word_index                            context_word_embeddings  \\\n",
       "1588         1.0  [-4.5125, -2.1357, -1.8795, 0.7428, 3.4134, 0....   \n",
       "\n",
       "                                         def_embeddings  \\\n",
       "1588  [0.8238, 0.0123, -0.1445, 0.089, -0.2883, -0.3...   \n",
       "\n",
       "                                            predictions    ID  \\\n",
       "1588  [[-0.71472853, -3.4335928, -0.004001446, 1.661...  1589   \n",
       "\n",
       "                                                  top10                top3  \\\n",
       "1588  [8092, 3573, 942, 2331, 8586, 8795, 9996, 9722...  [7835, 1772, 1589]   \n",
       "\n",
       "        top1  in_top10  in_top3  in_top1  \n",
       "1588  [1589]         1        1        1  "
      ]
     },
     "execution_count": 78,
     "metadata": {},
     "output_type": "execute_result"
    }
   ],
   "source": [
    "df_new[df_new.in_top1==1]"
   ]
  },
  {
   "cell_type": "code",
   "execution_count": 81,
   "metadata": {},
   "outputs": [
    {
     "data": {
      "text/plain": [
       "100"
      ]
     },
     "execution_count": 81,
     "metadata": {},
     "output_type": "execute_result"
    }
   ],
   "source": [
    "df_new['in_top1'].count()"
   ]
  },
  {
   "cell_type": "code",
   "execution_count": 82,
   "metadata": {},
   "outputs": [
    {
     "name": "stdout",
     "output_type": "stream",
     "text": [
      "top1  0.01\n",
      "top 3  0.03\n",
      "top10  0.99\n"
     ]
    }
   ],
   "source": [
    "\n",
    "print('top1 ',str(df_new['in_top1'].sum()/df_new['in_top1'].count())) \n",
    "print('top 3 ',str(df_new['in_top3'].sum()/df_new['in_top1'].count()))\n",
    "print('top10 ',str(df_new['in_top10'].sum()/df_new['in_top1'].count()))"
   ]
  },
  {
   "cell_type": "code",
   "execution_count": 12,
   "metadata": {},
   "outputs": [],
   "source": [
    "import pandas as pd"
   ]
  },
  {
   "cell_type": "code",
   "execution_count": 17,
   "metadata": {},
   "outputs": [],
   "source": [
    "df_pra = pd.read_parquet('parquet_Df')"
   ]
  },
  {
   "cell_type": "code",
   "execution_count": 18,
   "metadata": {},
   "outputs": [
    {
     "data": {
      "text/plain": [
       "' / عرض لـ يعرض ، عرضا وعروضا ، فهو عارض ، والمفعول معروض :-  • عرض الموضوع/ عرض الموضوع عليه/ عرض الموضوع له بسطه وطرحه ليطلعه عليه، أراه إياه :- - { } :- • عرض الكتاب: قرأه عن ظهر قلب. • عرض سيارته للبيع: أظهرها، طرحها لذوي الرغبة ليشتروها :- { } .• عرض عليه أن يفعل شيئا: أبدى استعداده لفعله :- - عرض عليه فكرة المشروع، - عرض عليه العمل معه.• عرض له أمر مستعجل: ظهر عليه وبدا ولم يدم? عرض له رأي: خطر له، - عرض له عارض: منعه مانع.'"
      ]
     },
     "execution_count": 18,
     "metadata": {},
     "output_type": "execute_result"
    }
   ],
   "source": [
    "df_pra['def'].iloc[0]"
   ]
  },
  {
   "cell_type": "code",
   "execution_count": 19,
   "metadata": {},
   "outputs": [
    {
     "data": {
      "text/html": [
       "<div>\n",
       "<style scoped>\n",
       "    .dataframe tbody tr th:only-of-type {\n",
       "        vertical-align: middle;\n",
       "    }\n",
       "\n",
       "    .dataframe tbody tr th {\n",
       "        vertical-align: top;\n",
       "    }\n",
       "\n",
       "    .dataframe thead th {\n",
       "        text-align: right;\n",
       "    }\n",
       "</style>\n",
       "<table border=\"1\" class=\"dataframe\">\n",
       "  <thead>\n",
       "    <tr style=\"text-align: right;\">\n",
       "      <th></th>\n",
       "      <th>word</th>\n",
       "      <th>def</th>\n",
       "      <th>word_quran_ex</th>\n",
       "      <th>ex1</th>\n",
       "      <th>ex2</th>\n",
       "      <th>ex3</th>\n",
       "    </tr>\n",
       "  </thead>\n",
       "  <tbody>\n",
       "    <tr>\n",
       "      <td>0</td>\n",
       "      <td>عرض</td>\n",
       "      <td>/ عرض لـ يعرض ، عرضا وعروضا ، فهو عارض ، والم...</td>\n",
       "      <td>[وعلم ءادم الأسماء كلها ثم عرضهم على الملائكة,...</td>\n",
       "      <td>[عرض خطة بحثه، , عرض عليه أن يحمل الحقيبة عنه، ]</td>\n",
       "      <td>[]</td>\n",
       "      <td>[]</td>\n",
       "    </tr>\n",
       "    <tr>\n",
       "      <td>1</td>\n",
       "      <td>عرض</td>\n",
       "      <td>/ عرض بـ / عرض لـ يعرض ، تعريضا ، فهو معرض ، ...</td>\n",
       "      <td>[ولا جناح عليكم فيما عرضتم به من خطبة النساء]</td>\n",
       "      <td>[عرضت مالك للهلاك، , عرض العاملون في كلامهم مع...</td>\n",
       "      <td>[:-عرض الخياط الثوب.•]</td>\n",
       "      <td>[:-لا تعرض بزملائك فلست أفضل منهم.]</td>\n",
       "    </tr>\n",
       "    <tr>\n",
       "      <td>2</td>\n",
       "      <td>استعرض</td>\n",
       "      <td>يستعرض ، استعراضا ، فهو مستعرض ، والمفعول مست...</td>\n",
       "      <td>[]</td>\n",
       "      <td>[استعرض الأخطاء/ الحقائق/ المشروع/ ذكرياته/ ال...</td>\n",
       "      <td>[:-استعرض البضاعة المستوردة.•]</td>\n",
       "      <td>[:-استعرض الرئيس مع الحكومة خطط التنمية.]</td>\n",
       "    </tr>\n",
       "    <tr>\n",
       "      <td>3</td>\n",
       "      <td>عارض</td>\n",
       "      <td>:-  جمع عارضون وعوارض (لغير العاقل)، مؤ عارضة...</td>\n",
       "      <td>[قالوا هذا عارض ممطرنا]</td>\n",
       "      <td>[عرض له عارض منعه من الحضور، , خلاف/ حب عارض، ]</td>\n",
       "      <td>[]</td>\n",
       "      <td>[]</td>\n",
       "    </tr>\n",
       "    <tr>\n",
       "      <td>4</td>\n",
       "      <td>عارض</td>\n",
       "      <td>/ عارض في يعارض ، معارضة ، فهو معارض ، والمفع...</td>\n",
       "      <td>[]</td>\n",
       "      <td>[فلان يعارض القرار بشدة، , معارضة الشعراء ممتع...</td>\n",
       "      <td>[]</td>\n",
       "      <td>[]</td>\n",
       "    </tr>\n",
       "    <tr>\n",
       "      <td>5</td>\n",
       "      <td>اعترض</td>\n",
       "      <td>/ اعترض على يعترض ، اعتراضا ، فهو معترض ، وال...</td>\n",
       "      <td>[]</td>\n",
       "      <td>[هناك شيء اعترض مجرى الماء، , اعترضت على الإجر...</td>\n",
       "      <td>[]</td>\n",
       "      <td>[]</td>\n",
       "    </tr>\n",
       "    <tr>\n",
       "      <td>6</td>\n",
       "      <td>تعرض</td>\n",
       "      <td>إلى / تعرض لـ يتعرض ، تعرضا ، فهو متعرض ، وال...</td>\n",
       "      <td>[]</td>\n",
       "      <td>[تعرض لخصمه في الطريق، ]</td>\n",
       "      <td>[]</td>\n",
       "      <td>[]</td>\n",
       "    </tr>\n",
       "    <tr>\n",
       "      <td>7</td>\n",
       "      <td>عارضة</td>\n",
       "      <td>:-  جمع عارضات وعوارض: 1 - صيغة المؤنث لفاعل ...</td>\n",
       "      <td>[]</td>\n",
       "      <td>[]</td>\n",
       "      <td>[:-عارضة وجهه مشرقة.•, :-لابد أن يكون لعارضة ا...</td>\n",
       "      <td>[]</td>\n",
       "    </tr>\n",
       "    <tr>\n",
       "      <td>8</td>\n",
       "      <td>أعرض</td>\n",
       "      <td>/ أعرض عن يعرض ، إعراضا ، فهو معرض ، والمفعول...</td>\n",
       "      <td>[يوسف أعرض عن هذا, وإن امرأة خافت من بعلها نشو...</td>\n",
       "      <td>[ {يوسف أعرض عن هذا} ]</td>\n",
       "      <td>[]</td>\n",
       "      <td>[]</td>\n",
       "    </tr>\n",
       "    <tr>\n",
       "      <td>9</td>\n",
       "      <td>تعارض</td>\n",
       "      <td>يتعارض ، تعارضا ، فهو متعارض :-  • تعارضت الأ...</td>\n",
       "      <td>[]</td>\n",
       "      <td>[هذا العمل يتعارض مع القانون، ]</td>\n",
       "      <td>[:-تعارضت آراؤهم.•]</td>\n",
       "      <td>[]</td>\n",
       "    </tr>\n",
       "  </tbody>\n",
       "</table>\n",
       "</div>"
      ],
      "text/plain": [
       "     word                                                def  \\\n",
       "0     عرض   / عرض لـ يعرض ، عرضا وعروضا ، فهو عارض ، والم...   \n",
       "1     عرض   / عرض بـ / عرض لـ يعرض ، تعريضا ، فهو معرض ، ...   \n",
       "2  استعرض   يستعرض ، استعراضا ، فهو مستعرض ، والمفعول مست...   \n",
       "3    عارض   :-  جمع عارضون وعوارض (لغير العاقل)، مؤ عارضة...   \n",
       "4    عارض   / عارض في يعارض ، معارضة ، فهو معارض ، والمفع...   \n",
       "5   اعترض   / اعترض على يعترض ، اعتراضا ، فهو معترض ، وال...   \n",
       "6    تعرض   إلى / تعرض لـ يتعرض ، تعرضا ، فهو متعرض ، وال...   \n",
       "7   عارضة   :-  جمع عارضات وعوارض: 1 - صيغة المؤنث لفاعل ...   \n",
       "8    أعرض   / أعرض عن يعرض ، إعراضا ، فهو معرض ، والمفعول...   \n",
       "9   تعارض   يتعارض ، تعارضا ، فهو متعارض :-  • تعارضت الأ...   \n",
       "\n",
       "                                       word_quran_ex  \\\n",
       "0  [وعلم ءادم الأسماء كلها ثم عرضهم على الملائكة,...   \n",
       "1      [ولا جناح عليكم فيما عرضتم به من خطبة النساء]   \n",
       "2                                                 []   \n",
       "3                            [قالوا هذا عارض ممطرنا]   \n",
       "4                                                 []   \n",
       "5                                                 []   \n",
       "6                                                 []   \n",
       "7                                                 []   \n",
       "8  [يوسف أعرض عن هذا, وإن امرأة خافت من بعلها نشو...   \n",
       "9                                                 []   \n",
       "\n",
       "                                                 ex1  \\\n",
       "0   [عرض خطة بحثه، , عرض عليه أن يحمل الحقيبة عنه، ]   \n",
       "1  [عرضت مالك للهلاك، , عرض العاملون في كلامهم مع...   \n",
       "2  [استعرض الأخطاء/ الحقائق/ المشروع/ ذكرياته/ ال...   \n",
       "3    [عرض له عارض منعه من الحضور، , خلاف/ حب عارض، ]   \n",
       "4  [فلان يعارض القرار بشدة، , معارضة الشعراء ممتع...   \n",
       "5  [هناك شيء اعترض مجرى الماء، , اعترضت على الإجر...   \n",
       "6                           [تعرض لخصمه في الطريق، ]   \n",
       "7                                                 []   \n",
       "8                             [ {يوسف أعرض عن هذا} ]   \n",
       "9                    [هذا العمل يتعارض مع القانون، ]   \n",
       "\n",
       "                                                 ex2  \\\n",
       "0                                                 []   \n",
       "1                             [:-عرض الخياط الثوب.•]   \n",
       "2                     [:-استعرض البضاعة المستوردة.•]   \n",
       "3                                                 []   \n",
       "4                                                 []   \n",
       "5                                                 []   \n",
       "6                                                 []   \n",
       "7  [:-عارضة وجهه مشرقة.•, :-لابد أن يكون لعارضة ا...   \n",
       "8                                                 []   \n",
       "9                                [:-تعارضت آراؤهم.•]   \n",
       "\n",
       "                                         ex3  \n",
       "0                                         []  \n",
       "1        [:-لا تعرض بزملائك فلست أفضل منهم.]  \n",
       "2  [:-استعرض الرئيس مع الحكومة خطط التنمية.]  \n",
       "3                                         []  \n",
       "4                                         []  \n",
       "5                                         []  \n",
       "6                                         []  \n",
       "7                                         []  \n",
       "8                                         []  \n",
       "9                                         []  "
      ]
     },
     "execution_count": 19,
     "metadata": {},
     "output_type": "execute_result"
    }
   ],
   "source": [
    "df_pra"
   ]
  },
  {
   "cell_type": "code",
   "execution_count": null,
   "metadata": {},
   "outputs": [],
   "source": []
  },
  {
   "cell_type": "code",
   "execution_count": null,
   "metadata": {},
   "outputs": [],
   "source": []
  }
 ],
 "metadata": {
  "kernelspec": {
   "display_name": "Python 3",
   "language": "python",
   "name": "python3"
  },
  "language_info": {
   "codemirror_mode": {
    "name": "ipython",
    "version": 3
   },
   "file_extension": ".py",
   "mimetype": "text/x-python",
   "name": "python",
   "nbconvert_exporter": "python",
   "pygments_lexer": "ipython3",
   "version": "3.7.4"
  }
 },
 "nbformat": 4,
 "nbformat_minor": 2
}
