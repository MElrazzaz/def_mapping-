{
 "cells": [
  {
   "cell_type": "code",
   "execution_count": null,
   "metadata": {
    "colab": {
     "base_uri": "https://localhost:8080/",
     "height": 1000
    },
    "colab_type": "code",
    "id": "N-FLoZGM2tjC",
    "outputId": "ce8637c8-1d03-4a90-873a-847b216a736b"
   },
   "outputs": [],
   "source": [
    "!pip install transformers\n",
    "!git clone https://github.com/aub-mind/arabert\n",
    "!pip install pyarabic\n",
    "!pip install farasapy"
   ]
  },
  {
   "cell_type": "code",
   "execution_count": 13,
   "metadata": {
    "colab": {
     "base_uri": "https://localhost:8080/",
     "height": 385,
     "referenced_widgets": [
      "854fc85905904877bdd188392584a0eb",
      "1833452be0b04736a7f1fa8f2d9cb4da",
      "79be542f4c144beebdc038976bcf9cc8",
      "e06f6ef13f5c46ef9cdad1901605a159",
      "fb12ee856871474d99492064c1b1a814",
      "074d994a7d8642e483c0a011fd9b7b45",
      "b086bc6629684e7e91b377bc681976eb",
      "bcfed4bb69f14a08ab2afaf1c2b70b5c",
      "9217e1d8d2424d3a85cd38555a18bf59",
      "3c585aefa1b54066bcd2a7a931ac5a1c",
      "1a7fff9d58ad4a2ca7090bbab5b21733",
      "35835ae44d19486cba8c34a0c488561d",
      "8fe725f0fa3140538a5df031d1785643",
      "0c9e747cfd004bd1b93fc02fa04a54cf",
      "81ce4cb0ea0c46dbb2c63466fde2a4eb",
      "d756fbf4ba1d4c2f9bd1ca1d5359d923",
      "a87dd1736ddb45aba797e15f44c8776b",
      "78e8617af99f4175923b83f99177fb46",
      "eef9894d92044e558cfaf45ff2b3e66a",
      "0e991a2df4584261a64af02637279af6",
      "781ba8c7f77f49718a35d4ab918ae806",
      "22fa6ae514134836975907afb146de1d",
      "8673398ee3184573953cfd042c00c6f6",
      "7e3ad5b7e8484d309999b43c8fd56322"
     ]
    },
    "colab_type": "code",
    "id": "ieh6jjDVwAMP",
    "outputId": "a9c20bd0-4a7d-494a-d3d6-8c275284a7c4"
   },
   "outputs": [
    {
     "ename": "NameError",
     "evalue": "name 'transformers' is not defined",
     "output_type": "error",
     "traceback": [
      "\u001b[1;31m---------------------------------------------------------------------------\u001b[0m",
      "\u001b[1;31mNameError\u001b[0m                                 Traceback (most recent call last)",
      "\u001b[1;32m<ipython-input-13-8aeca4e713c9>\u001b[0m in \u001b[0;36m<module>\u001b[1;34m\u001b[0m\n\u001b[0;32m     11\u001b[0m     never_split=never_split_tokens)\n\u001b[0;32m     12\u001b[0m \u001b[0marabert_model\u001b[0m \u001b[1;33m=\u001b[0m \u001b[0mAutoModel\u001b[0m\u001b[1;33m.\u001b[0m\u001b[0mfrom_pretrained\u001b[0m\u001b[1;33m(\u001b[0m\u001b[1;34m\"aubmindlab/bert-base-arabert\"\u001b[0m\u001b[1;33m)\u001b[0m \u001b[1;31m#you can replace the path here with the folder containing the the pytorch model\u001b[0m\u001b[1;33m\u001b[0m\u001b[1;33m\u001b[0m\u001b[0m\n\u001b[1;32m---> 13\u001b[1;33m \u001b[0mtransformers\u001b[0m\u001b[1;33m.\u001b[0m\u001b[0mfrom_pretrained\u001b[0m\u001b[1;33m(\u001b[0m\u001b[1;34m\"aubmindlab/bert-base-arabert\"\u001b[0m\u001b[1;33m)\u001b[0m\u001b[1;33m\u001b[0m\u001b[1;33m\u001b[0m\u001b[0m\n\u001b[0m\u001b[0;32m     14\u001b[0m \u001b[0mfarasa_segmenter\u001b[0m \u001b[1;33m=\u001b[0m \u001b[0mFarasaSegmenter\u001b[0m\u001b[1;33m(\u001b[0m\u001b[0minteractive\u001b[0m\u001b[1;33m=\u001b[0m\u001b[1;32mTrue\u001b[0m\u001b[1;33m)\u001b[0m\u001b[1;33m\u001b[0m\u001b[1;33m\u001b[0m\u001b[0m\n",
      "\u001b[1;31mNameError\u001b[0m: name 'transformers' is not defined"
     ]
    }
   ],
   "source": [
    "from transformers import AutoTokenizer, AutoModel\n",
    "from arabert.preprocess_arabert import never_split_tokens, preprocess\n",
    "from farasa.segmenter import FarasaSegmenter\n",
    "\n",
    "import torch\n",
    "\n",
    "arabert_tokenizer = AutoTokenizer.from_pretrained(\n",
    "    \"aubmindlab/bert-base-arabert\",\n",
    "    do_lower_case=False,\n",
    "    do_basic_tokenize=True,\n",
    "    never_split=never_split_tokens)\n",
    "arabert_model = AutoModel.from_pretrained(\"aubmindlab/bert-base-arabert\") #you can replace the path here with the folder containing the the pytorch model\n",
    "\n",
    "farasa_segmenter = FarasaSegmenter(interactive=True)"
   ]
  },
  {
   "cell_type": "code",
   "execution_count": 2,
   "metadata": {
    "colab": {
     "base_uri": "https://localhost:8080/",
     "height": 68
    },
    "colab_type": "code",
    "id": "7nFgjN_KwSyQ",
    "outputId": "a8c7c48f-1fe5-4ffd-a73d-f9985c9e7ae5"
   },
   "outputs": [
    {
     "name": "stdout",
     "output_type": "stream",
     "text": [
      "الجو جميل اليوم\n",
      "---------------------\n",
      "ال+ جو جميل ال+ يوم\n"
     ]
    }
   ],
   "source": [
    "text= \"الجو جميل اليوم\"\n",
    "text_preprocessed = preprocess( text,\n",
    "                                do_farasa_tokenization = True,\n",
    "                                farasa = farasa_segmenter,\n",
    "                                use_farasapy = True) # if you want to use AraBERT v0.1 do_farasa_tokenization = False\n",
    "print(text)\n",
    "print(\"---------------------\")\n",
    "print(text_preprocessed)"
   ]
  },
  {
   "cell_type": "code",
   "execution_count": 3,
   "metadata": {
    "colab": {
     "base_uri": "https://localhost:8080/",
     "height": 51
    },
    "colab_type": "code",
    "id": "xfd4wszWwaxs",
    "outputId": "ca2b70bb-c70b-4a67-98c2-64db1b6edfb2"
   },
   "outputs": [
    {
     "name": "stdout",
     "output_type": "stream",
     "text": [
      "[29756, 3000, 516, 15724, 3000, 7447, 29758]\n",
      "['[CLS]', 'ال+', 'جو', 'جميل', 'ال+', 'يوم', '[SEP]']\n"
     ]
    }
   ],
   "source": [
    "arabert_input = arabert_tokenizer.encode(text_preprocessed,add_special_tokens=True)\n",
    "print(arabert_input)\n",
    "print(arabert_tokenizer.convert_ids_to_tokens(arabert_input))\n",
    "# you should ignore the fisrt and the last embeddings"
   ]
  },
  {
   "cell_type": "code",
   "execution_count": 4,
   "metadata": {
    "colab": {
     "base_uri": "https://localhost:8080/",
     "height": 34
    },
    "colab_type": "code",
    "id": "zXQ-bhV8x035",
    "outputId": "548a5be2-0419-4b1a-dccc-b871981edd7a"
   },
   "outputs": [
    {
     "name": "stdout",
     "output_type": "stream",
     "text": [
      "tensor([[29756,  3000,   516, 15724,  3000,  7447, 29758]])\n"
     ]
    }
   ],
   "source": [
    "tensor_input_ids = torch.tensor(arabert_input).unsqueeze(0)\n",
    "print(tensor_input_ids)"
   ]
  },
  {
   "cell_type": "code",
   "execution_count": 5,
   "metadata": {
    "colab": {},
    "colab_type": "code",
    "id": "kH6DquqBxGIi"
   },
   "outputs": [],
   "source": [
    "output = arabert_model(tensor_input_ids)\n"
   ]
  },
  {
   "cell_type": "code",
   "execution_count": 11,
   "metadata": {},
   "outputs": [
    {
     "ename": "IndexError",
     "evalue": "tuple index out of range",
     "output_type": "error",
     "traceback": [
      "\u001b[1;31m---------------------------------------------------------------------------\u001b[0m",
      "\u001b[1;31mIndexError\u001b[0m                                Traceback (most recent call last)",
      "\u001b[1;32m<ipython-input-11-a9a681061c0f>\u001b[0m in \u001b[0;36m<module>\u001b[1;34m\u001b[0m\n\u001b[1;32m----> 1\u001b[1;33m \u001b[0moutput\u001b[0m\u001b[1;33m[\u001b[0m\u001b[1;36m2\u001b[0m\u001b[1;33m]\u001b[0m\u001b[1;33m\u001b[0m\u001b[1;33m\u001b[0m\u001b[0m\n\u001b[0m",
      "\u001b[1;31mIndexError\u001b[0m: tuple index out of range"
     ]
    }
   ],
   "source": []
  },
  {
   "cell_type": "code",
   "execution_count": 9,
   "metadata": {},
   "outputs": [
    {
     "data": {
      "text/plain": [
       "torch.Size([1, 7, 768])"
      ]
     },
     "execution_count": 9,
     "metadata": {},
     "output_type": "execute_result"
    }
   ],
   "source": [
    "output[0].shape"
   ]
  },
  {
   "cell_type": "code",
   "execution_count": null,
   "metadata": {
    "colab": {
     "base_uri": "https://localhost:8080/",
     "height": 34
    },
    "colab_type": "code",
    "id": "HhuCCQgExQpv",
    "outputId": "e5bcc1ce-6515-4a32-cab3-68fc205143d9"
   },
   "outputs": [],
   "source": [
    "output[0].shape # batch_size x seq_len x emb_dim"
   ]
  },
  {
   "cell_type": "code",
   "execution_count": null,
   "metadata": {
    "colab": {},
    "colab_type": "code",
    "id": "l7D4sTFv0eHz"
   },
   "outputs": [],
   "source": [
    "embeddings = output[0][0][1:-1]"
   ]
  },
  {
   "cell_type": "code",
   "execution_count": null,
   "metadata": {
    "colab": {
     "base_uri": "https://localhost:8080/",
     "height": 136
    },
    "colab_type": "code",
    "id": "yg8vCudW1ftS",
    "outputId": "a20c7480-bb43-4e35-f5c6-6c943a85e68b"
   },
   "outputs": [],
   "source": [
    "print(embeddings.shape)\n",
    "print(embeddings)"
   ]
  },
  {
   "cell_type": "code",
   "execution_count": null,
   "metadata": {},
   "outputs": [],
   "source": [
    "import pandas as pd\n",
    "\n",
    "header_list = [\"word\", \"body\", \"def\",'quran_ex','example']\n",
    "\n",
    "\n",
    "df = pd.read_csv(r\"C:\\Users\\me250041\\OneDrive - Teradata\\Desktop\\master\\scrapping\\data-factory\\new_scrapping_all_out.txt\",delimiter='$',encoding='utf-8',names=header_list)\n",
    "\n",
    "\n",
    "df[['word','def']]"
   ]
  },
  {
   "cell_type": "code",
   "execution_count": null,
   "metadata": {},
   "outputs": [],
   "source": [
    "def farasa_segmenting(text):\n",
    "    text_preprocessed = preprocess( text,\n",
    "                                do_farasa_tokenization = True,\n",
    "                                farasa = farasa_segmenter,\n",
    "                                use_farasapy = True)\n",
    "    return text_preprocessed\n"
   ]
  },
  {
   "cell_type": "code",
   "execution_count": null,
   "metadata": {},
   "outputs": [],
   "source": [
    "df['def_tokenized']=df.apply(lambda row: farasa_segmenting(row['def']),axis=1)"
   ]
  },
  {
   "cell_type": "code",
   "execution_count": null,
   "metadata": {},
   "outputs": [],
   "source": [
    "df"
   ]
  },
  {
   "cell_type": "code",
   "execution_count": null,
   "metadata": {},
   "outputs": [],
   "source": [
    "output[1].shape\n"
   ]
  },
  {
   "cell_type": "code",
   "execution_count": null,
   "metadata": {},
   "outputs": [],
   "source": [
    "def segmenting_examples(quran_ex,ex):\n",
    "    if quran_ex.strip() != \"\":\n",
    "        return farasa_segmenting(quran_ex)\n",
    "    elif ex.strip() != '':\n",
    "        return farasa_segmenting(ex)\n",
    "    else:\n",
    "        return None"
   ]
  },
  {
   "cell_type": "code",
   "execution_count": null,
   "metadata": {},
   "outputs": [],
   "source": [
    "def choose_example(quran_ex,ex):\n",
    "    if quran_ex.strip() != \"\":\n",
    "        return quran_ex\n",
    "    elif ex.strip() != '':\n",
    "        return ex\n",
    "    else:\n",
    "        return None"
   ]
  },
  {
   "cell_type": "code",
   "execution_count": null,
   "metadata": {},
   "outputs": [],
   "source": [
    "df['example_tokenized']=df.apply(lambda row: segmenting_examples(row['quran_ex'],row['example']),axis=1)"
   ]
  },
  {
   "cell_type": "code",
   "execution_count": null,
   "metadata": {},
   "outputs": [],
   "source": [
    "df['choosed_Example']=df.apply(lambda row: choose_example(row['quran_ex'],row['example']),axis=1)"
   ]
  },
  {
   "cell_type": "code",
   "execution_count": null,
   "metadata": {},
   "outputs": [],
   "source": [
    "import re\n",
    "from farasa.stemmer import FarasaStemmer\n",
    "FarasaStemmer = FarasaStemmer(interactive=True)\n"
   ]
  },
  {
   "cell_type": "code",
   "execution_count": null,
   "metadata": {},
   "outputs": [],
   "source": [
    "def segmenting_word(word):\n",
    "   \n",
    "    seg = farasa_segmenting(word)\n",
    "    seg_list= re.split('\\s+',seg)\n",
    "    for s in seg_list:\n",
    "        if '+' not in s:\n",
    "            return s\n",
    "    \n",
    "    max_i= -1\n",
    "    max_l= -1\n",
    "    i = 0\n",
    "    for s in seg_list:\n",
    "        if len(s)>max_l:\n",
    "            max_l = len(s)\n",
    "            max_i = i\n",
    "        i += 1\n",
    "    return seg_list[max_i]"
   ]
  },
  {
   "cell_type": "code",
   "execution_count": null,
   "metadata": {},
   "outputs": [],
   "source": [
    "df['word_stemed']=df.apply(lambda row: FarasaStemmer.stem(row['word']),axis=1)"
   ]
  },
  {
   "cell_type": "code",
   "execution_count": null,
   "metadata": {},
   "outputs": [],
   "source": [
    "df['word_segmented']=df.apply(lambda row:segmenting_word(row['word']),axis=1)"
   ]
  },
  {
   "cell_type": "code",
   "execution_count": null,
   "metadata": {},
   "outputs": [],
   "source": [
    "df"
   ]
  },
  {
   "cell_type": "code",
   "execution_count": null,
   "metadata": {},
   "outputs": [],
   "source": [
    "def example_encoding(example_tokenized,example,word,segmented_word):\n",
    "    word = word.strip()\n",
    "    example_tokenized = str(example_tokenized)\n",
    "    word = str(word)\n",
    "    example_tokenized = re.sub('\\+',' ',example_tokenized)\n",
    "    example_tokenized = re.sub('\\s+',' ',example_tokenized)\n",
    "    example_tokenized_list = re.split('\\s+',example_tokenized)\n",
    "    x = -1\n",
    "    if word not in example_tokenized_list:\n",
    "      \n",
    "\n",
    "        if segmented_word in example_tokenized_list:\n",
    "            x = example_tokenized_list.index(segmented_word)\n",
    "      \n",
    "        elif word[-1] in ['ه','ة']:\n",
    "            sub_word = word[:-1]\n",
    "            if sub_word in example_tokenized_list:\n",
    "                x = example_tokenized_list.index(sub_word)\n",
    "        elif segmented_word[-1] in ['ه','ة']:\n",
    "            sub_word = segmented_word[:-1]\n",
    "            if sub_word in example_tokenized_list:\n",
    "                x = example_tokenized_list.index(sub_word)\n",
    "        else:\n",
    "            for i in range(len(example_tokenized_list)):\n",
    "                if word in example_tokenized_list[i]:\n",
    "                    x = i\n",
    "                    break\n",
    "        \n",
    "        if x ==-1:\n",
    "            return None\n",
    "                    \n",
    "        \n",
    "    else:\n",
    "        x = example_tokenized_list.index(word)\n",
    "    arabert_input = arabert_tokenizer.encode(example_tokenized,add_special_tokens=True)\n",
    "#     print(arabert_input)\n",
    "#     print(arabert_tokenizer.convert_ids_to_tokens(arabert_input))\n",
    "    tensor_input_ids = torch.tensor(arabert_input).unsqueeze(0)\n",
    "    output = arabert_model(tensor_input_ids)\n",
    "    \n",
    "    embeddings = output[0][0][1:-1]\n",
    "    \n",
    "    return embeddings[x].tolist()\n",
    "# you should ignore the fisrt and the last embeddings\n",
    "    "
   ]
  },
  {
   "cell_type": "code",
   "execution_count": null,
   "metadata": {},
   "outputs": [],
   "source": [
    "output[0].shape"
   ]
  },
  {
   "cell_type": "code",
   "execution_count": null,
   "metadata": {},
   "outputs": [],
   "source": [
    "output[1].shape"
   ]
  },
  {
   "cell_type": "code",
   "execution_count": null,
   "metadata": {},
   "outputs": [],
   "source": []
  },
  {
   "cell_type": "code",
   "execution_count": null,
   "metadata": {},
   "outputs": [],
   "source": [
    "df['context_word_embeddings'] = df.apply(lambda row: example_encoding(row['example_tokenized'],row['choosed_Example'],row['word'],row['word_segmented']),axis=1)"
   ]
  },
  {
   "cell_type": "code",
   "execution_count": null,
   "metadata": {},
   "outputs": [],
   "source": [
    "def def_encoding(defnition):\n",
    "    \n",
    "    defnition = str(defnition)\n",
    "    definition_splited = re.split('\\s+',defnition)\n",
    "    print(len(definition_splited))\n",
    "    if len(definition_splited)>450:\n",
    "        print(defnition)\n",
    "        return None\n",
    "    defnition = re.sub('\\s+',' ',defnition)\n",
    "#     print('definition: ',defnition)\n",
    "    arabert_input = arabert_tokenizer.encode(defnition,add_special_tokens=True)\n",
    "#     print(arabert_input)\n",
    "#     print(arabert_tokenizer.convert_ids_to_tokens(arabert_input))\n",
    "    tensor_input_ids = torch.tensor(arabert_input).unsqueeze(0)\n",
    "    output = arabert_model(tensor_input_ids)\n",
    "    \n",
    "    embeddings = output[1]\n",
    "    \n",
    "    return embeddings.tolist()"
   ]
  },
  {
   "cell_type": "code",
   "execution_count": null,
   "metadata": {},
   "outputs": [],
   "source": [
    "df"
   ]
  },
  {
   "cell_type": "code",
   "execution_count": null,
   "metadata": {},
   "outputs": [],
   "source": [
    "df['def_embeddings']=df.apply(lambda row: def_encoding(row['def_tokenized']),axis=1)"
   ]
  },
  {
   "cell_type": "code",
   "execution_count": null,
   "metadata": {},
   "outputs": [],
   "source": [
    "exists =df.dropna(subset=['context_word_embeddings'])\n"
   ]
  },
  {
   "cell_type": "code",
   "execution_count": null,
   "metadata": {},
   "outputs": [],
   "source": [
    "exists.count()"
   ]
  },
  {
   "cell_type": "code",
   "execution_count": null,
   "metadata": {
    "scrolled": true
   },
   "outputs": [],
   "source": [
    "exists"
   ]
  },
  {
   "cell_type": "code",
   "execution_count": null,
   "metadata": {},
   "outputs": [],
   "source": [
    "not_exist = df[ df['example_tokenized'].isnull()]"
   ]
  },
  {
   "cell_type": "code",
   "execution_count": null,
   "metadata": {},
   "outputs": [],
   "source": [
    "not_exist"
   ]
  },
  {
   "cell_type": "code",
   "execution_count": null,
   "metadata": {},
   "outputs": [],
   "source": []
  },
  {
   "cell_type": "code",
   "execution_count": null,
   "metadata": {},
   "outputs": [],
   "source": [
    "exists.to_csv('./exists.csv',encoding='utf-8',index=False)"
   ]
  },
  {
   "cell_type": "code",
   "execution_count": null,
   "metadata": {},
   "outputs": [],
   "source": [
    "df.to_csv('./df.csv',encoding='utf-8',index=False)"
   ]
  },
  {
   "cell_type": "code",
   "execution_count": null,
   "metadata": {},
   "outputs": [],
   "source": [
    "df2 =\"pd.read_csv('./df.csv')\""
   ]
  },
  {
   "cell_type": "code",
   "execution_count": 1,
   "metadata": {},
   "outputs": [],
   "source": [
    "import pandas as pd"
   ]
  },
  {
   "cell_type": "code",
   "execution_count": 2,
   "metadata": {},
   "outputs": [],
   "source": [
    "exists = pd.read_csv('./exists.csv',encoding='utf-8')"
   ]
  },
  {
   "cell_type": "code",
   "execution_count": 3,
   "metadata": {},
   "outputs": [
    {
     "data": {
      "text/html": [
       "<div>\n",
       "<style scoped>\n",
       "    .dataframe tbody tr th:only-of-type {\n",
       "        vertical-align: middle;\n",
       "    }\n",
       "\n",
       "    .dataframe tbody tr th {\n",
       "        vertical-align: top;\n",
       "    }\n",
       "\n",
       "    .dataframe thead th {\n",
       "        text-align: right;\n",
       "    }\n",
       "</style>\n",
       "<table border=\"1\" class=\"dataframe\">\n",
       "  <thead>\n",
       "    <tr style=\"text-align: right;\">\n",
       "      <th></th>\n",
       "      <th>word</th>\n",
       "      <th>body</th>\n",
       "      <th>def</th>\n",
       "      <th>quran_ex</th>\n",
       "      <th>example</th>\n",
       "      <th>def_tokenized</th>\n",
       "      <th>example_tokenized</th>\n",
       "      <th>context_word_embeddings</th>\n",
       "      <th>choosed_Example</th>\n",
       "      <th>word_segmented</th>\n",
       "      <th>word_stemed</th>\n",
       "      <th>def_embeddings</th>\n",
       "    </tr>\n",
       "  </thead>\n",
       "  <tbody>\n",
       "    <tr>\n",
       "      <td>0</td>\n",
       "      <td>عرض</td>\n",
       "      <td>عرض / عرض لـ يعرض  عرضا وعروضا  فهو عارض  وال...</td>\n",
       "      <td>/ عرض لـ يعرض  عرضا وعروضا  فهو عارض  والمفع...</td>\n",
       "      <td>وعرضنا جهنم يومئذ للكافرين عرضا</td>\n",
       "      <td>عرض خطة بحثه - {وعلم ءادم الأسماء كلها ثم عرض...</td>\n",
       "      <td>/ عرض ل+ يعرض عرض +ا و+ عروض +ا ف+ هو عارض و+ ...</td>\n",
       "      <td>و+ عرض +نا جهنم يومئذ ل+ ال+ كافر +ين عرض +ا</td>\n",
       "      <td>[0.08959540724754333, 0.2315646857023239, 0.19...</td>\n",
       "      <td>وعرضنا جهنم يومئذ للكافرين عرضا</td>\n",
       "      <td>عرض</td>\n",
       "      <td>عرض</td>\n",
       "      <td>[[-0.9497016072273254, 0.059308554977178574, -...</td>\n",
       "    </tr>\n",
       "    <tr>\n",
       "      <td>1</td>\n",
       "      <td>عرض</td>\n",
       "      <td>عرض / عرض بـ / عرض لـ يعرض  تعريضا  فهو معرض ...</td>\n",
       "      <td>/ عرض بـ / عرض لـ يعرض  تعريضا  فهو معرض  وا...</td>\n",
       "      <td>ولا جناح عليكم فيما عرضتم به من خطبة النساء</td>\n",
       "      <td>عرض الطريق جعلها عريضة واسعة</td>\n",
       "      <td>/ عرض ب+ / عرض ل+ يعرض تعريض +ا ف+ هو معرض و+ ...</td>\n",
       "      <td>و+ لا جناح علي +كم فيما عرضتم ب+ +ه من خطب +ة ...</td>\n",
       "      <td>[-0.13121910393238068, 0.08852916955947876, 0....</td>\n",
       "      <td>ولا جناح عليكم فيما عرضتم به من خطبة النساء</td>\n",
       "      <td>عرض</td>\n",
       "      <td>عرض</td>\n",
       "      <td>[[-0.8836850523948669, 0.05310528352856636, -0...</td>\n",
       "    </tr>\n",
       "    <tr>\n",
       "      <td>2</td>\n",
       "      <td>عرض</td>\n",
       "      <td>عرض يعرض  عرضا وعرضا وعراضة  فهو عريض :-   عر...</td>\n",
       "      <td>يعرض  عرضا وعرضا وعراضة  فهو عريض :- :-عريض ...</td>\n",
       "      <td></td>\n",
       "      <td>عرض الثوب تباعدت حاشيتاه واتسع عرضه خلاف طال</td>\n",
       "      <td>يعرض عرض +ا و+ عرض +ا و+ عراض +ة ف+ هو عريض :-...</td>\n",
       "      <td>عرض ال+ ثوب تباعد +ت حاشيتاه و+ اتسع عرض +ه خل...</td>\n",
       "      <td>[0.25407180190086365, 0.2322186827659607, 0.36...</td>\n",
       "      <td>عرض الثوب تباعدت حاشيتاه واتسع عرضه خلاف طال</td>\n",
       "      <td>عرض</td>\n",
       "      <td>عرض</td>\n",
       "      <td>[[0.046237848699092865, 0.024290665984153748, ...</td>\n",
       "    </tr>\n",
       "    <tr>\n",
       "      <td>3</td>\n",
       "      <td>عرض</td>\n",
       "      <td>عرض :-  جمع أعراض: 1 - اسم لما لا دوام له :-ه...</td>\n",
       "      <td>:-  جمع أعراض: 1 - اسم لما لا دوام له :-هذا ...</td>\n",
       "      <td>لو كان عرضا قريبا وسفرا قاصدا لاتبعوك</td>\n",
       "      <td>{تريدون عرض الدنيا والله يريد الآخرة} .3 - نفع</td>\n",
       "      <td>:- جمع أعراض : 1 - اسم ل+ ما لا دوام ل+ +ه :- ...</td>\n",
       "      <td>لو كان عرض +ا قريب +ا و+ سفر +ا قاصد +ا لاتبعوك</td>\n",
       "      <td>[-0.2285122275352478, -0.035964034497737885, 0...</td>\n",
       "      <td>لو كان عرضا قريبا وسفرا قاصدا لاتبعوك</td>\n",
       "      <td>عرض</td>\n",
       "      <td>عرض</td>\n",
       "      <td>[[-0.8642708659172058, 0.017605777829885483, 0...</td>\n",
       "    </tr>\n",
       "    <tr>\n",
       "      <td>4</td>\n",
       "      <td>عرض</td>\n",
       "      <td>عرض :-  جمع أعراض: ما يمدح ويذم من الإنسان في...</td>\n",
       "      <td>:-  جمع أعراض: ما يمدح ويذم من الإنسان في نف...</td>\n",
       "      <td></td>\n",
       "      <td>طعن في عرض فلان - لا تجرح أعراض الناس</td>\n",
       "      <td>:- جمع أعراض : ما يمدح و+ يذم من ال+ إنسان في ...</td>\n",
       "      <td>طعن في عرض فلان - لا تجرح أعراض ال+ ناس</td>\n",
       "      <td>[-0.23766028881072998, 0.37875208258628845, -0...</td>\n",
       "      <td>طعن في عرض فلان - لا تجرح أعراض الناس</td>\n",
       "      <td>عرض</td>\n",
       "      <td>عرض</td>\n",
       "      <td>[[-0.7836717963218689, 0.03240634873509407, 0....</td>\n",
       "    </tr>\n",
       "    <tr>\n",
       "      <td>...</td>\n",
       "      <td>...</td>\n",
       "      <td>...</td>\n",
       "      <td>...</td>\n",
       "      <td>...</td>\n",
       "      <td>...</td>\n",
       "      <td>...</td>\n",
       "      <td>...</td>\n",
       "      <td>...</td>\n",
       "      <td>...</td>\n",
       "      <td>...</td>\n",
       "      <td>...</td>\n",
       "      <td>...</td>\n",
       "    </tr>\n",
       "    <tr>\n",
       "      <td>10102</td>\n",
       "      <td>عيسى</td>\n",
       "      <td>عيسى :-  اسم السيد المسيح عليه السلام وهو اسم...</td>\n",
       "      <td>:-  اسم السيد المسيح عليه السلام وهو اسم عبر...</td>\n",
       "      <td>وقفينا بعيسى ابن مريم وءاتيناه الإنجيل</td>\n",
       "      <td></td>\n",
       "      <td>:- اسم ال+ سيد ال+ مسيح علي +ه ال+ سلام و+ هو ...</td>\n",
       "      <td>وقفي +نا ب+ عيسى ابن مريم وءاتيناه ال+ إنجيل</td>\n",
       "      <td>[0.28636354207992554, 0.37235116958618164, 0.2...</td>\n",
       "      <td>وقفينا بعيسى ابن مريم وءاتيناه الإنجيل</td>\n",
       "      <td>عيسى</td>\n",
       "      <td>عيسى</td>\n",
       "      <td>[[0.9598995447158813, 0.08008348196744919, 0.0...</td>\n",
       "    </tr>\n",
       "    <tr>\n",
       "      <td>10103</td>\n",
       "      <td>أخف</td>\n",
       "      <td>أخف يخف  أخفف / أخف  إخفافا  فهو مخف  والمفعو...</td>\n",
       "      <td>يخف  أخفف / أخف  إخفافا  فهو مخف  والمفعول م...</td>\n",
       "      <td></td>\n",
       "      <td>أخف الرجل قلل متاعه في السفر</td>\n",
       "      <td>يخف أخفف / أخف إخفاف +ا ف+ هو مخف و+ ال+ مفعول...</td>\n",
       "      <td>أخف ال+ رجل قلل متاع +ه في ال+ سفر</td>\n",
       "      <td>[0.013894468545913696, 0.05375600606203079, 0....</td>\n",
       "      <td>أخف الرجل قلل متاعه في السفر</td>\n",
       "      <td>أخف</td>\n",
       "      <td>أخف</td>\n",
       "      <td>[[0.16920645534992218, 0.09069421887397766, 0....</td>\n",
       "    </tr>\n",
       "    <tr>\n",
       "      <td>10104</td>\n",
       "      <td>كمبيالة</td>\n",
       "      <td>كمبيالة :-  (التجارة) وثيقة يتعهد فيها المدين...</td>\n",
       "      <td>:-  (التجارة) وثيقة يتعهد فيها المدين بأن يد...</td>\n",
       "      <td></td>\n",
       "      <td>تأخر عن دفع الكمبيالة</td>\n",
       "      <td>:- ( ال+ تجار +ة ) وثيق +ة يتعهد في +ها ال+ مد...</td>\n",
       "      <td>تأخر عن دفع ال+ كمبيال +ة</td>\n",
       "      <td>[-0.5766795873641968, -0.2895876169204712, 0.6...</td>\n",
       "      <td>تأخر عن دفع الكمبيالة</td>\n",
       "      <td>كمبيال</td>\n",
       "      <td>كمبيال</td>\n",
       "      <td>[[-0.9263273477554321, 0.08698716014623642, 0....</td>\n",
       "    </tr>\n",
       "    <tr>\n",
       "      <td>10105</td>\n",
       "      <td>صك</td>\n",
       "      <td>صك صككت  يصك  اصكك / صك  صكا  فهو صاك  والمفع...</td>\n",
       "      <td>صككت  يصك  اصكك / صك  صكا  فهو صاك  والمفعول...</td>\n",
       "      <td>فأقبلت امرأته في صرة فصكت وجهها</td>\n",
       "      <td>صك الشخص دفعه بقوة</td>\n",
       "      <td>صكك +ت يصك اصكك / صك صك +ا ف+ هو صاك و+ ال+ مف...</td>\n",
       "      <td>ف+ أقبل +ت امرأ +ت +ه في صر +ة ف+ صك +ت وجه +ها</td>\n",
       "      <td>[0.002387251704931259, -0.4425205886363983, 0....</td>\n",
       "      <td>فأقبلت امرأته في صرة فصكت وجهها</td>\n",
       "      <td>صك</td>\n",
       "      <td>صك</td>\n",
       "      <td>[[-0.9401823878288269, 0.06284652650356293, 0....</td>\n",
       "    </tr>\n",
       "    <tr>\n",
       "      <td>10106</td>\n",
       "      <td>أهدأ</td>\n",
       "      <td>أهدأ يهدئ  إهداء  فهو مهدئ  والمفعول مهدأ :- ...</td>\n",
       "      <td>يهدئ  إهداء  فهو مهدئ  والمفعول مهدأ :-   أه...</td>\n",
       "      <td></td>\n",
       "      <td>أهدأ شعلة الغاز</td>\n",
       "      <td>يهدئ إهداء ف+ هو مهدئ و+ ال+ مفعول مهدأ :- أهد...</td>\n",
       "      <td>أهدأ شعل +ة ال+ غاز</td>\n",
       "      <td>[0.25134000182151794, 0.5831419229507446, 0.75...</td>\n",
       "      <td>أهدأ شعلة الغاز</td>\n",
       "      <td>أهدأ</td>\n",
       "      <td>أهدأ</td>\n",
       "      <td>[[-0.10020202398300171, 0.04431620612740517, -...</td>\n",
       "    </tr>\n",
       "  </tbody>\n",
       "</table>\n",
       "<p>10107 rows × 12 columns</p>\n",
       "</div>"
      ],
      "text/plain": [
       "           word                                               body  \\\n",
       "0          عرض    عرض / عرض لـ يعرض  عرضا وعروضا  فهو عارض  وال...   \n",
       "1          عرض    عرض / عرض بـ / عرض لـ يعرض  تعريضا  فهو معرض ...   \n",
       "2          عرض    عرض يعرض  عرضا وعرضا وعراضة  فهو عريض :-   عر...   \n",
       "3          عرض    عرض :-  جمع أعراض: 1 - اسم لما لا دوام له :-ه...   \n",
       "4          عرض    عرض :-  جمع أعراض: ما يمدح ويذم من الإنسان في...   \n",
       "...         ...                                                ...   \n",
       "10102     عيسى    عيسى :-  اسم السيد المسيح عليه السلام وهو اسم...   \n",
       "10103      أخف    أخف يخف  أخفف / أخف  إخفافا  فهو مخف  والمفعو...   \n",
       "10104  كمبيالة    كمبيالة :-  (التجارة) وثيقة يتعهد فيها المدين...   \n",
       "10105       صك    صك صككت  يصك  اصكك / صك  صكا  فهو صاك  والمفع...   \n",
       "10106     أهدأ    أهدأ يهدئ  إهداء  فهو مهدئ  والمفعول مهدأ :- ...   \n",
       "\n",
       "                                                     def  \\\n",
       "0        / عرض لـ يعرض  عرضا وعروضا  فهو عارض  والمفع...   \n",
       "1        / عرض بـ / عرض لـ يعرض  تعريضا  فهو معرض  وا...   \n",
       "2        يعرض  عرضا وعرضا وعراضة  فهو عريض :- :-عريض ...   \n",
       "3        :-  جمع أعراض: 1 - اسم لما لا دوام له :-هذا ...   \n",
       "4        :-  جمع أعراض: ما يمدح ويذم من الإنسان في نف...   \n",
       "...                                                  ...   \n",
       "10102    :-  اسم السيد المسيح عليه السلام وهو اسم عبر...   \n",
       "10103    يخف  أخفف / أخف  إخفافا  فهو مخف  والمفعول م...   \n",
       "10104    :-  (التجارة) وثيقة يتعهد فيها المدين بأن يد...   \n",
       "10105    صككت  يصك  اصكك / صك  صكا  فهو صاك  والمفعول...   \n",
       "10106    يهدئ  إهداء  فهو مهدئ  والمفعول مهدأ :-   أه...   \n",
       "\n",
       "                                            quran_ex  \\\n",
       "0                   وعرضنا جهنم يومئذ للكافرين عرضا    \n",
       "1       ولا جناح عليكم فيما عرضتم به من خطبة النساء    \n",
       "2                                                      \n",
       "3             لو كان عرضا قريبا وسفرا قاصدا لاتبعوك    \n",
       "4                                                      \n",
       "...                                              ...   \n",
       "10102        وقفينا بعيسى ابن مريم وءاتيناه الإنجيل    \n",
       "10103                                                  \n",
       "10104                                                  \n",
       "10105               فأقبلت امرأته في صرة فصكت وجهها    \n",
       "10106                                                  \n",
       "\n",
       "                                                 example  \\\n",
       "0       عرض خطة بحثه - {وعلم ءادم الأسماء كلها ثم عرض...   \n",
       "1                          عرض الطريق جعلها عريضة واسعة    \n",
       "2          عرض الثوب تباعدت حاشيتاه واتسع عرضه خلاف طال    \n",
       "3        {تريدون عرض الدنيا والله يريد الآخرة} .3 - نفع    \n",
       "4                  طعن في عرض فلان - لا تجرح أعراض الناس   \n",
       "...                                                  ...   \n",
       "10102                                                      \n",
       "10103                      أخف الرجل قلل متاعه في السفر    \n",
       "10104                              تأخر عن دفع الكمبيالة   \n",
       "10105                                صك الشخص دفعه بقوة    \n",
       "10106                                    أهدأ شعلة الغاز   \n",
       "\n",
       "                                           def_tokenized  \\\n",
       "0      / عرض ل+ يعرض عرض +ا و+ عروض +ا ف+ هو عارض و+ ...   \n",
       "1      / عرض ب+ / عرض ل+ يعرض تعريض +ا ف+ هو معرض و+ ...   \n",
       "2      يعرض عرض +ا و+ عرض +ا و+ عراض +ة ف+ هو عريض :-...   \n",
       "3      :- جمع أعراض : 1 - اسم ل+ ما لا دوام ل+ +ه :- ...   \n",
       "4      :- جمع أعراض : ما يمدح و+ يذم من ال+ إنسان في ...   \n",
       "...                                                  ...   \n",
       "10102  :- اسم ال+ سيد ال+ مسيح علي +ه ال+ سلام و+ هو ...   \n",
       "10103  يخف أخفف / أخف إخفاف +ا ف+ هو مخف و+ ال+ مفعول...   \n",
       "10104  :- ( ال+ تجار +ة ) وثيق +ة يتعهد في +ها ال+ مد...   \n",
       "10105  صكك +ت يصك اصكك / صك صك +ا ف+ هو صاك و+ ال+ مف...   \n",
       "10106  يهدئ إهداء ف+ هو مهدئ و+ ال+ مفعول مهدأ :- أهد...   \n",
       "\n",
       "                                       example_tokenized  \\\n",
       "0           و+ عرض +نا جهنم يومئذ ل+ ال+ كافر +ين عرض +ا   \n",
       "1      و+ لا جناح علي +كم فيما عرضتم ب+ +ه من خطب +ة ...   \n",
       "2      عرض ال+ ثوب تباعد +ت حاشيتاه و+ اتسع عرض +ه خل...   \n",
       "3        لو كان عرض +ا قريب +ا و+ سفر +ا قاصد +ا لاتبعوك   \n",
       "4                طعن في عرض فلان - لا تجرح أعراض ال+ ناس   \n",
       "...                                                  ...   \n",
       "10102       وقفي +نا ب+ عيسى ابن مريم وءاتيناه ال+ إنجيل   \n",
       "10103                 أخف ال+ رجل قلل متاع +ه في ال+ سفر   \n",
       "10104                          تأخر عن دفع ال+ كمبيال +ة   \n",
       "10105    ف+ أقبل +ت امرأ +ت +ه في صر +ة ف+ صك +ت وجه +ها   \n",
       "10106                                أهدأ شعل +ة ال+ غاز   \n",
       "\n",
       "                                 context_word_embeddings  \\\n",
       "0      [0.08959540724754333, 0.2315646857023239, 0.19...   \n",
       "1      [-0.13121910393238068, 0.08852916955947876, 0....   \n",
       "2      [0.25407180190086365, 0.2322186827659607, 0.36...   \n",
       "3      [-0.2285122275352478, -0.035964034497737885, 0...   \n",
       "4      [-0.23766028881072998, 0.37875208258628845, -0...   \n",
       "...                                                  ...   \n",
       "10102  [0.28636354207992554, 0.37235116958618164, 0.2...   \n",
       "10103  [0.013894468545913696, 0.05375600606203079, 0....   \n",
       "10104  [-0.5766795873641968, -0.2895876169204712, 0.6...   \n",
       "10105  [0.002387251704931259, -0.4425205886363983, 0....   \n",
       "10106  [0.25134000182151794, 0.5831419229507446, 0.75...   \n",
       "\n",
       "                                         choosed_Example word_segmented  \\\n",
       "0                       وعرضنا جهنم يومئذ للكافرين عرضا             عرض   \n",
       "1           ولا جناح عليكم فيما عرضتم به من خطبة النساء             عرض   \n",
       "2          عرض الثوب تباعدت حاشيتاه واتسع عرضه خلاف طال             عرض   \n",
       "3                 لو كان عرضا قريبا وسفرا قاصدا لاتبعوك             عرض   \n",
       "4                  طعن في عرض فلان - لا تجرح أعراض الناس            عرض   \n",
       "...                                                  ...            ...   \n",
       "10102            وقفينا بعيسى ابن مريم وءاتيناه الإنجيل            عيسى   \n",
       "10103                      أخف الرجل قلل متاعه في السفر             أخف   \n",
       "10104                              تأخر عن دفع الكمبيالة         كمبيال   \n",
       "10105                   فأقبلت امرأته في صرة فصكت وجهها              صك   \n",
       "10106                                    أهدأ شعلة الغاز           أهدأ   \n",
       "\n",
       "      word_stemed                                     def_embeddings  \n",
       "0             عرض  [[-0.9497016072273254, 0.059308554977178574, -...  \n",
       "1             عرض  [[-0.8836850523948669, 0.05310528352856636, -0...  \n",
       "2             عرض  [[0.046237848699092865, 0.024290665984153748, ...  \n",
       "3             عرض  [[-0.8642708659172058, 0.017605777829885483, 0...  \n",
       "4             عرض  [[-0.7836717963218689, 0.03240634873509407, 0....  \n",
       "...           ...                                                ...  \n",
       "10102        عيسى  [[0.9598995447158813, 0.08008348196744919, 0.0...  \n",
       "10103         أخف  [[0.16920645534992218, 0.09069421887397766, 0....  \n",
       "10104      كمبيال  [[-0.9263273477554321, 0.08698716014623642, 0....  \n",
       "10105          صك  [[-0.9401823878288269, 0.06284652650356293, 0....  \n",
       "10106        أهدأ  [[-0.10020202398300171, 0.04431620612740517, -...  \n",
       "\n",
       "[10107 rows x 12 columns]"
      ]
     },
     "execution_count": 3,
     "metadata": {},
     "output_type": "execute_result"
    }
   ],
   "source": [
    "exists"
   ]
  },
  {
   "cell_type": "code",
   "execution_count": 4,
   "metadata": {},
   "outputs": [
    {
     "data": {
      "text/plain": [
       "'[0.08959540724754333, 0.2315646857023239, 0.1970081329345703, 0.023173851892352104, -0.08430591225624084, -0.7117202281951904, -0.4230063557624817, -0.4335278570652008, 0.04300980269908905, 0.24796119332313538, 0.08111585676670074, -0.12286245077848434, 0.019916865974664688, -0.2145615518093109, -0.30962371826171875, 0.2771870493888855, 0.845855712890625, -0.16842609643936157, -0.06432172656059265, -0.05510283634066582, -0.08768151700496674, -0.02053827978670597, -0.42498520016670227, -0.3374709486961365, -0.6844677329063416, -0.19126152992248535, 0.3672560751438141, -0.8060681223869324, 0.28782278299331665, 0.16762182116508484, 0.2361242026090622, 0.28043559193611145, -1.062125325202942, -0.2066148966550827, -0.4131197929382324, 0.5782737135887146, 0.621004045009613, 0.5171436667442322, 0.37186315655708313, 0.42654547095298767, -0.589360773563385, -0.44860243797302246, -0.13196268677711487, -0.760196328163147, -0.13935643434524536, 0.01865604892373085, -0.07312328368425369, -0.6355662941932678, 0.8571306467056274, -1.0509308576583862, 0.09040109813213348, -0.043482206761837006, -0.4298475682735443, -0.3485307991504669, -0.01573164016008377, 0.4064006209373474, -0.5180917382240295, -0.045268744230270386, 0.26159051060676575, -0.4374334216117859, 0.15415166318416595, -0.3398606777191162, 0.23094229400157928, -0.03644663840532303, -0.17204752564430237, 0.9370512962341309, -0.031831175088882446, -0.06014125049114227, 0.18406325578689575, 0.1359279453754425, 0.07264026999473572, 0.37320324778556824, -0.29842323064804077, 0.40711086988449097, -1.0247260332107544, 0.23510366678237915, 0.05086870118975639, 0.44383615255355835, -0.30707263946533203, -0.16557815670967102, -0.03991337865591049, 0.009580645710229874, 0.07748933136463165, 0.04932847619056702, -0.2759816646575928, 0.8849363327026367, -0.15925532579421997, -0.5801599025726318, 0.15355637669563293, -0.3603006899356842, 0.16604554653167725, 0.3709620237350464, -0.017439648509025574, -0.5279447436332703, -0.40814733505249023, -0.07352396845817566, 0.12013697624206543, -0.13650280237197876, 0.12961523234844208, -0.31079748272895813, -0.19756585359573364, -0.01495932973921299, 0.4876651465892792, -0.12834587693214417, -0.07918965071439743, 0.1265271008014679, -0.49038606882095337, 0.2100895196199417, -0.3633174002170563, -0.10617604851722717, 0.20887111127376556, -0.30892178416252136, -0.14164772629737854, 0.14028653502464294, -0.17815709114074707, 0.35481709241867065, -0.14746905863285065, -0.11337779462337494, -0.331026166677475, 0.24692025780677795, -0.43215757608413696, 0.49287062883377075, 0.2523787021636963, 0.4930464029312134, 0.14555594325065613, -0.3462000787258148, -0.3422563970088959, 0.5451425313949585, -0.5601688623428345, -0.2890835106372833, 0.5491595268249512, 0.11920580267906189, -0.29748526215553284, 0.13614636659622192, 0.5849930644035339, 0.0034568235278129578, 0.11465629190206528, 0.24903349578380585, -0.09147342294454575, -0.37330716848373413, -0.2799568772315979, 0.14230534434318542, 0.4119698107242584, -0.06073172390460968, -0.22726941108703613, -0.6304047107696533, 0.46561506390571594, 0.5127989649772644, 0.17764295637607574, -0.2199060469865799, 0.4011882543563843, 0.10525745153427124, -0.5180898904800415, 0.19931736588478088, -0.5590006113052368, 0.0652407705783844, -0.2556713819503784, 0.10945475101470947, -0.29957371950149536, -0.6786734461784363, 0.43065568804740906, -0.008988142013549805, 0.20404936373233795, 0.1838017851114273, -0.41501232981681824, 0.15719930827617645, -0.3128049373626709, 0.5702886581420898, 0.12338149547576904, 0.6422989368438721, 0.16529886424541473, -0.04605542868375778, 0.3962683379650116, -0.31012824177742004, -0.4655877947807312, -0.49363020062446594, -0.24269361793994904, -0.05481615662574768, 0.3204179108142853, -0.7635526061058044, -0.18424858152866364, 0.16921572387218475, -0.12193770706653595, -0.6314026117324829, 0.03020533360540867, -0.11630553007125854, 0.18343251943588257, -0.014595955610275269, 0.20270907878875732, -0.4051641821861267, 0.9668503403663635, 0.1475575566291809, 0.22533932328224182, -0.8637797236442566, -0.28088733553886414, -0.232162743806839, -0.014599986374378204, -0.09679850190877914, 0.08101651072502136, 0.5290437936782837, -0.5106839537620544, 0.3850387930870056, -0.2402665615081787, 0.6489112377166748, -0.498359739780426, -0.07134152948856354, -0.061648543924093246, -0.15503637492656708, 0.46882811188697815, -0.1977255493402481, -0.04251308739185333, 0.2474990338087082, -0.0913759171962738, -0.5457630753517151, -0.4474339485168457, -0.027956586331129074, 0.14783070981502533, -0.10616746544837952, 0.03766922652721405, -0.01733502745628357, 0.1344965249300003, 0.15716953575611115, -0.2723963260650635, 0.7466049194335938, -0.5969058871269226, 0.16795027256011963, -0.07183662801980972, -0.13240158557891846, -0.3723607659339905, 0.243567556142807, 0.11876636743545532, 0.44625774025917053, 0.019936375319957733, 0.44966331124305725, -0.05558605119585991, 0.2893381118774414, 0.18996354937553406, -0.4042704403400421, 0.26129835844039917, -0.7890675663948059, -0.5655924081802368, -0.2648961544036865, -0.04516768455505371, 0.39885213971138, -0.18826112151145935, -0.4844267964363098, 0.4705164432525635, 0.19672730565071106, 0.04723334312438965, 0.24669669568538666, 0.052640400826931, 0.19014303386211395, 0.35940974950790405, 0.15351751446723938, 0.2580740451812744, -0.2377663254737854, 0.12771430611610413, -0.23607361316680908, -0.21748003363609314, -0.20971094071865082, 0.05465707182884216, -0.7376478314399719, 0.03786860406398773, -0.011903122067451477, -0.35000935196876526, -0.26579827070236206, 0.12390951067209244, -0.3112563192844391, -0.04155706614255905, -0.41186171770095825, 0.9073997735977173, -0.3973372280597687, 0.3145225942134857, -0.5682682394981384, 0.16817040741443634, -0.42857107520103455, -0.45271679759025574, 0.33067968487739563, 0.1034950241446495, -0.4032042324542999, 0.0011780932545661926, -0.23376572132110596, 0.11096664518117905, 0.3012891113758087, -0.1756422072649002, 0.39418908953666687, 0.19876399636268616, -0.16115175187587738, 0.21694430708885193, 0.04635140672326088, 0.037413340061903, 0.7583614587783813, 0.2604926526546478, -0.38816073536872864, -0.2818469703197479, -0.3269643783569336, -0.3200233280658722, 0.511711835861206, -0.060011979192495346, 0.12769410014152527, 0.21167677640914917, 0.16048018634319305, 0.4071241021156311, -0.21288177371025085, 0.011329594999551773, -0.43235331773757935, -0.6962186694145203, -0.13464826345443726, 0.3845626711845398, 0.18614110350608826, 0.0027426183223724365, -0.1443447321653366, -0.04193033277988434, -0.6331799626350403, -0.28730735182762146, -0.16877618432044983, -0.07152190059423447, 0.5046152472496033, -0.36784443259239197, 0.027420978993177414, -0.324358731508255, 0.3189260959625244, -0.6827012300491333, 0.5835376381874084, 0.12107326835393906, -0.20507089793682098, 0.04556606709957123, -0.012318341061472893, -0.04901012405753136, -0.8931620121002197, 0.35879194736480713, -0.3439290523529053, -0.1806604117155075, -0.17244364321231842, 0.11653856933116913, -0.03649083524942398, -0.338052362203598, -0.05719072371721268, -0.250764936208725, 0.5449398756027222, -0.04816635698080063, 0.06158170476555824, 0.21704919636249542, -0.10701298713684082, 0.13153785467147827, 0.1661803275346756, 0.4022163450717926, -0.05159154161810875, -0.48614853620529175, -0.045390285551548004, -0.5065799951553345, -0.656311571598053, -0.6525503993034363, -0.448451429605484, -0.28784996271133423, -0.3735724091529846, 0.2467721700668335, 0.36625397205352783, 0.7361324429512024, 0.000876888632774353, 0.30673182010650635, 0.18204157054424286, 0.25384321808815, -0.2715013325214386, 0.122647725045681, -0.1475706249475479, 0.4484986960887909, -0.559197187423706, 0.24213917553424835, -0.04101307690143585, -0.0580185130238533, 0.639732301235199, 0.23805569112300873, 0.5711607933044434, 0.14094451069831848, -0.5487507581710815, 0.17275017499923706, 0.0777486115694046, 0.16338148713111877, 0.5138173699378967, -0.32556501030921936, -0.026112675666809082, 0.019533902406692505, -0.4272223711013794, 0.8510954976081848, 0.017654769122600555, -0.02986644208431244, -0.6264161467552185, 0.5128025412559509, 0.18863603472709656, 0.5312612652778625, 0.03163178637623787, 0.5590289235115051, -0.44165709614753723, -0.26718029379844666, -0.4238760471343994, -0.011792100965976715, 0.1651616245508194, -1.1630338430404663, 0.11733788251876831, 0.5320583581924438, -0.5205934643745422, -0.20260274410247803, -0.12944146990776062, 0.0799548402428627, 0.4463261365890503, 0.17879411578178406, 0.12947118282318115, 0.08061753213405609, 0.3391212522983551, 0.48182088136672974, 0.045713502913713455, -0.2679656147956848, 0.18961136043071747, -0.22751274704933167, -0.5174334645271301, 0.046277377754449844, -0.4559294581413269, -0.051067717373371124, 0.07597756385803223, -0.000666838139295578, -0.5253923535346985, 0.6492360234260559, 0.31143566966056824, 0.4434722065925598, -0.017058365046977997, -0.29538142681121826, -0.28169387578964233, 0.39178013801574707, 0.6575881242752075, -0.06233435124158859, 0.19154150784015656, -0.38789984583854675, 0.3079588711261749, 0.21491339802742004, 0.09591586142778397, -0.9353427290916443, -0.17183077335357666, 0.7773170471191406, 0.05186120793223381, 0.4007057547569275, 0.09528714418411255, 0.20291441679000854, -0.11819706112146378, -0.23118473589420319, 0.17947018146514893, 0.6584849953651428, -0.11457554996013641, 0.19197700917720795, 0.29451286792755127, -0.32253992557525635, -0.17116811871528625, 0.002983236685395241, 0.2510721981525421, -0.033600032329559326, 0.0016461685299873352, -0.021192781627178192, 0.6787707805633545, -0.5771757960319519, 0.034672513604164124, 0.2730448842048645, -0.2907739579677582, 0.29763269424438477, -0.15769025683403015, -0.314966082572937, 0.28631624579429626, 0.4451170265674591, 0.13261249661445618, 0.025531362742185593, -0.10980365425348282, -0.19567595422267914, 0.41440004110336304, -0.5008091330528259, -0.2452901005744934, 0.14202290773391724, 0.08835290372371674, 0.20993363857269287, -0.0980587899684906, -0.5055270791053772, 0.32132488489151, 0.4375757873058319, 0.15684503316879272, 0.13582071661949158, -0.42278727889060974, 0.08970481157302856, -0.10958604514598846, -0.11720988899469376, -0.4222978949546814, 0.9282956123352051, 0.06528900563716888, 0.05101583153009415, 0.43559205532073975, -0.4937955141067505, -0.3267108201980591, 0.10078123211860657, -0.16312247514724731, -0.11341862380504608, -0.23817072808742523, -0.4689348340034485, 0.07987555116415024, -0.01650049537420273, 0.6835803985595703, -0.2221248596906662, -0.16539868712425232, 0.2953881025314331, -0.14923644065856934, 0.24884410202503204, -0.14889176189899445, -0.341418594121933, 0.3497484624385834, 0.3665943145751953, 0.3349907100200653, -0.08834782987833023, 0.009256526827812195, -0.29136502742767334, -0.3410405218601227, -0.4152882695198059, -0.09447166323661804, -0.23961208760738373, -0.08423081040382385, -0.4053211212158203, 0.7193017601966858, 0.4087849259376526, -0.6767277717590332, -0.18171387910842896, 0.26582154631614685, -0.05158599093556404, 0.34382981061935425, -0.12336622178554535, 0.44860610365867615, -0.451992392539978, 0.13106533885002136, -0.23918336629867554, -0.4549684226512909, 0.006670542061328888, -0.27392634749412537, -0.14866869151592255, -0.3448367118835449, 0.5296251177787781, -0.4916399419307709, 1.1432445049285889, -0.08634944260120392, 0.4640791714191437, 0.2888108789920807, 0.15432295203208923, 0.3284349739551544, -0.008379459381103516, -0.6390162110328674, -0.23179037868976593, -0.2265310287475586, 0.18866495788097382, -0.10762405395507812, -0.09741494059562683, -0.3193032741546631, -0.07088281214237213, 0.10738635063171387, 0.08220470696687698, 0.01823209971189499, -0.0019229687750339508, -0.258891761302948, -0.02788541465997696, 0.24937410652637482, 0.20658093690872192, -0.384435772895813, 0.011066023260354996, -0.6413307189941406, 0.4533516466617584, 0.3775581419467926, -0.05016269162297249, -0.0942484438419342, -0.20002108812332153, 0.19596731662750244, 0.12210474908351898, 0.25758373737335205, 0.30456864833831787, 1.1724011898040771, 0.09624478220939636, -0.8071025013923645, -0.4472142457962036, 0.10775324702262878, 0.2616621255874634, 0.3512786030769348, -0.37223753333091736, 0.35705387592315674, -0.40880244970321655, -0.47901296615600586, 0.4311845302581787, -0.08498629927635193, 0.020759418606758118, 0.04015704616904259, -0.057987771928310394, -0.05830080807209015, -0.033320702612400055, -0.22257721424102783, -0.14421072602272034, -0.0752381831407547, -0.027356470003724098, -0.554907500743866, -0.1350213885307312, -0.5617448687553406, 0.4297081530094147, -0.26808321475982666, 0.11454025655984879, 0.22117137908935547, 0.18861323595046997, -0.1344260275363922, -0.19029700756072998, -0.2071579098701477, -0.41382843255996704, 0.07328204810619354, 0.18593674898147583, 0.17604011297225952, 0.09919381141662598, -0.21426987648010254, 0.19731464982032776, 0.4636058807373047, -0.5631478428840637, -0.3724302649497986, 0.06457245349884033, 0.42941251397132874, 0.01760769635438919, 0.5808857083320618, 0.7967110872268677, 0.2102135866880417, 0.12671056389808655, -0.20243272185325623, 0.12887461483478546, -0.17349672317504883, -0.555474042892456, -0.12917467951774597, 0.3207705020904541, 0.3071015179157257, 0.2945799231529236, -0.19670039415359497, 0.13331693410873413, -0.07354523986577988, 0.6919978857040405, -0.21139559149742126, 0.39699509739875793, 0.04360644146800041, -0.3227684199810028, 0.1787939816713333, 0.44361039996147156, 0.04066922515630722, 0.02115093171596527, -0.03653214871883392, 0.2542567849159241, -0.1803848147392273, -0.21722181141376495, -0.02799905091524124, -0.1771208941936493, -0.01833421364426613, -0.005042752716690302, 0.4752998948097229, -0.02362791821360588, 0.3829463720321655, 0.29497992992401123, -0.1601146161556244, 0.40613508224487305, 0.14394840598106384, -0.1330665946006775, -0.16482053697109222, -0.5927907228469849, -0.32543477416038513, 0.621597409248352, 0.7935563325881958, 0.027957085520029068, 10.917610168457031, 0.13834361732006073, -0.31777215003967285, 0.561529815196991, -0.756651759147644, 0.36424049735069275, 0.6538836359977722, 0.18158157169818878, -1.0024844408035278, 0.4438372552394867, -0.19707633554935455, -0.2346494495868683, 0.2003982663154602, -0.2921622693538666, 0.3196844160556793, 0.286067396402359, -0.18276458978652954, 0.10936318337917328, 0.17530573904514313, -0.5370301008224487, 0.7106876373291016, 0.32721444964408875, 0.056273072957992554, 0.42854103446006775, -0.009182891808450222, 0.3324594795703888, -0.1320386528968811, -0.07529029250144958, 0.34609538316726685, -0.15391480922698975, -0.4048028588294983, 0.1456393301486969, -0.14879660308361053, -0.6126246452331543, 0.32599207758903503, -0.7825164198875427, 0.326526403427124, -0.01714145392179489, 0.500433087348938, -0.37935274839401245, 0.7608562111854553, 0.14127905666828156, -0.16412098705768585, -0.22559039294719696, -0.029679328203201294, -0.3830258250236511, 0.49723583459854126, -0.23207099735736847, 0.23841606080532074, 0.6282786726951599, 0.5589456558227539, 0.0199911966919899, 0.3029769957065582, -0.09922968596220016, -0.06804919242858887, 0.9250473976135254, -0.14575138688087463, 0.22327136993408203, -0.20673251152038574, -0.40727943181991577, -0.21966522932052612, -0.08744341135025024, -0.7310906648635864, 0.26185137033462524, -0.18088464438915253, 0.7341697216033936, -0.4437541961669922, 0.2195809930562973, 0.29832085967063904, -0.14464111626148224, -0.23225533962249756, -0.13958992063999176, -0.2666069567203522, 0.16433517634868622, 0.04547951743006706, 0.2793658673763275, -0.28163057565689087, 0.19826795160770416, -0.48192098736763, -0.9115701913833618, 0.027177957817912102, 0.3732150197029114, 0.1903497576713562, -0.21005719900131226, 0.2562371492385864, -0.8390586972236633, 0.33415916562080383, -0.21228104829788208, -0.09894701838493347, -0.6500526070594788, 0.646247923374176, -0.09762497991323471, -0.2750591039657593, 0.3290852904319763, -0.4903833866119385, 0.701636552810669, -0.3203541040420532, -0.02412477880716324, -0.16592487692832947, 0.3563793897628784, -0.03750436753034592]'"
      ]
     },
     "execution_count": 4,
     "metadata": {},
     "output_type": "execute_result"
    }
   ],
   "source": [
    "exists['context_word_embeddings'][0]\n"
   ]
  },
  {
   "cell_type": "code",
   "execution_count": null,
   "metadata": {},
   "outputs": [],
   "source": [
    "exists['context_word_embeddings'][0]"
   ]
  },
  {
   "cell_type": "code",
   "execution_count": 5,
   "metadata": {},
   "outputs": [],
   "source": [
    "import re"
   ]
  },
  {
   "cell_type": "code",
   "execution_count": 6,
   "metadata": {},
   "outputs": [],
   "source": [
    "def convert_to_list(string_list):\n",
    "    string_list = str(string_list)\n",
    "    string_list = re.sub(r'[\\]\\[]','',string_list)\n",
    "    string_list = re.split(',\\s+',string_list)\n",
    "    float_list = [float(i) for i in string_list]\n",
    "    return float_list"
   ]
  },
  {
   "cell_type": "code",
   "execution_count": 7,
   "metadata": {},
   "outputs": [],
   "source": [
    "exists['def_embeddings'] = exists.apply(lambda row: convert_to_list(row['def_embeddings']),axis=1)"
   ]
  },
  {
   "cell_type": "code",
   "execution_count": 8,
   "metadata": {},
   "outputs": [],
   "source": [
    "exists['context_word_embeddings'] = exists.apply(lambda row: convert_to_list(row['context_word_embeddings']),axis=1)"
   ]
  },
  {
   "cell_type": "code",
   "execution_count": null,
   "metadata": {},
   "outputs": [],
   "source": [
    "exists['def_embeddings'][0]"
   ]
  },
  {
   "cell_type": "code",
   "execution_count": null,
   "metadata": {},
   "outputs": [],
   "source": [
    "len(exists)"
   ]
  },
  {
   "cell_type": "code",
   "execution_count": 9,
   "metadata": {},
   "outputs": [],
   "source": [
    "exists = exists.dropna()"
   ]
  },
  {
   "cell_type": "code",
   "execution_count": null,
   "metadata": {},
   "outputs": [],
   "source": []
  },
  {
   "cell_type": "code",
   "execution_count": 10,
   "metadata": {},
   "outputs": [],
   "source": [
    "def removeNA(list_n):\n",
    "    for item in list_n:\n",
    "        if type(item) != float or len(list_n)<700:\n",
    "            return None\n",
    "    return list_n"
   ]
  },
  {
   "cell_type": "code",
   "execution_count": 11,
   "metadata": {},
   "outputs": [],
   "source": [
    "exists['def_embeddings'] = exists.apply(lambda row : removeNA(row['def_embeddings']),axis=1)"
   ]
  },
  {
   "cell_type": "code",
   "execution_count": 12,
   "metadata": {},
   "outputs": [],
   "source": [
    "import numpy as np"
   ]
  },
  {
   "cell_type": "code",
   "execution_count": null,
   "metadata": {},
   "outputs": [],
   "source": [
    "exists['def_embeddings'] = exists.apply(lambda row : np.array(row['def_embeddings']),axis=1)"
   ]
  },
  {
   "cell_type": "code",
   "execution_count": null,
   "metadata": {},
   "outputs": [],
   "source": [
    "exists['context_word_embeddings'] = exists.apply(lambda row : np.array(row['context_word_embeddings']),axis=1)"
   ]
  },
  {
   "cell_type": "code",
   "execution_count": null,
   "metadata": {},
   "outputs": [],
   "source": [
    "len(exists)"
   ]
  },
  {
   "cell_type": "code",
   "execution_count": null,
   "metadata": {},
   "outputs": [],
   "source": [
    "exists = exists.dropna()\n",
    "exists"
   ]
  },
  {
   "cell_type": "code",
   "execution_count": 13,
   "metadata": {},
   "outputs": [],
   "source": [
    "import tensorflow as tf\n",
    "from tensorflow import keras\n",
    "from tensorflow.keras import layers"
   ]
  },
  {
   "cell_type": "code",
   "execution_count": null,
   "metadata": {},
   "outputs": [],
   "source": [
    "# df_lable = pd.DataFrame(list(exists['def_embeddings']))"
   ]
  },
  {
   "cell_type": "code",
   "execution_count": null,
   "metadata": {},
   "outputs": [],
   "source": []
  },
  {
   "cell_type": "code",
   "execution_count": null,
   "metadata": {},
   "outputs": [],
   "source": [
    "# len(df_lable)"
   ]
  },
  {
   "cell_type": "code",
   "execution_count": null,
   "metadata": {},
   "outputs": [],
   "source": [
    "# len(df_lable.dropna())"
   ]
  },
  {
   "cell_type": "code",
   "execution_count": null,
   "metadata": {},
   "outputs": [],
   "source": [
    "# df_Dataset = pd.DataFrame(list(exists['context_word_embeddings']))"
   ]
  },
  {
   "cell_type": "code",
   "execution_count": null,
   "metadata": {},
   "outputs": [],
   "source": [
    "# new_df =  pd.concat([df_Dataset, df_lable], axis=1, sort=False)\n"
   ]
  },
  {
   "cell_type": "code",
   "execution_count": null,
   "metadata": {},
   "outputs": [],
   "source": [
    "# new_df = new_df.dropna()"
   ]
  },
  {
   "cell_type": "code",
   "execution_count": null,
   "metadata": {},
   "outputs": [],
   "source": [
    "# new_df.columns"
   ]
  },
  {
   "cell_type": "code",
   "execution_count": 14,
   "metadata": {},
   "outputs": [],
   "source": [
    "import numpy as np\n",
    "msk = np.random.rand(len(exists)) < 0.8"
   ]
  },
  {
   "cell_type": "code",
   "execution_count": 15,
   "metadata": {},
   "outputs": [],
   "source": [
    "train = exists[msk]\n",
    "\n",
    "test = exists[~msk]"
   ]
  },
  {
   "cell_type": "code",
   "execution_count": null,
   "metadata": {},
   "outputs": [],
   "source": [
    "train"
   ]
  },
  {
   "cell_type": "code",
   "execution_count": null,
   "metadata": {},
   "outputs": [],
   "source": [
    "test"
   ]
  },
  {
   "cell_type": "code",
   "execution_count": 16,
   "metadata": {},
   "outputs": [],
   "source": [
    "df_train_lable = train['context_word_embeddings']"
   ]
  },
  {
   "cell_type": "code",
   "execution_count": 17,
   "metadata": {},
   "outputs": [],
   "source": [
    "df_test_lable = test['context_word_embeddings']"
   ]
  },
  {
   "cell_type": "code",
   "execution_count": 18,
   "metadata": {},
   "outputs": [],
   "source": [
    "df_train_feat = train['def_embeddings']"
   ]
  },
  {
   "cell_type": "code",
   "execution_count": 19,
   "metadata": {},
   "outputs": [],
   "source": [
    "df_test_feat = test['def_embeddings']"
   ]
  },
  {
   "cell_type": "code",
   "execution_count": 28,
   "metadata": {},
   "outputs": [
    {
     "data": {
      "text/plain": [
       "pandas.core.series.Series"
      ]
     },
     "execution_count": 28,
     "metadata": {},
     "output_type": "execute_result"
    }
   ],
   "source": [
    "type(df_test_feat)"
   ]
  },
  {
   "cell_type": "code",
   "execution_count": 18,
   "metadata": {},
   "outputs": [],
   "source": [
    "df = pd.DataFrame(list(df_train_feat))"
   ]
  },
  {
   "cell_type": "code",
   "execution_count": 25,
   "metadata": {},
   "outputs": [],
   "source": [
    "df_test = pd.DataFrame(list(df_test_feat))"
   ]
  },
  {
   "cell_type": "code",
   "execution_count": 20,
   "metadata": {},
   "outputs": [],
   "source": [
    "df2 = pd.DataFrame(list(df_train_lable))"
   ]
  },
  {
   "cell_type": "code",
   "execution_count": 26,
   "metadata": {},
   "outputs": [],
   "source": [
    "df2_test = pd.DataFrame(list(df_test_lable))"
   ]
  },
  {
   "cell_type": "code",
   "execution_count": 21,
   "metadata": {},
   "outputs": [],
   "source": [
    "train_dataset = tf.data.Dataset.from_tensor_slices((df.values, df2.values))"
   ]
  },
  {
   "cell_type": "code",
   "execution_count": 27,
   "metadata": {},
   "outputs": [],
   "source": [
    "test_dataset = tf.data.Dataset.from_tensor_slices((df_test.values, df2_test.values))"
   ]
  },
  {
   "cell_type": "code",
   "execution_count": 29,
   "metadata": {},
   "outputs": [],
   "source": [
    "train_dataset = train_dataset.shuffle(len(exists)).batch(1)"
   ]
  },
  {
   "cell_type": "code",
   "execution_count": 32,
   "metadata": {},
   "outputs": [
    {
     "data": {
      "text/plain": [
       "7967"
      ]
     },
     "execution_count": 32,
     "metadata": {},
     "output_type": "execute_result"
    }
   ],
   "source": [
    "len(train_dataset)"
   ]
  },
  {
   "cell_type": "code",
   "execution_count": 31,
   "metadata": {},
   "outputs": [
    {
     "name": "stdout",
     "output_type": "stream",
     "text": [
      "Features: [[-7.13348091e-01  1.69974387e-01 -1.06794365e-01  5.92167377e-02\n",
      "   3.32967043e-02 -1.48030519e-01 -5.76183975e-01 -8.87805074e-02\n",
      "   8.22577655e-01 -2.29942635e-01 -9.14840877e-01 -2.18333509e-02\n",
      "   6.24106452e-02 -7.51832843e-01 -3.23265076e-01 -1.50983796e-01\n",
      "  -3.97569826e-03  9.87466872e-01  9.99492407e-01 -2.19634533e-01\n",
      "  -2.21089214e-01  9.51512083e-02  6.21492527e-02  9.85454768e-02\n",
      "  -2.73770005e-01 -7.62048364e-01 -7.65762553e-02 -1.31656036e-01\n",
      "   9.57463861e-01 -9.86426920e-02 -7.30633438e-02 -1.59533679e-01\n",
      "  -1.22830078e-01 -6.64784610e-01 -4.94097322e-02  4.17975597e-02\n",
      "  -2.83071101e-02  1.16813831e-01  9.94509876e-01  9.97694552e-01\n",
      "   1.73136473e-01 -3.36099081e-02 -2.07418546e-01  3.01215142e-01\n",
      "   9.90723014e-01 -2.99443007e-01 -9.84479368e-01  4.11359929e-02\n",
      "  -3.50806236e-01  2.00598910e-02 -5.66493750e-01  1.29915476e-01\n",
      "  -7.11671892e-04 -1.43012434e-01 -2.99592942e-01  6.41603351e-01\n",
      "   1.25105679e-01 -7.94131830e-02 -4.81505930e-01  9.94015634e-01\n",
      "  -2.53821492e-01 -9.36060667e-01 -1.53072150e-02 -2.11830541e-01\n",
      "  -1.00209983e-02  9.57487822e-01 -1.83353171e-01  1.20122731e-02\n",
      "  -3.42966259e-01 -7.72755221e-02 -9.33859706e-01  9.95135784e-01\n",
      "   3.54878493e-02 -4.40720245e-02  3.73536721e-02 -5.84098510e-02\n",
      "   8.52213204e-01 -9.31757271e-01  1.41400099e-01  5.75626232e-02\n",
      "   1.70649931e-01 -9.54873562e-01 -2.90941656e-01  4.44407314e-01\n",
      "  -8.17747042e-02  2.88300335e-01 -7.60172233e-02 -2.46903703e-01\n",
      "   2.87843794e-01  9.98532414e-01 -9.94558930e-01 -1.04993962e-01\n",
      "   9.61052954e-01 -2.66794652e-01 -9.82291996e-01  6.19279183e-02\n",
      "   1.40522033e-01  4.71459292e-02  9.30128753e-01 -6.62631094e-01\n",
      "   9.79048014e-02 -6.87608421e-02  3.84195782e-02  9.99966085e-01\n",
      "  -1.90852374e-01 -9.93588924e-01  7.30902433e-01  9.10087004e-02\n",
      "   2.06539676e-01  9.73100960e-01 -2.24209592e-01 -9.30868149e-01\n",
      "  -1.06894094e-02 -1.97205544e-01 -3.57633322e-01 -7.45197162e-02\n",
      "  -9.91704702e-01  1.17396615e-01 -6.59891814e-02  9.99401212e-01\n",
      "   2.19514191e-01  9.21627581e-02 -2.27253854e-01 -2.92884648e-01\n",
      "   2.13866368e-01 -2.25724056e-01 -3.34409088e-01  9.18838233e-02\n",
      "  -9.93744552e-01 -2.47142345e-01 -6.15703920e-03 -9.95488703e-01\n",
      "   9.99968350e-01  1.31937355e-01 -1.60440460e-01  9.68707204e-01\n",
      "   9.74760711e-01  9.34753656e-01 -2.70211995e-01  3.68819647e-02\n",
      "   1.81995392e-01  3.37549955e-01 -1.61957264e-01  8.74605656e-01\n",
      "  -7.98111022e-01  4.87285227e-01 -1.69815287e-01  4.65410262e-01\n",
      "  -2.23247826e-01  1.18672125e-01 -5.46628535e-01 -9.94984686e-01\n",
      "  -9.37455744e-02  2.18769699e-01  2.29739636e-01 -1.35850012e-01\n",
      "  -9.50900674e-01 -1.97097361e-01 -9.26933765e-01  9.03111696e-02\n",
      "  -4.90545928e-02 -3.49139631e-01  1.62584502e-02 -8.35786045e-01\n",
      "   9.99934077e-01 -9.38662827e-01  2.69377697e-02  9.69312072e-01\n",
      "   2.21634760e-01 -8.51318479e-01  4.52957861e-02 -5.71593903e-02\n",
      "   1.08097933e-01  1.75716296e-01  1.98827013e-01 -1.54996396e-03\n",
      "   5.26722847e-03  1.38548076e-01  9.40747321e-01 -5.80773838e-02\n",
      "  -2.28739083e-02 -4.17891085e-01  9.83375192e-01  9.99937892e-01\n",
      "   1.50291026e-01  2.16768280e-01  2.25919664e-01 -9.91053104e-01\n",
      "   1.79782316e-01 -2.83581972e-01 -2.73276329e-01 -2.91542083e-01\n",
      "  -4.74564452e-03  8.73459935e-01 -8.80488530e-02  1.53366432e-01\n",
      "  -3.22241187e-01 -9.99796212e-01  8.21071267e-01  1.99818879e-01\n",
      "   3.49171646e-02 -9.99492586e-01  4.31551993e-01 -7.83429146e-01\n",
      "  -9.97172058e-01 -4.25206721e-01  3.24933499e-01 -4.22714278e-02\n",
      "  -1.61788583e-01  8.75062644e-01  2.84042418e-01  9.93279397e-01\n",
      "   9.73874807e-01  1.70864254e-01 -1.60538644e-01  4.49116454e-02\n",
      "   2.69193530e-01 -1.12862624e-01 -1.21411629e-01 -6.78627416e-02\n",
      "   1.18710019e-01  2.78229844e-02  5.15519023e-01 -4.44009811e-01\n",
      "   6.99427500e-02  1.46496281e-01  8.29114392e-02 -2.04761848e-02\n",
      "   1.01841986e-01  8.04277062e-01 -1.57453880e-01  2.91798502e-01\n",
      "  -7.82731622e-02  9.96790230e-01 -1.10811330e-01 -9.92820144e-01\n",
      "  -8.57195854e-02  6.88033924e-03  4.89467643e-02  9.99613464e-01\n",
      "  -1.38673440e-01 -5.50767332e-02  6.39850795e-01 -3.25842768e-01\n",
      "   5.68013526e-02 -2.33909041e-01  2.24565357e-01 -3.87831658e-01\n",
      "  -2.40606382e-01  8.90057907e-02  9.95923936e-01 -7.35893607e-01\n",
      "  -9.99887347e-01 -7.13185742e-02  4.75863397e-01 -2.98724532e-01\n",
      "  -9.35773790e-01  9.36412930e-01 -2.36877110e-02  1.33656627e-02\n",
      "   1.42762631e-01 -9.96020079e-01 -9.94179308e-01 -1.86289802e-01\n",
      "  -1.80698216e-01 -2.63396263e-01  9.65541124e-01 -8.50458592e-02\n",
      "   1.77080221e-02 -8.83399993e-02  1.19923756e-01  9.71115291e-01\n",
      "   7.10668117e-02  5.80628663e-02 -2.85963804e-01  6.39103949e-02\n",
      "   9.90180492e-01  3.26490909e-01 -2.11188905e-02 -9.95338619e-01\n",
      "  -1.95893273e-01  9.56588507e-01  9.19640243e-01  7.73344710e-02\n",
      "  -1.43442437e-01  1.30200267e-01  1.77076280e-01 -1.61207512e-01\n",
      "   7.04532042e-02  8.64913687e-02 -4.98290181e-01  3.62232178e-01\n",
      "   8.85453895e-02  9.94520187e-01 -1.11166060e-01  6.10445514e-02\n",
      "  -6.33727372e-01 -1.99347958e-01  9.13417578e-01  9.85996068e-01\n",
      "  -9.75374356e-02 -1.36734366e-01  8.07675421e-02 -9.62979615e-01\n",
      "  -7.36780167e-02 -1.60785720e-01 -1.98303252e-01 -3.84419262e-01\n",
      "  -1.86698586e-01  8.26761723e-02  3.83617193e-01 -9.11689162e-01\n",
      "  -1.67700760e-02  9.99357224e-01 -9.98754859e-01  1.98795065e-01\n",
      "   8.87674630e-01  1.41157443e-02  9.42759931e-01 -8.94779384e-01\n",
      "   5.63053548e-01 -1.09968737e-01 -1.77143320e-01  1.49138011e-02\n",
      "  -9.94303107e-01  6.15814589e-02  9.98892009e-01 -2.48527616e-01\n",
      "  -3.15396674e-02  2.14896956e-03 -3.51634592e-01 -9.48814899e-02\n",
      "  -4.66361761e-01  2.58276284e-01 -8.76712620e-01  6.59101605e-02\n",
      "  -1.40564010e-01  3.56347114e-02  1.21723391e-01  1.38146549e-01\n",
      "   1.65857881e-01 -6.24896526e-01 -5.70066214e-01 -8.08515906e-01\n",
      "  -1.41739724e-02 -9.86842394e-01  3.23093802e-01 -9.59893689e-02\n",
      "  -2.81342238e-01  2.73062915e-01 -4.13064986e-01  1.75565287e-01\n",
      "   9.12037432e-01  9.96629834e-01 -6.57370150e-01 -9.96326268e-01\n",
      "   8.06702599e-02  3.27575654e-01 -2.20189616e-01 -3.92621994e-01\n",
      "  -3.66229057e-01 -2.57617861e-01 -1.15825109e-01  1.61307722e-01\n",
      "  -9.94721472e-01  1.04456894e-01  9.95946050e-01 -8.17245007e-01\n",
      "  -5.02907671e-02  2.33390275e-02 -2.02868402e-01 -9.66439247e-01\n",
      "  -3.25836122e-01 -2.28464946e-01  6.34978618e-03  9.31021571e-02\n",
      "   1.32074192e-01 -7.48262927e-02 -9.82745528e-01  8.02425966e-02\n",
      "   6.35561466e-01 -9.94595647e-01 -2.31549829e-01  8.81855786e-01\n",
      "   2.84175009e-01  2.55740762e-01  1.18890144e-02  1.34905398e-01\n",
      "  -9.99168992e-01 -1.52672023e-01  5.41393161e-01  2.79722586e-02\n",
      "   9.97951627e-01  9.76805568e-01 -2.43995816e-01  2.06956595e-01\n",
      "  -2.48273797e-02  9.99989152e-01 -7.77871981e-02  1.17977068e-01\n",
      "   2.34133586e-01  2.77833402e-01  9.93264854e-01 -4.06462252e-02\n",
      "   3.74796172e-03  9.99261260e-01 -3.22962850e-01 -5.08327544e-01\n",
      "   3.12695839e-02 -9.94760931e-01 -4.29011509e-03  3.88223678e-01\n",
      "  -1.06922463e-01  6.35681767e-03 -9.91219342e-01 -1.67608961e-01\n",
      "  -1.58549055e-01 -1.71865914e-02 -2.63013113e-02  7.81812519e-02\n",
      "   3.04874051e-02  8.32264304e-01 -1.11388452e-01 -2.59283427e-02\n",
      "  -7.21716955e-02  2.05506667e-01  2.33960763e-01 -2.78746217e-01\n",
      "   2.37844810e-01  9.97617781e-01 -9.74864900e-01  7.01705143e-02\n",
      "  -2.27248535e-01 -1.91918820e-01  9.75908220e-01 -9.96956766e-01\n",
      "   9.98438954e-01 -9.85307813e-01  1.89388126e-01  8.68510306e-01\n",
      "   1.23875491e-01  9.91403520e-01 -1.12387948e-01  9.79893506e-01\n",
      "   2.88557839e-02 -3.59052001e-03  8.92332435e-01  2.23382920e-01\n",
      "  -1.03594996e-01 -2.56130934e-01  7.87412882e-01  1.29445652e-02\n",
      "   1.06720492e-01  2.22129636e-02 -1.65430158e-01 -9.94181395e-01\n",
      "   1.33852646e-01  1.09841138e-01  2.25440830e-01 -1.71772793e-01\n",
      "   2.00205177e-01  1.13981608e-02  1.78399295e-01 -3.35065633e-01\n",
      "   1.81375101e-01  3.28863800e-01  2.73886949e-01  1.02332532e-02\n",
      "  -8.27177018e-02 -9.25813437e-01 -1.17122538e-01 -4.11130488e-01\n",
      "  -4.05835845e-02  9.28647995e-01 -2.39350259e-01 -3.30684744e-02\n",
      "  -1.57723516e-01 -4.41721268e-02 -1.11019667e-02 -1.93152979e-01\n",
      "  -5.82014807e-02  1.22053631e-01 -1.85006350e-01 -2.82590687e-01\n",
      "  -9.89100218e-01 -3.52546632e-01 -5.01646161e-01 -4.30932492e-02\n",
      "   3.10797811e-01  2.92708397e-01  8.95857275e-01 -9.97205555e-01\n",
      "   5.14570065e-02  8.79228786e-02 -2.43160035e-02 -9.99158740e-01\n",
      "  -8.03748071e-02  9.99832869e-01 -5.45541048e-02  2.36504406e-01\n",
      "   2.63946712e-01  2.27275074e-01  3.85187596e-01  7.22245201e-02\n",
      "   9.92905736e-01  9.98378158e-01  2.18894258e-01  9.92295623e-01\n",
      "  -1.03843929e-02  1.34400025e-01  3.70136976e-01  5.26315644e-02\n",
      "   7.16468543e-02  6.46558478e-02  1.79592997e-01  7.81894207e-01\n",
      "  -8.43073800e-02 -1.88978434e-01 -8.73330355e-01 -4.19237912e-01\n",
      "   9.99491036e-01 -9.75836575e-01  3.16673964e-02  9.90380347e-03\n",
      "  -9.61534917e-01  2.08279207e-01 -2.43849754e-01  2.90902734e-01\n",
      "   1.22669511e-01 -9.25882876e-01  9.54785049e-01 -1.25066116e-01\n",
      "  -9.56681371e-01  4.96115200e-02 -7.84768686e-02 -7.31092691e-02\n",
      "   2.16084749e-01  1.19919769e-01  6.15975201e-01  6.76809102e-02\n",
      "  -3.50295901e-01  5.93035743e-02  7.84424320e-03  1.13423400e-01\n",
      "   1.43168688e-01 -9.97220099e-01  9.32965875e-01  8.72070670e-01\n",
      "   1.40227720e-01  6.93126395e-02  1.04326718e-01  6.23246849e-01\n",
      "   1.12626359e-01  7.49741375e-01  8.87816608e-01 -9.82819855e-01\n",
      "   9.63761151e-01 -3.18862289e-01  5.88350594e-01  2.45154724e-01\n",
      "   9.89443719e-01 -2.78829746e-02 -2.21802622e-01 -5.46600044e-01\n",
      "  -2.25453362e-01 -7.27033854e-01  1.60167925e-02  9.54781413e-01\n",
      "  -2.60468811e-01 -2.45202929e-01  2.17346340e-01  3.08246035e-02\n",
      "   9.69003811e-02 -2.98522357e-02 -1.12785831e-01 -3.00382227e-01\n",
      "   5.02070859e-02  3.96818161e-01 -1.41886771e-01  2.11192340e-01\n",
      "   9.94366825e-01  3.09877787e-02  9.60601091e-01 -1.19316481e-01\n",
      "   1.61113188e-01  7.27271056e-03 -1.14808846e-02 -6.92317188e-02\n",
      "   2.41333321e-01  1.15721293e-01 -1.53856874e-01 -1.23409957e-01\n",
      "   3.93895239e-01  6.68629110e-02  1.74320973e-02  1.74860686e-01\n",
      "  -3.20058726e-02  1.36843815e-01 -5.13664126e-01  1.68769062e-01\n",
      "   1.94040254e-01 -1.00961670e-01 -7.68319587e-04 -7.51471743e-02\n",
      "  -1.06745362e-01 -1.99788019e-01 -4.73947637e-02 -7.61829138e-01\n",
      "  -3.97015274e-01 -2.82297492e-01 -9.98439133e-01 -1.98642433e-01\n",
      "   1.38916790e-01 -1.95562113e-02  1.44506305e-01  1.15605697e-01\n",
      "  -2.74743855e-01 -3.85864004e-02  2.81632900e-01  2.92831510e-01\n",
      "  -4.82928976e-02  1.35157973e-01  1.11427814e-01  4.02422965e-01\n",
      "   2.10188329e-01  1.97342426e-01 -1.16798691e-01  1.41694576e-01\n",
      "  -4.53887396e-02 -2.30750531e-01 -1.01325475e-01  1.67080149e-01\n",
      "  -3.97189289e-01 -9.17051256e-01  7.91990817e-01  2.02241734e-01\n",
      "   1.00098550e-01  1.15078157e-02  3.51675451e-01  9.11068022e-01\n",
      "   1.57172352e-01  9.16177392e-01 -7.68506765e-01 -9.99856353e-01\n",
      "  -6.71936631e-01  2.01840281e-01  1.64917275e-01 -8.17345202e-01\n",
      "   9.98994529e-01 -2.48399466e-01 -8.15702900e-02 -4.81100753e-02\n",
      "   5.68006754e-01 -5.08140624e-01  1.50219686e-02 -6.60061419e-01\n",
      "  -8.26658666e-01 -2.06084371e-01 -2.56730884e-01 -9.75711882e-01\n",
      "  -3.14760029e-01 -1.04567692e-01  1.76322684e-01  7.86631703e-02\n",
      "   5.96020778e-04  1.11459404e-01 -8.71911287e-01  1.94897279e-01\n",
      "   2.34144196e-01  2.00406745e-01  4.97877300e-02 -1.32908225e-01\n",
      "   9.98677969e-01  1.42797559e-01 -9.94356096e-01  4.75438058e-01\n",
      "   1.47536278e-01  4.25857939e-02  1.72279134e-01  2.33553320e-01\n",
      "  -9.82046545e-01 -1.29251942e-01  1.54050710e-02  1.32393211e-01\n",
      "  -2.87682563e-01 -5.08754179e-02  2.13409569e-02 -1.52496696e-01\n",
      "  -4.07090813e-01  7.67165124e-02  9.68568206e-01 -6.31629348e-01\n",
      "   3.27355206e-01 -9.29728270e-01 -2.62710631e-01 -9.83925581e-01\n",
      "   4.97102261e-01  9.96017933e-01  9.98745382e-01 -3.88151687e-03\n",
      "   6.07822418e-01 -1.76540986e-01  9.93260026e-01 -3.24162543e-01\n",
      "   8.43324214e-02  4.40540403e-01 -1.94359854e-01  1.02482855e-01\n",
      "  -2.06242893e-02 -9.90619063e-01  3.13729676e-03  9.54829633e-01\n",
      "   9.95223939e-01  2.11856272e-02 -5.74326277e-01 -9.28624451e-01\n",
      "   8.10235441e-01  9.21086729e-01  1.19602866e-01 -6.23047762e-02\n",
      "  -9.97243226e-01 -6.45470247e-02 -9.84161422e-02 -7.31319934e-02\n",
      "   9.99595523e-01 -2.37927407e-01 -9.87548113e-01  3.26115876e-01\n",
      "  -1.74791217e-02 -1.95339516e-01 -1.73851058e-01  9.90319848e-02\n",
      "   9.72545624e-01  9.97482240e-01  9.98760700e-01  4.58498634e-02\n",
      "  -8.12222660e-01 -8.40607762e-01  9.86620009e-01  3.38823833e-02\n",
      "   1.64732635e-01 -9.40271676e-01  2.57773548e-01 -3.70382518e-02\n",
      "  -9.26568627e-01 -1.06609091e-02 -8.19722861e-02  4.37956452e-01\n",
      "  -6.69514760e-02  8.90017450e-02  1.38905182e-01 -8.88980478e-02\n",
      "  -2.10520811e-02  2.38607198e-01 -7.70145282e-02 -6.53171316e-02\n",
      "  -3.40039097e-02 -6.11467138e-02  9.99933660e-01 -2.56375641e-01\n",
      "   7.41954446e-02  7.65564665e-02 -7.35628307e-02 -1.56823590e-01\n",
      "   2.19877690e-01 -9.64963675e-01 -2.25882873e-01  9.99736905e-01]], Target: [[-3.96706343e-01  1.84148073e-01  4.70751673e-01 -6.95919037e-01\n",
      "   6.82889760e-01 -4.44782108e-01  1.53891131e-01 -3.73781949e-01\n",
      "   5.38796663e-01  1.53186172e-01  8.15912709e-02 -7.38375008e-01\n",
      "   4.43020947e-02  5.08821867e-02 -5.08260667e-01 -5.38966991e-02\n",
      "   4.47711021e-01  1.59033880e-01 -5.62959790e-01  6.82564139e-01\n",
      "  -3.00086796e-01 -2.22510710e-01  1.94007188e-01 -1.72321782e-01\n",
      "   2.66518086e-01 -2.50170588e-01 -1.95697054e-01 -4.12705481e-01\n",
      "  -6.40759766e-02 -2.26716787e-01  8.96659344e-02  9.38396990e-01\n",
      "   1.69315375e-03 -1.32762104e-01 -5.08412793e-02 -4.25769478e-01\n",
      "   6.25051022e-01 -2.85213023e-01 -1.71608090e-01 -3.70932847e-01\n",
      "   1.32718578e-01 -6.44938171e-01  7.29106888e-02 -2.96872377e-01\n",
      "  -6.71663582e-02  5.69514871e-01 -2.51859188e-01 -7.76744038e-02\n",
      "  -1.16393063e-02  2.61347860e-01 -4.16434467e-01  1.21217407e-01\n",
      "   2.54057288e-01  4.98068854e-02  2.93616384e-01  1.18234888e-01\n",
      "   6.38706759e-02  2.28261232e-01  2.57472157e-01 -3.75611007e-01\n",
      "   9.44280252e-02 -6.39830112e-01  5.52430525e-02  7.17782602e-02\n",
      "   4.79506582e-01  4.39781010e-01  6.50255203e-01 -1.41211063e-01\n",
      "   4.24202353e-01  2.97453016e-01 -1.59758583e-01  2.19569147e-01\n",
      "  -3.79250705e-01  1.02590017e-01 -1.52482188e+00 -2.11376518e-01\n",
      "   9.14979875e-02  6.45415634e-02 -3.24506104e-01  1.25673756e-01\n",
      "  -8.94838199e-02 -1.88707754e-01 -2.99447656e-01 -2.01674327e-01\n",
      "   1.02089681e-01  1.10362566e+00 -6.22046351e-01 -1.32854849e-01\n",
      "  -8.15402120e-02  9.00720060e-01  5.89228451e-01  2.62897015e-01\n",
      "   1.30572654e-02 -2.83107460e-01 -7.33279943e-01 -1.55493811e-01\n",
      "  -7.36136734e-02  5.19257903e-01  1.09400101e-01  3.91480476e-01\n",
      "   2.52362162e-01  1.41780078e-03 -2.18156189e-01  2.92416662e-01\n",
      "  -1.78754598e-01  3.53928417e-01 -2.70568103e-01  8.94114494e-01\n",
      "  -1.55272484e-01  7.68264234e-01  4.44557190e-01 -1.33523732e-01\n",
      "  -8.58044267e-01  3.47318202e-02 -4.64084774e-01  3.41177255e-01\n",
      "  -2.38902509e-01 -3.51579607e-01 -2.01957151e-02 -3.14819962e-02\n",
      "  -7.34935284e-01 -8.71324465e-02 -1.16322577e-01 -2.00377434e-01\n",
      "   3.20635647e-01 -8.42186511e-01 -2.68363357e-01 -1.70169115e-01\n",
      "   3.15732688e-01 -2.09104940e-01  1.09331453e+00  5.52990675e-01\n",
      "  -5.13273418e-01 -3.12843829e-01  6.27639771e-01  3.51144999e-01\n",
      "  -7.34576210e-02  7.44054854e-01 -6.59642220e-01 -2.38677070e-01\n",
      "   9.08123478e-02 -5.96059412e-02  4.44583654e-01 -5.69336295e-01\n",
      "   5.80471575e-01 -2.81176805e-01 -1.22565560e-01 -5.70399642e-01\n",
      "   7.41948366e-01 -9.51437801e-02  4.30639386e-01 -4.37898099e-01\n",
      "  -1.67862937e-01  1.82664305e-01 -4.99685943e-01 -4.68368083e-03\n",
      "  -4.55732197e-02 -4.01471674e-01 -5.52900910e-01  6.23313546e-01\n",
      "   2.61620373e-01 -4.90998596e-01  2.39169091e-01 -5.14086723e-01\n",
      "   1.18348666e-01 -2.04144828e-02 -1.80209696e-01 -4.02189165e-01\n",
      "   3.09370041e-01  6.46791697e-01  6.04000568e-01 -4.65144098e-01\n",
      "  -7.80585557e-02  4.63017017e-01  5.26757479e-01 -2.35172287e-01\n",
      "   6.32813871e-02  8.85059476e-01 -3.85284215e-01 -6.84171617e-01\n",
      "   2.41497308e-01  4.74587679e-01  1.93893731e-01  5.13298631e-01\n",
      "  -2.39188701e-01  1.96760550e-01 -7.15237141e-01  8.13737869e-01\n",
      "  -2.67376006e-01  3.49629283e-01 -1.15628071e-01  6.99572116e-02\n",
      "  -3.24791744e-02  1.04031652e-01  3.24163169e-01 -5.00365615e-01\n",
      "  -2.35196918e-01 -5.37283480e-01 -2.80465990e-01 -2.35687897e-01\n",
      "   2.26613730e-02 -1.66775078e-01  4.20522660e-01 -9.95176435e-02\n",
      "  -4.86772984e-01 -2.36339882e-01 -2.82764971e-01 -1.14421308e-01\n",
      "   2.40718871e-01  2.23550886e-01  1.92320749e-01  3.71547222e-01\n",
      "  -3.16959471e-01  1.35709584e-01  3.88267227e-02  4.82874036e-01\n",
      "  -3.65096539e-01 -5.68045080e-02 -5.65132976e-01  2.25501239e-01\n",
      "   4.63682324e-01  1.08458847e-01 -6.29747331e-01  5.91335237e-01\n",
      "  -5.35101593e-01  6.63392693e-02 -3.67171168e-02  4.48474251e-02\n",
      "  -1.53063670e-01  5.65658271e-01  3.07109892e-01  4.77049977e-01\n",
      "  -5.97905397e-01  4.64874446e-01 -1.44818306e-01  2.92845368e-01\n",
      "  -4.99963552e-01  4.25212868e-02 -2.72179514e-01 -4.67953011e-02\n",
      "   9.82672051e-02  3.08185816e-01 -2.05544531e-01 -7.33329654e-02\n",
      "  -4.51946855e-02 -1.96831822e-01 -2.38842279e-01 -2.00705111e-01\n",
      "  -4.15367961e-01 -7.64180720e-02  1.20599419e-01 -1.59606710e-01\n",
      "  -8.65117460e-02 -2.63975024e-01 -5.44410981e-02  1.15600787e-01\n",
      "  -5.71333349e-01  3.14560115e-01 -2.03745350e-01 -2.83800095e-01\n",
      "   6.40742004e-01 -6.54523432e-01  1.89885437e-01  3.24970305e-01\n",
      "  -5.39546490e-01  7.20897689e-02  6.47641540e-01 -1.48797363e-01\n",
      "   4.29599136e-02 -6.80231750e-01  8.69925499e-01 -3.00982863e-01\n",
      "  -4.10420150e-01 -8.58362019e-02  1.15451857e-01 -7.62980461e-01\n",
      "  -9.99297917e-01  5.07347703e-01  5.60960472e-01  7.58028030e-03\n",
      "  -1.42125770e-01  2.68653363e-01 -1.40134156e-01 -5.46149731e-01\n",
      "   3.89570326e-01  2.10325360e-01  3.14681649e-01 -9.33022618e-01\n",
      "   3.95361841e-01 -2.45325416e-02 -1.24284935e+00 -2.37830639e-01\n",
      "   6.23459578e-01 -2.10137844e-01 -6.44335926e-01  3.17792356e-01\n",
      "  -2.72481889e-01  9.05688107e-03  3.76094162e-01  4.30683285e-01\n",
      "  -7.50495970e-01 -3.60813960e-02 -5.92975914e-02  4.50695425e-01\n",
      "   1.16297781e-01 -7.30480328e-02 -4.12225664e-01 -1.15154631e-01\n",
      "   6.10533893e-01 -8.99107605e-02  1.49208054e-01 -9.99276042e-02\n",
      "   2.34234169e-01 -1.75240934e-01 -3.90067756e-01 -1.32796496e-01\n",
      "   1.20404780e-01 -1.20296612e-01 -2.33771801e-01 -3.56902391e-01\n",
      "  -7.03296721e-01  2.82058835e-01 -6.17195368e-01  4.70298052e-01\n",
      "  -7.22752631e-01  1.78358883e-01  4.69668597e-01 -2.08909344e-02\n",
      "  -8.56267691e-01 -1.52873784e-01 -3.61980945e-02 -1.72571734e-01\n",
      "  -4.00954127e-01 -3.25359583e-01 -1.27221391e-01  5.39867096e-02\n",
      "   1.06445169e+00  1.38203710e-01 -8.98714125e-01 -4.22784120e-01\n",
      "   2.25139976e-01  2.31031701e-01 -2.43082225e-01  3.28110047e-02\n",
      "   2.22869813e-01 -2.41087139e-01 -1.66281223e-01 -4.32604969e-01\n",
      "   1.39383763e-01 -1.90033808e-01  4.09804374e-01 -5.28297722e-01\n",
      "  -1.83474645e-01 -3.08529604e-02 -2.02775165e-01 -3.72847497e-01\n",
      "  -9.77260694e-02  2.59265959e-01 -6.05102658e-01 -3.15014273e-01\n",
      "   8.35071802e-01  1.45049170e-01 -2.02246562e-01  6.03075862e-01\n",
      "   6.40809759e-02 -1.72599807e-01  1.40383661e+00  8.56098607e-02\n",
      "   1.56504110e-01  4.47142273e-02  4.21292007e-01  1.77478671e-01\n",
      "   4.52503622e-01  2.12528221e-02  2.37919182e-01  3.34666729e-01\n",
      "   8.00699592e-01 -5.65806508e-01  1.94113106e-01  2.67468452e-01\n",
      "  -2.88172841e-01  4.72036958e-01  3.29039156e-01  2.82531500e-01\n",
      "   8.18334043e-01  6.55252814e-01 -1.91006064e-03  2.25224406e-01\n",
      "  -5.70230126e-01 -5.72810829e-01 -2.45312929e-01 -9.06950593e-01\n",
      "   5.29328585e-01  3.06924701e-01 -2.04333633e-01 -1.84496999e-01\n",
      "  -1.83843449e-01  2.12769300e-01 -2.49508962e-01  4.52732220e-02\n",
      "   1.46743342e-01 -9.38093737e-02 -1.64353661e-02  3.85204405e-01\n",
      "   8.18137050e-01  4.75942552e-01 -2.89926380e-01  4.80565488e-01\n",
      "   6.43447280e-01  2.48760760e-01  7.96516180e-01  3.06856304e-01\n",
      "  -4.58992392e-01  2.08280772e-01  1.01166487e-01 -4.07287836e-01\n",
      "  -2.64025718e-01 -3.80827814e-01 -4.43126321e-01 -2.41996452e-01\n",
      "  -2.72006720e-01 -5.68024457e-01  9.10948336e-01 -8.10707584e-02\n",
      "  -7.16785491e-02  1.95182592e-01 -2.60395743e-02 -1.44838318e-01\n",
      "   2.85536259e-01 -1.45868123e-01  2.79528685e-02  1.01235449e-01\n",
      "   7.73731247e-02 -2.52586335e-01 -1.08805291e-01  2.47530609e-01\n",
      "  -1.33634061e-02 -5.13449430e-01  1.96109504e-01  3.19078952e-01\n",
      "  -9.29395407e-02 -1.11626148e-01 -2.75587261e-01 -7.97608018e-01\n",
      "   1.96136773e-01 -1.60074905e-01  8.30784202e-01  2.54645765e-01\n",
      "  -1.79407224e-01  2.23913401e-01  1.92974567e-01 -2.97648579e-01\n",
      "   1.12157442e-01  8.80003497e-02 -5.50619006e-01  1.62276551e-01\n",
      "  -5.35327941e-03 -3.48265886e-01 -2.87900567e-01  3.55386913e-01\n",
      "   1.02546297e-01 -6.52072653e-02  1.27819218e-02 -6.89513460e-02\n",
      "  -6.63126707e-01 -3.17249149e-01  5.10407925e-01  6.01804912e-01\n",
      "   8.34710062e-01 -7.50331879e-01  3.46667528e-01  9.11052227e-02\n",
      "  -4.31141704e-01 -8.57944787e-02  2.43730292e-01 -4.76355582e-01\n",
      "  -6.44341588e-01  5.94476402e-01 -2.51759648e-01 -1.65638536e-01\n",
      "   2.88456939e-02  5.03619015e-02  1.07477680e-01 -9.70220506e-01\n",
      "  -3.83477181e-01 -9.89057496e-02 -1.65422991e-01 -5.10590196e-01\n",
      "   8.99339855e-01  2.71495044e-01 -1.14351034e-01 -3.75244021e-01\n",
      "  -8.01199496e-01 -5.88071287e-01 -3.46934855e-01 -9.32527408e-02\n",
      "  -6.03636429e-02 -4.11915332e-01 -1.19442374e-01 -4.01204646e-01\n",
      "  -6.83907568e-02  4.30419862e-01  1.16275322e+00 -7.01727331e-01\n",
      "   2.34726608e-01 -9.32354182e-02 -3.65933865e-01 -9.01176572e-01\n",
      "   4.25603092e-01  3.22588459e-02  5.61877906e-01 -2.19473094e-01\n",
      "  -4.93122965e-01 -3.44534993e-01 -1.41517460e-01 -7.77161002e-01\n",
      "   4.21069145e-01 -2.57030040e-01 -9.85861644e-02 -7.86121607e-01\n",
      "   7.77844712e-02 -3.85004580e-01 -9.83917415e-02 -8.92341912e-01\n",
      "  -1.48099586e-01 -2.33223885e-01  3.59907746e-02 -4.49462205e-01\n",
      "  -2.13359505e-01 -5.21462977e-01  6.20386541e-01  1.78577647e-01\n",
      "  -4.86176699e-01 -3.63991678e-01  1.35840833e-01 -2.19497740e-01\n",
      "   3.00655305e-01 -3.67108583e-01  1.55401215e-01  1.61361843e-01\n",
      "   1.83931530e-01  2.61369944e-01 -1.16150483e-01  1.37122825e-01\n",
      "   3.75287175e-01  9.29984689e-01  1.01224035e-01 -3.19006711e-01\n",
      "  -3.19674499e-02  8.66648033e-02 -3.27429295e-01 -1.85612440e-01\n",
      "   3.17468017e-01  1.90134048e-01  2.78349876e-01  5.90005219e-01\n",
      "  -1.68101639e-02  5.28310798e-02  2.04730347e-01 -2.82250583e-01\n",
      "  -5.48339933e-02  3.95601928e-01  3.48920524e-01 -8.47559348e-02\n",
      "  -9.17057022e-02 -3.34233828e-02  4.16534275e-01 -3.20402920e-01\n",
      "  -5.57326496e-01  1.19472504e+00 -6.55090094e-01  1.40703484e-01\n",
      "  -2.80561000e-01  2.93630362e-01  4.11468446e-02 -8.45300853e-02\n",
      "  -1.95968926e-01 -6.43384278e-01  6.11326277e-01  3.60900402e-01\n",
      "  -4.44105029e-01 -3.19632888e-03  3.65958698e-02  6.88035309e-01\n",
      "  -7.70980492e-02 -7.04270452e-02  2.89689183e-01 -4.57384884e-01\n",
      "   2.65477777e-01 -3.74117345e-01  4.65843603e-02  1.16832852e-01\n",
      "  -3.40262264e-01 -3.97594899e-01  1.43721886e-02 -3.43860328e-01\n",
      "  -2.47091383e-01  6.24853432e-01  5.57676665e-02 -3.53851616e-01\n",
      "  -5.29178567e-02 -9.50438559e-01 -5.29520869e-01 -2.92636961e-01\n",
      "   7.20882893e-01 -2.94643909e-01  8.36807013e-01 -3.63900661e-02\n",
      "   3.33141446e-01 -4.73595887e-01  1.00375034e-01 -4.25125062e-01\n",
      "   1.47000626e-02 -5.79963923e-02 -4.14703786e-02  1.26254678e-01\n",
      "   1.59319460e-01 -7.13146746e-01 -1.58192307e-01  8.23558569e-01\n",
      "   2.83568323e-01  5.89488387e-01  3.16329002e-01  3.91815424e-01\n",
      "   1.74197957e-01  8.35965574e-03  8.67357180e-02  1.78237900e-01\n",
      "  -8.79038990e-01  1.22607581e-01  7.51438200e-01 -2.04906017e-02\n",
      "   5.93295455e-01  1.16186842e-01 -2.82213926e-01 -2.59893686e-01\n",
      "   1.20407455e-01  5.66671602e-02  2.98778683e-01  2.90898800e-01\n",
      "   2.04419255e-01  3.19256365e-01  6.47726417e-01  2.88063020e-01\n",
      "   2.74607539e-03 -8.93251225e-02  3.32095742e-01 -4.30023044e-01\n",
      "  -3.72534752e-01 -3.52470934e-01 -4.55379814e-01  4.90781128e-01\n",
      "   2.77909860e-02 -1.93298668e-01 -4.05525297e-01 -1.68154195e-01\n",
      "   2.33153462e-01  4.05483246e-01 -4.51254606e-01 -6.53888822e-01\n",
      "  -2.89655954e-01 -5.22493839e-01 -5.78905225e-01 -9.61781442e-01\n",
      "   1.35477409e-01 -2.55215168e-01 -5.11470437e-01  1.04217844e+01\n",
      "   8.28337967e-01  2.74067700e-01 -2.21623823e-01 -1.16748661e-01\n",
      "  -1.61481097e-01  1.33223817e-01  2.04038978e-01 -7.51442492e-01\n",
      "   6.03378892e-01 -6.02111816e-01 -2.76657343e-01 -9.19162929e-02\n",
      "  -7.36004293e-01  4.85707760e-01  1.58512779e-02  1.52219683e-01\n",
      "  -3.31498682e-01 -1.94488585e-01  6.04710698e-01  1.39313668e-01\n",
      "   4.60519493e-01 -3.32635224e-01  5.58532774e-01 -2.26947010e-01\n",
      "   1.76768407e-01  5.06549716e-01 -1.44303218e-01  4.08900917e-01\n",
      "  -3.04321945e-01  8.12170431e-02  3.55172008e-01  4.07794975e-02\n",
      "  -6.23797596e-01 -4.65948224e-01  1.00592345e-01  1.54134738e+00\n",
      "   5.28728902e-01  7.33093858e-01 -2.18491584e-01  1.17320991e+00\n",
      "   6.02698326e-01 -1.64051130e-01 -1.75772980e-01  9.98346731e-02\n",
      "  -4.90502119e-01  3.07011664e-01 -5.67384541e-01  1.02779418e-02\n",
      "   7.35181943e-02  1.06494093e+00  7.27080703e-02  4.96023655e-01\n",
      "  -3.41294467e-01 -2.63721108e-01 -8.97257775e-02  3.40307415e-01\n",
      "   5.89313865e-01  5.23469090e-01  2.89519101e-01  1.34783223e-01\n",
      "  -2.33345821e-01 -1.28252164e-01  6.99166119e-01  6.91264808e-01\n",
      "   2.78585762e-01  3.08235645e-01 -3.94803315e-01  2.59314328e-02\n",
      "   5.51262558e-01  5.80305494e-02 -2.60507733e-01 -1.36468336e-01\n",
      "  -3.51648837e-01 -3.88839424e-01  5.05773239e-02  5.33314571e-02\n",
      "  -1.81639984e-01  2.52725333e-01  8.23599547e-02 -5.73509075e-02\n",
      "   4.01723206e-01  7.30425477e-01 -4.87310529e-01  1.33273578e+00\n",
      "  -2.41629481e-01  2.79176235e-01  9.10223350e-02 -7.65649378e-01\n",
      "  -6.45210505e-01  4.08090472e-01  3.07496250e-01 -1.16635576e-01\n",
      "   2.94180214e-01 -1.01009321e+00  3.95621866e-01  3.02350283e-01\n",
      "  -5.06945372e-01 -3.78811240e-01  6.02268696e-01 -5.58104694e-01]]\n"
     ]
    }
   ],
   "source": [
    "for feat, targ in train_dataset.take(1):\n",
    "  print ('Features: {}, Target: {}'.format(feat, targ))\n",
    "#   print(feat.shape)\n",
    "#   print(targ.shape)  "
   ]
  },
  {
   "cell_type": "code",
   "execution_count": 33,
   "metadata": {},
   "outputs": [],
   "source": []
  },
  {
   "cell_type": "code",
   "execution_count": 37,
   "metadata": {},
   "outputs": [],
   "source": [
    "from tensorflow.keras import regularizers\n",
    "opt = keras.optimizers.Adam(learning_rate=0.001)\n",
    "\n",
    "def get_compiled_model():\n",
    "  model = tf.keras.Sequential([\n",
    "    tf.keras.layers.Dense(350, activation='relu',kernel_regularizer=regularizers.l2(l2=1e-4)),\n",
    "    tf.keras.layers.Dense(200, activation='relu',kernel_regularizer=regularizers.l2(l2=1e-4)),\n",
    "    tf.keras.layers.Dense(150, activation='relu',kernel_regularizer=regularizers.l2(l2=1e-4)),\n",
    "    tf.keras.layers.Dense(768)\n",
    "  ])\n",
    "\n",
    "  model.compile(optimizer=opt,\n",
    "                loss=tf.keras.losses.cosine_similarity,\n",
    "                metrics='mse'\n",
    "                )\n",
    "  return model"
   ]
  },
  {
   "cell_type": "code",
   "execution_count": 38,
   "metadata": {},
   "outputs": [
    {
     "name": "stdout",
     "output_type": "stream",
     "text": [
      "Epoch 1/15\n",
      "WARNING:tensorflow:Layer dense_4 is casting an input tensor from dtype float64 to the layer's dtype of float32, which is new behavior in TensorFlow 2.  The layer has dtype float32 because its dtype defaults to floatx.\n",
      "\n",
      "If you intended to run this layer in float32, you can safely ignore this warning. If in doubt, this warning is likely only an issue if you are porting a TensorFlow 1.X model to TensorFlow 2.\n",
      "\n",
      "To change all layers to have dtype float64 by default, call `tf.keras.backend.set_floatx('float64')`. To change just this layer, pass dtype='float64' to the layer constructor. If you are the author of this layer, you can disable autocasting by passing autocast=False to the base Layer constructor.\n",
      "\n",
      "7967/7967 [==============================] - 59s 7ms/step - loss: -0.7385 - mse: 46.5084\n",
      "Epoch 2/15\n",
      "7967/7967 [==============================] - 59s 7ms/step - loss: -0.7485 - mse: 0.4865\n",
      "Epoch 3/15\n",
      "7967/7967 [==============================] - 60s 7ms/step - loss: -0.7501 - mse: 0.4162\n",
      "Epoch 4/15\n",
      "7967/7967 [==============================] - 59s 7ms/step - loss: -0.7514 - mse: 0.3857\n",
      "Epoch 5/15\n",
      "7967/7967 [==============================] - 62s 8ms/step - loss: -0.7522 - mse: 0.4464\n",
      "Epoch 6/15\n",
      "7967/7967 [==============================] - 57s 7ms/step - loss: -0.7527 - mse: 0.5102\n",
      "Epoch 7/15\n",
      "7967/7967 [==============================] - 57s 7ms/step - loss: -0.7531 - mse: 0.5457\n",
      "Epoch 8/15\n",
      "7967/7967 [==============================] - 57s 7ms/step - loss: -0.7530 - mse: 0.5975\n",
      "Epoch 9/15\n",
      "7967/7967 [==============================] - 57s 7ms/step - loss: -0.7531 - mse: 0.6757\n",
      "Epoch 10/15\n",
      "7967/7967 [==============================] - 56s 7ms/step - loss: -0.7532 - mse: 0.7624\n",
      "Epoch 11/15\n",
      "7967/7967 [==============================] - 57s 7ms/step - loss: -0.7535 - mse: 0.8005\n",
      "Epoch 12/15\n",
      "7967/7967 [==============================] - 56s 7ms/step - loss: -0.7535 - mse: 0.7231\n",
      "Epoch 13/15\n",
      "7967/7967 [==============================] - 57s 7ms/step - loss: -0.7535 - mse: 0.8079\n",
      "Epoch 14/15\n",
      "7967/7967 [==============================] - 57s 7ms/step - loss: -0.7536 - mse: 0.8172\n",
      "Epoch 15/15\n",
      "7967/7967 [==============================] - 57s 7ms/step - loss: -0.7536 - mse: 0.8108\n"
     ]
    },
    {
     "data": {
      "text/plain": [
       "<tensorflow.python.keras.callbacks.History at 0x1f4be7a0488>"
      ]
     },
     "execution_count": 38,
     "metadata": {},
     "output_type": "execute_result"
    }
   ],
   "source": [
    "model = get_compiled_model()\n",
    "model.fit(train_dataset, epochs=15)"
   ]
  },
  {
   "cell_type": "code",
   "execution_count": 39,
   "metadata": {},
   "outputs": [
    {
     "name": "stdout",
     "output_type": "stream",
     "text": [
      "65/65 [==============================] - 0s 5ms/step - loss: -0.7579 - mse: 0.8006\n"
     ]
    },
    {
     "data": {
      "text/plain": [
       "[-0.757902979850769, 0.8006114959716797]"
      ]
     },
     "execution_count": 39,
     "metadata": {},
     "output_type": "execute_result"
    }
   ],
   "source": [
    "model.evaluate(df_test.values,df2_test.values)"
   ]
  },
  {
   "cell_type": "code",
   "execution_count": 40,
   "metadata": {},
   "outputs": [
    {
     "name": "stdout",
     "output_type": "stream",
     "text": [
      "Model: \"sequential_1\"\n",
      "_________________________________________________________________\n",
      "Layer (type)                 Output Shape              Param #   \n",
      "=================================================================\n",
      "dense_4 (Dense)              (None, 350)               269150    \n",
      "_________________________________________________________________\n",
      "dense_5 (Dense)              (None, 200)               70200     \n",
      "_________________________________________________________________\n",
      "dense_6 (Dense)              (None, 150)               30150     \n",
      "_________________________________________________________________\n",
      "dense_7 (Dense)              (None, 768)               115968    \n",
      "=================================================================\n",
      "Total params: 485,468\n",
      "Trainable params: 485,468\n",
      "Non-trainable params: 0\n",
      "_________________________________________________________________\n"
     ]
    }
   ],
   "source": [
    "model.summary()"
   ]
  },
  {
   "cell_type": "code",
   "execution_count": null,
   "metadata": {},
   "outputs": [],
   "source": [
    "import tensorflow as tf\n",
    "def predict(py_list):\n",
    "    return model.predict(tf.convert_to_tensor(py_list))\n",
    "    "
   ]
  },
  {
   "cell_type": "code",
   "execution_count": null,
   "metadata": {},
   "outputs": [],
   "source": [
    "model.predict(tf.reshape(tf.convert_to_tensor(exists['context_word_embeddings'][0]),(1,-1)))"
   ]
  },
  {
   "cell_type": "code",
   "execution_count": 41,
   "metadata": {},
   "outputs": [],
   "source": [
    "exists['predictions'] = exists.apply(lambda row: model.predict(tf.reshape(tf.convert_to_tensor(row['context_word_embeddings']),(1,-1))),axis=1)"
   ]
  },
  {
   "cell_type": "code",
   "execution_count": null,
   "metadata": {},
   "outputs": [],
   "source": [
    "exists['predictions'][0][0]"
   ]
  },
  {
   "cell_type": "code",
   "execution_count": null,
   "metadata": {
    "scrolled": true
   },
   "outputs": [],
   "source": [
    "# exists = exists.reset_index()"
   ]
  },
  {
   "cell_type": "code",
   "execution_count": 43,
   "metadata": {},
   "outputs": [],
   "source": [
    "exists['ID']=exists.index+1"
   ]
  },
  {
   "cell_type": "code",
   "execution_count": 44,
   "metadata": {},
   "outputs": [
    {
     "data": {
      "text/plain": [
       "Index(['word', 'body', 'def', 'quran_ex', 'example', 'def_tokenized',\n",
       "       'example_tokenized', 'context_word_embeddings', 'choosed_Example',\n",
       "       'word_segmented', 'word_stemed', 'def_embeddings', 'predictions', 'ID'],\n",
       "      dtype='object')"
      ]
     },
     "execution_count": 44,
     "metadata": {},
     "output_type": "execute_result"
    }
   ],
   "source": [
    "exists.columns"
   ]
  },
  {
   "cell_type": "code",
   "execution_count": 48,
   "metadata": {},
   "outputs": [],
   "source": [
    "def preprocess(nd_arr):\n",
    "    return list(nd_arr[0])"
   ]
  },
  {
   "cell_type": "code",
   "execution_count": 53,
   "metadata": {},
   "outputs": [],
   "source": [
    "exists['predictions_preprocessed'] = exists.apply(lambda row :preprocess(row['predictions']),axis=1)"
   ]
  },
  {
   "cell_type": "code",
   "execution_count": null,
   "metadata": {},
   "outputs": [],
   "source": [
    "exists['wordandID'] = exists.apply(lambda row : row['word'].strip()+str(row['ID'].strip()),axis=1)"
   ]
  },
  {
   "cell_type": "code",
   "execution_count": 81,
   "metadata": {},
   "outputs": [],
   "source": [
    "exists[['wordandID','predictions_preprocessed']].to_csv('./prdictions_embeddings.csv',encoding='utf-8',index=False)"
   ]
  },
  {
   "cell_type": "code",
   "execution_count": 82,
   "metadata": {},
   "outputs": [],
   "source": [
    "exists[['wordandID','def_embeddings']].to_csv('./def_embeddings.csv',encoding='utf-8',index=False)"
   ]
  },
  {
   "cell_type": "code",
   "execution_count": null,
   "metadata": {},
   "outputs": [],
   "source": [
    "exists['predictions_preprocessed'] "
   ]
  },
  {
   "cell_type": "code",
   "execution_count": null,
   "metadata": {},
   "outputs": [],
   "source": [
    "exists_copy = pd.DataFrame.copy(exists)"
   ]
  },
  {
   "cell_type": "code",
   "execution_count": null,
   "metadata": {},
   "outputs": [],
   "source": [
    "exists.to_csv('./exists_after_prediction',encoding='utf-8',index=False)"
   ]
  },
  {
   "cell_type": "code",
   "execution_count": 56,
   "metadata": {},
   "outputs": [],
   "source": [
    "from sklearn import preprocessing"
   ]
  },
  {
   "cell_type": "code",
   "execution_count": 59,
   "metadata": {},
   "outputs": [],
   "source": [
    "exists['norm_prerdictions'] = exists.apply(lambda row :preprocessing.normalize(row['predictions'],norm='l2'),axis=1)"
   ]
  },
  {
   "cell_type": "code",
   "execution_count": 63,
   "metadata": {
    "scrolled": false
   },
   "outputs": [],
   "source": [
    "exists['norm_def'] = exists.apply(lambda row :preprocessing.normalize([row['def_embeddings']],norm='l2'),axis=1)"
   ]
  },
  {
   "cell_type": "code",
   "execution_count": 67,
   "metadata": {},
   "outputs": [
    {
     "data": {
      "text/plain": [
       "numpy.ndarray"
      ]
     },
     "execution_count": 67,
     "metadata": {},
     "output_type": "execute_result"
    }
   ],
   "source": [
    "type(exists['norm_prerdictions'][0])"
   ]
  },
  {
   "cell_type": "code",
   "execution_count": 68,
   "metadata": {},
   "outputs": [],
   "source": [
    "exists['vector_multi'] = exists.apply(lambda row : np.multiply(row['norm_def'],row['norm_prerdictions']),axis=1)"
   ]
  },
  {
   "cell_type": "code",
   "execution_count": null,
   "metadata": {},
   "outputs": [],
   "source": [
    "exists['cosine']"
   ]
  },
  {
   "cell_type": "code",
   "execution_count": null,
   "metadata": {
    "scrolled": true
   },
   "outputs": [],
   "source": [
    "from scipy import spatial\n",
    "def predictions_cosine_smilarity(prdiction,df):\n",
    "    prediction = list(prdiction)\n",
    "    prediction = prdiction[0]\n",
    "    df['cos_similarity_temp'] = df.apply(lambda row :1 - spatial.distance.cosine(prediction,row['def_embeddings']),axis=1)\n",
    "    ordered_df = df.sort_values('cos_similarity_temp',ascending=False)\n",
    "    return (ordered_df[\"ID\"][0], ordered_df[\"ID\"][1], ordered_df[\"ID\"][2])\n",
    "exists[\"cos_similarity\"] = exists.apply(lambda row: predictions_cosine_smilarity(row['predictions'],exists_copy),axis=1)"
   ]
  },
  {
   "cell_type": "code",
   "execution_count": null,
   "metadata": {},
   "outputs": [],
   "source": [
    "exists"
   ]
  },
  {
   "cell_type": "code",
   "execution_count": null,
   "metadata": {},
   "outputs": [],
   "source": [
    "from sentence_transformers import SentenceTransformer\n",
    "model = SentenceTransformer(r'C:\\Users\\me250041\\OneDrive - Teradata\\Desktop\\master\\bert-large-nli-stsb-mean-tokens')"
   ]
  },
  {
   "cell_type": "code",
   "execution_count": null,
   "metadata": {},
   "outputs": [],
   "source": [
    "sentences = ['This framework generates embeddings for each input sentence',\n",
    "    'Sentences are passed as a list of string.', \n",
    "    'The quick brown fox jumps over the lazy dog.']\n",
    "sentence_embeddings = model.encode(sentences)"
   ]
  },
  {
   "cell_type": "code",
   "execution_count": null,
   "metadata": {},
   "outputs": [],
   "source": [
    "sentence_embeddings\n"
   ]
  },
  {
   "cell_type": "code",
   "execution_count": null,
   "metadata": {},
   "outputs": [],
   "source": []
  }
 ],
 "metadata": {
  "colab": {
   "collapsed_sections": [],
   "name": "AraBert output Embeddings - PyTorch.ipynb",
   "provenance": []
  },
  "kernelspec": {
   "display_name": "Python 3",
   "language": "python",
   "name": "python3"
  },
  "language_info": {
   "codemirror_mode": {
    "name": "ipython",
    "version": 3
   },
   "file_extension": ".py",
   "mimetype": "text/x-python",
   "name": "python",
   "nbconvert_exporter": "python",
   "pygments_lexer": "ipython3",
   "version": "3.7.4"
  },
  "widgets": {
   "application/vnd.jupyter.widget-state+json": {
    "074d994a7d8642e483c0a011fd9b7b45": {
     "model_module": "@jupyter-widgets/base",
     "model_name": "LayoutModel",
     "state": {
      "_model_module": "@jupyter-widgets/base",
      "_model_module_version": "1.2.0",
      "_model_name": "LayoutModel",
      "_view_count": null,
      "_view_module": "@jupyter-widgets/base",
      "_view_module_version": "1.2.0",
      "_view_name": "LayoutView",
      "align_content": null,
      "align_items": null,
      "align_self": null,
      "border": null,
      "bottom": null,
      "display": null,
      "flex": null,
      "flex_flow": null,
      "grid_area": null,
      "grid_auto_columns": null,
      "grid_auto_flow": null,
      "grid_auto_rows": null,
      "grid_column": null,
      "grid_gap": null,
      "grid_row": null,
      "grid_template_areas": null,
      "grid_template_columns": null,
      "grid_template_rows": null,
      "height": null,
      "justify_content": null,
      "justify_items": null,
      "left": null,
      "margin": null,
      "max_height": null,
      "max_width": null,
      "min_height": null,
      "min_width": null,
      "object_fit": null,
      "object_position": null,
      "order": null,
      "overflow": null,
      "overflow_x": null,
      "overflow_y": null,
      "padding": null,
      "right": null,
      "top": null,
      "visibility": null,
      "width": null
     }
    },
    "0c9e747cfd004bd1b93fc02fa04a54cf": {
     "model_module": "@jupyter-widgets/base",
     "model_name": "LayoutModel",
     "state": {
      "_model_module": "@jupyter-widgets/base",
      "_model_module_version": "1.2.0",
      "_model_name": "LayoutModel",
      "_view_count": null,
      "_view_module": "@jupyter-widgets/base",
      "_view_module_version": "1.2.0",
      "_view_name": "LayoutView",
      "align_content": null,
      "align_items": null,
      "align_self": null,
      "border": null,
      "bottom": null,
      "display": null,
      "flex": null,
      "flex_flow": null,
      "grid_area": null,
      "grid_auto_columns": null,
      "grid_auto_flow": null,
      "grid_auto_rows": null,
      "grid_column": null,
      "grid_gap": null,
      "grid_row": null,
      "grid_template_areas": null,
      "grid_template_columns": null,
      "grid_template_rows": null,
      "height": null,
      "justify_content": null,
      "justify_items": null,
      "left": null,
      "margin": null,
      "max_height": null,
      "max_width": null,
      "min_height": null,
      "min_width": null,
      "object_fit": null,
      "object_position": null,
      "order": null,
      "overflow": null,
      "overflow_x": null,
      "overflow_y": null,
      "padding": null,
      "right": null,
      "top": null,
      "visibility": null,
      "width": null
     }
    },
    "0e991a2df4584261a64af02637279af6": {
     "model_module": "@jupyter-widgets/controls",
     "model_name": "HTMLModel",
     "state": {
      "_dom_classes": [],
      "_model_module": "@jupyter-widgets/controls",
      "_model_module_version": "1.5.0",
      "_model_name": "HTMLModel",
      "_view_count": null,
      "_view_module": "@jupyter-widgets/controls",
      "_view_module_version": "1.5.0",
      "_view_name": "HTMLView",
      "description": "",
      "description_tooltip": null,
      "layout": "IPY_MODEL_7e3ad5b7e8484d309999b43c8fd56322",
      "placeholder": "​",
      "style": "IPY_MODEL_8673398ee3184573953cfd042c00c6f6",
      "value": " 543M/543M [00:08&lt;00:00, 63.9MB/s]"
     }
    },
    "1833452be0b04736a7f1fa8f2d9cb4da": {
     "model_module": "@jupyter-widgets/base",
     "model_name": "LayoutModel",
     "state": {
      "_model_module": "@jupyter-widgets/base",
      "_model_module_version": "1.2.0",
      "_model_name": "LayoutModel",
      "_view_count": null,
      "_view_module": "@jupyter-widgets/base",
      "_view_module_version": "1.2.0",
      "_view_name": "LayoutView",
      "align_content": null,
      "align_items": null,
      "align_self": null,
      "border": null,
      "bottom": null,
      "display": null,
      "flex": null,
      "flex_flow": null,
      "grid_area": null,
      "grid_auto_columns": null,
      "grid_auto_flow": null,
      "grid_auto_rows": null,
      "grid_column": null,
      "grid_gap": null,
      "grid_row": null,
      "grid_template_areas": null,
      "grid_template_columns": null,
      "grid_template_rows": null,
      "height": null,
      "justify_content": null,
      "justify_items": null,
      "left": null,
      "margin": null,
      "max_height": null,
      "max_width": null,
      "min_height": null,
      "min_width": null,
      "object_fit": null,
      "object_position": null,
      "order": null,
      "overflow": null,
      "overflow_x": null,
      "overflow_y": null,
      "padding": null,
      "right": null,
      "top": null,
      "visibility": null,
      "width": null
     }
    },
    "1a7fff9d58ad4a2ca7090bbab5b21733": {
     "model_module": "@jupyter-widgets/controls",
     "model_name": "FloatProgressModel",
     "state": {
      "_dom_classes": [],
      "_model_module": "@jupyter-widgets/controls",
      "_model_module_version": "1.5.0",
      "_model_name": "FloatProgressModel",
      "_view_count": null,
      "_view_module": "@jupyter-widgets/controls",
      "_view_module_version": "1.5.0",
      "_view_name": "ProgressView",
      "bar_style": "success",
      "description": "Downloading: 100%",
      "description_tooltip": null,
      "layout": "IPY_MODEL_0c9e747cfd004bd1b93fc02fa04a54cf",
      "max": 717153,
      "min": 0,
      "orientation": "horizontal",
      "style": "IPY_MODEL_8fe725f0fa3140538a5df031d1785643",
      "value": 717153
     }
    },
    "22fa6ae514134836975907afb146de1d": {
     "model_module": "@jupyter-widgets/base",
     "model_name": "LayoutModel",
     "state": {
      "_model_module": "@jupyter-widgets/base",
      "_model_module_version": "1.2.0",
      "_model_name": "LayoutModel",
      "_view_count": null,
      "_view_module": "@jupyter-widgets/base",
      "_view_module_version": "1.2.0",
      "_view_name": "LayoutView",
      "align_content": null,
      "align_items": null,
      "align_self": null,
      "border": null,
      "bottom": null,
      "display": null,
      "flex": null,
      "flex_flow": null,
      "grid_area": null,
      "grid_auto_columns": null,
      "grid_auto_flow": null,
      "grid_auto_rows": null,
      "grid_column": null,
      "grid_gap": null,
      "grid_row": null,
      "grid_template_areas": null,
      "grid_template_columns": null,
      "grid_template_rows": null,
      "height": null,
      "justify_content": null,
      "justify_items": null,
      "left": null,
      "margin": null,
      "max_height": null,
      "max_width": null,
      "min_height": null,
      "min_width": null,
      "object_fit": null,
      "object_position": null,
      "order": null,
      "overflow": null,
      "overflow_x": null,
      "overflow_y": null,
      "padding": null,
      "right": null,
      "top": null,
      "visibility": null,
      "width": null
     }
    },
    "35835ae44d19486cba8c34a0c488561d": {
     "model_module": "@jupyter-widgets/controls",
     "model_name": "HTMLModel",
     "state": {
      "_dom_classes": [],
      "_model_module": "@jupyter-widgets/controls",
      "_model_module_version": "1.5.0",
      "_model_name": "HTMLModel",
      "_view_count": null,
      "_view_module": "@jupyter-widgets/controls",
      "_view_module_version": "1.5.0",
      "_view_name": "HTMLView",
      "description": "",
      "description_tooltip": null,
      "layout": "IPY_MODEL_d756fbf4ba1d4c2f9bd1ca1d5359d923",
      "placeholder": "​",
      "style": "IPY_MODEL_81ce4cb0ea0c46dbb2c63466fde2a4eb",
      "value": " 717k/717k [00:03&lt;00:00, 182kB/s]"
     }
    },
    "3c585aefa1b54066bcd2a7a931ac5a1c": {
     "model_module": "@jupyter-widgets/base",
     "model_name": "LayoutModel",
     "state": {
      "_model_module": "@jupyter-widgets/base",
      "_model_module_version": "1.2.0",
      "_model_name": "LayoutModel",
      "_view_count": null,
      "_view_module": "@jupyter-widgets/base",
      "_view_module_version": "1.2.0",
      "_view_name": "LayoutView",
      "align_content": null,
      "align_items": null,
      "align_self": null,
      "border": null,
      "bottom": null,
      "display": null,
      "flex": null,
      "flex_flow": null,
      "grid_area": null,
      "grid_auto_columns": null,
      "grid_auto_flow": null,
      "grid_auto_rows": null,
      "grid_column": null,
      "grid_gap": null,
      "grid_row": null,
      "grid_template_areas": null,
      "grid_template_columns": null,
      "grid_template_rows": null,
      "height": null,
      "justify_content": null,
      "justify_items": null,
      "left": null,
      "margin": null,
      "max_height": null,
      "max_width": null,
      "min_height": null,
      "min_width": null,
      "object_fit": null,
      "object_position": null,
      "order": null,
      "overflow": null,
      "overflow_x": null,
      "overflow_y": null,
      "padding": null,
      "right": null,
      "top": null,
      "visibility": null,
      "width": null
     }
    },
    "781ba8c7f77f49718a35d4ab918ae806": {
     "model_module": "@jupyter-widgets/controls",
     "model_name": "ProgressStyleModel",
     "state": {
      "_model_module": "@jupyter-widgets/controls",
      "_model_module_version": "1.5.0",
      "_model_name": "ProgressStyleModel",
      "_view_count": null,
      "_view_module": "@jupyter-widgets/base",
      "_view_module_version": "1.2.0",
      "_view_name": "StyleView",
      "bar_color": null,
      "description_width": "initial"
     }
    },
    "78e8617af99f4175923b83f99177fb46": {
     "model_module": "@jupyter-widgets/base",
     "model_name": "LayoutModel",
     "state": {
      "_model_module": "@jupyter-widgets/base",
      "_model_module_version": "1.2.0",
      "_model_name": "LayoutModel",
      "_view_count": null,
      "_view_module": "@jupyter-widgets/base",
      "_view_module_version": "1.2.0",
      "_view_name": "LayoutView",
      "align_content": null,
      "align_items": null,
      "align_self": null,
      "border": null,
      "bottom": null,
      "display": null,
      "flex": null,
      "flex_flow": null,
      "grid_area": null,
      "grid_auto_columns": null,
      "grid_auto_flow": null,
      "grid_auto_rows": null,
      "grid_column": null,
      "grid_gap": null,
      "grid_row": null,
      "grid_template_areas": null,
      "grid_template_columns": null,
      "grid_template_rows": null,
      "height": null,
      "justify_content": null,
      "justify_items": null,
      "left": null,
      "margin": null,
      "max_height": null,
      "max_width": null,
      "min_height": null,
      "min_width": null,
      "object_fit": null,
      "object_position": null,
      "order": null,
      "overflow": null,
      "overflow_x": null,
      "overflow_y": null,
      "padding": null,
      "right": null,
      "top": null,
      "visibility": null,
      "width": null
     }
    },
    "79be542f4c144beebdc038976bcf9cc8": {
     "model_module": "@jupyter-widgets/controls",
     "model_name": "FloatProgressModel",
     "state": {
      "_dom_classes": [],
      "_model_module": "@jupyter-widgets/controls",
      "_model_module_version": "1.5.0",
      "_model_name": "FloatProgressModel",
      "_view_count": null,
      "_view_module": "@jupyter-widgets/controls",
      "_view_module_version": "1.5.0",
      "_view_name": "ProgressView",
      "bar_style": "success",
      "description": "Downloading: 100%",
      "description_tooltip": null,
      "layout": "IPY_MODEL_074d994a7d8642e483c0a011fd9b7b45",
      "max": 580,
      "min": 0,
      "orientation": "horizontal",
      "style": "IPY_MODEL_fb12ee856871474d99492064c1b1a814",
      "value": 580
     }
    },
    "7e3ad5b7e8484d309999b43c8fd56322": {
     "model_module": "@jupyter-widgets/base",
     "model_name": "LayoutModel",
     "state": {
      "_model_module": "@jupyter-widgets/base",
      "_model_module_version": "1.2.0",
      "_model_name": "LayoutModel",
      "_view_count": null,
      "_view_module": "@jupyter-widgets/base",
      "_view_module_version": "1.2.0",
      "_view_name": "LayoutView",
      "align_content": null,
      "align_items": null,
      "align_self": null,
      "border": null,
      "bottom": null,
      "display": null,
      "flex": null,
      "flex_flow": null,
      "grid_area": null,
      "grid_auto_columns": null,
      "grid_auto_flow": null,
      "grid_auto_rows": null,
      "grid_column": null,
      "grid_gap": null,
      "grid_row": null,
      "grid_template_areas": null,
      "grid_template_columns": null,
      "grid_template_rows": null,
      "height": null,
      "justify_content": null,
      "justify_items": null,
      "left": null,
      "margin": null,
      "max_height": null,
      "max_width": null,
      "min_height": null,
      "min_width": null,
      "object_fit": null,
      "object_position": null,
      "order": null,
      "overflow": null,
      "overflow_x": null,
      "overflow_y": null,
      "padding": null,
      "right": null,
      "top": null,
      "visibility": null,
      "width": null
     }
    },
    "81ce4cb0ea0c46dbb2c63466fde2a4eb": {
     "model_module": "@jupyter-widgets/controls",
     "model_name": "DescriptionStyleModel",
     "state": {
      "_model_module": "@jupyter-widgets/controls",
      "_model_module_version": "1.5.0",
      "_model_name": "DescriptionStyleModel",
      "_view_count": null,
      "_view_module": "@jupyter-widgets/base",
      "_view_module_version": "1.2.0",
      "_view_name": "StyleView",
      "description_width": ""
     }
    },
    "854fc85905904877bdd188392584a0eb": {
     "model_module": "@jupyter-widgets/controls",
     "model_name": "HBoxModel",
     "state": {
      "_dom_classes": [],
      "_model_module": "@jupyter-widgets/controls",
      "_model_module_version": "1.5.0",
      "_model_name": "HBoxModel",
      "_view_count": null,
      "_view_module": "@jupyter-widgets/controls",
      "_view_module_version": "1.5.0",
      "_view_name": "HBoxView",
      "box_style": "",
      "children": [
       "IPY_MODEL_79be542f4c144beebdc038976bcf9cc8",
       "IPY_MODEL_e06f6ef13f5c46ef9cdad1901605a159"
      ],
      "layout": "IPY_MODEL_1833452be0b04736a7f1fa8f2d9cb4da"
     }
    },
    "8673398ee3184573953cfd042c00c6f6": {
     "model_module": "@jupyter-widgets/controls",
     "model_name": "DescriptionStyleModel",
     "state": {
      "_model_module": "@jupyter-widgets/controls",
      "_model_module_version": "1.5.0",
      "_model_name": "DescriptionStyleModel",
      "_view_count": null,
      "_view_module": "@jupyter-widgets/base",
      "_view_module_version": "1.2.0",
      "_view_name": "StyleView",
      "description_width": ""
     }
    },
    "8fe725f0fa3140538a5df031d1785643": {
     "model_module": "@jupyter-widgets/controls",
     "model_name": "ProgressStyleModel",
     "state": {
      "_model_module": "@jupyter-widgets/controls",
      "_model_module_version": "1.5.0",
      "_model_name": "ProgressStyleModel",
      "_view_count": null,
      "_view_module": "@jupyter-widgets/base",
      "_view_module_version": "1.2.0",
      "_view_name": "StyleView",
      "bar_color": null,
      "description_width": "initial"
     }
    },
    "9217e1d8d2424d3a85cd38555a18bf59": {
     "model_module": "@jupyter-widgets/controls",
     "model_name": "HBoxModel",
     "state": {
      "_dom_classes": [],
      "_model_module": "@jupyter-widgets/controls",
      "_model_module_version": "1.5.0",
      "_model_name": "HBoxModel",
      "_view_count": null,
      "_view_module": "@jupyter-widgets/controls",
      "_view_module_version": "1.5.0",
      "_view_name": "HBoxView",
      "box_style": "",
      "children": [
       "IPY_MODEL_1a7fff9d58ad4a2ca7090bbab5b21733",
       "IPY_MODEL_35835ae44d19486cba8c34a0c488561d"
      ],
      "layout": "IPY_MODEL_3c585aefa1b54066bcd2a7a931ac5a1c"
     }
    },
    "a87dd1736ddb45aba797e15f44c8776b": {
     "model_module": "@jupyter-widgets/controls",
     "model_name": "HBoxModel",
     "state": {
      "_dom_classes": [],
      "_model_module": "@jupyter-widgets/controls",
      "_model_module_version": "1.5.0",
      "_model_name": "HBoxModel",
      "_view_count": null,
      "_view_module": "@jupyter-widgets/controls",
      "_view_module_version": "1.5.0",
      "_view_name": "HBoxView",
      "box_style": "",
      "children": [
       "IPY_MODEL_eef9894d92044e558cfaf45ff2b3e66a",
       "IPY_MODEL_0e991a2df4584261a64af02637279af6"
      ],
      "layout": "IPY_MODEL_78e8617af99f4175923b83f99177fb46"
     }
    },
    "b086bc6629684e7e91b377bc681976eb": {
     "model_module": "@jupyter-widgets/controls",
     "model_name": "DescriptionStyleModel",
     "state": {
      "_model_module": "@jupyter-widgets/controls",
      "_model_module_version": "1.5.0",
      "_model_name": "DescriptionStyleModel",
      "_view_count": null,
      "_view_module": "@jupyter-widgets/base",
      "_view_module_version": "1.2.0",
      "_view_name": "StyleView",
      "description_width": ""
     }
    },
    "bcfed4bb69f14a08ab2afaf1c2b70b5c": {
     "model_module": "@jupyter-widgets/base",
     "model_name": "LayoutModel",
     "state": {
      "_model_module": "@jupyter-widgets/base",
      "_model_module_version": "1.2.0",
      "_model_name": "LayoutModel",
      "_view_count": null,
      "_view_module": "@jupyter-widgets/base",
      "_view_module_version": "1.2.0",
      "_view_name": "LayoutView",
      "align_content": null,
      "align_items": null,
      "align_self": null,
      "border": null,
      "bottom": null,
      "display": null,
      "flex": null,
      "flex_flow": null,
      "grid_area": null,
      "grid_auto_columns": null,
      "grid_auto_flow": null,
      "grid_auto_rows": null,
      "grid_column": null,
      "grid_gap": null,
      "grid_row": null,
      "grid_template_areas": null,
      "grid_template_columns": null,
      "grid_template_rows": null,
      "height": null,
      "justify_content": null,
      "justify_items": null,
      "left": null,
      "margin": null,
      "max_height": null,
      "max_width": null,
      "min_height": null,
      "min_width": null,
      "object_fit": null,
      "object_position": null,
      "order": null,
      "overflow": null,
      "overflow_x": null,
      "overflow_y": null,
      "padding": null,
      "right": null,
      "top": null,
      "visibility": null,
      "width": null
     }
    },
    "d756fbf4ba1d4c2f9bd1ca1d5359d923": {
     "model_module": "@jupyter-widgets/base",
     "model_name": "LayoutModel",
     "state": {
      "_model_module": "@jupyter-widgets/base",
      "_model_module_version": "1.2.0",
      "_model_name": "LayoutModel",
      "_view_count": null,
      "_view_module": "@jupyter-widgets/base",
      "_view_module_version": "1.2.0",
      "_view_name": "LayoutView",
      "align_content": null,
      "align_items": null,
      "align_self": null,
      "border": null,
      "bottom": null,
      "display": null,
      "flex": null,
      "flex_flow": null,
      "grid_area": null,
      "grid_auto_columns": null,
      "grid_auto_flow": null,
      "grid_auto_rows": null,
      "grid_column": null,
      "grid_gap": null,
      "grid_row": null,
      "grid_template_areas": null,
      "grid_template_columns": null,
      "grid_template_rows": null,
      "height": null,
      "justify_content": null,
      "justify_items": null,
      "left": null,
      "margin": null,
      "max_height": null,
      "max_width": null,
      "min_height": null,
      "min_width": null,
      "object_fit": null,
      "object_position": null,
      "order": null,
      "overflow": null,
      "overflow_x": null,
      "overflow_y": null,
      "padding": null,
      "right": null,
      "top": null,
      "visibility": null,
      "width": null
     }
    },
    "e06f6ef13f5c46ef9cdad1901605a159": {
     "model_module": "@jupyter-widgets/controls",
     "model_name": "HTMLModel",
     "state": {
      "_dom_classes": [],
      "_model_module": "@jupyter-widgets/controls",
      "_model_module_version": "1.5.0",
      "_model_name": "HTMLModel",
      "_view_count": null,
      "_view_module": "@jupyter-widgets/controls",
      "_view_module_version": "1.5.0",
      "_view_name": "HTMLView",
      "description": "",
      "description_tooltip": null,
      "layout": "IPY_MODEL_bcfed4bb69f14a08ab2afaf1c2b70b5c",
      "placeholder": "​",
      "style": "IPY_MODEL_b086bc6629684e7e91b377bc681976eb",
      "value": " 580/580 [00:00&lt;00:00, 746B/s]"
     }
    },
    "eef9894d92044e558cfaf45ff2b3e66a": {
     "model_module": "@jupyter-widgets/controls",
     "model_name": "FloatProgressModel",
     "state": {
      "_dom_classes": [],
      "_model_module": "@jupyter-widgets/controls",
      "_model_module_version": "1.5.0",
      "_model_name": "FloatProgressModel",
      "_view_count": null,
      "_view_module": "@jupyter-widgets/controls",
      "_view_module_version": "1.5.0",
      "_view_name": "ProgressView",
      "bar_style": "success",
      "description": "Downloading: 100%",
      "description_tooltip": null,
      "layout": "IPY_MODEL_22fa6ae514134836975907afb146de1d",
      "max": 543450661,
      "min": 0,
      "orientation": "horizontal",
      "style": "IPY_MODEL_781ba8c7f77f49718a35d4ab918ae806",
      "value": 543450661
     }
    },
    "fb12ee856871474d99492064c1b1a814": {
     "model_module": "@jupyter-widgets/controls",
     "model_name": "ProgressStyleModel",
     "state": {
      "_model_module": "@jupyter-widgets/controls",
      "_model_module_version": "1.5.0",
      "_model_name": "ProgressStyleModel",
      "_view_count": null,
      "_view_module": "@jupyter-widgets/base",
      "_view_module_version": "1.2.0",
      "_view_name": "StyleView",
      "bar_color": null,
      "description_width": "initial"
     }
    }
   }
  }
 },
 "nbformat": 4,
 "nbformat_minor": 1
}
