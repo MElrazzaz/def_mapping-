{
 "cells": [
  {
   "cell_type": "code",
   "execution_count": 1,
   "metadata": {
    "colab": {
     "base_uri": "https://localhost:8080/",
     "height": 1000
    },
    "colab_type": "code",
    "id": "N-FLoZGM2tjC",
    "outputId": "ce8637c8-1d03-4a90-873a-847b216a736b"
   },
   "outputs": [
    {
     "name": "stdout",
     "output_type": "stream",
     "text": [
      "Requirement already satisfied: transformers in c:\\users\\me250041\\appdata\\local\\continuum\\anaconda2\\envs\\py3.7\\lib\\site-packages (3.0.2)\n",
      "Requirement already satisfied: tokenizers==0.8.1.rc1 in c:\\users\\me250041\\appdata\\local\\continuum\\anaconda2\\envs\\py3.7\\lib\\site-packages (from transformers) (0.8.1rc1)\n",
      "Requirement already satisfied: numpy in c:\\users\\me250041\\appdata\\local\\continuum\\anaconda2\\envs\\py3.7\\lib\\site-packages (from transformers) (1.16.5)\n",
      "Requirement already satisfied: regex!=2019.12.17 in c:\\users\\me250041\\appdata\\local\\continuum\\anaconda2\\envs\\py3.7\\lib\\site-packages (from transformers) (2020.7.14)\n",
      "Requirement already satisfied: sacremoses in c:\\users\\me250041\\appdata\\local\\continuum\\anaconda2\\envs\\py3.7\\lib\\site-packages (from transformers) (0.0.43)\n",
      "Requirement already satisfied: filelock in c:\\users\\me250041\\appdata\\local\\continuum\\anaconda2\\envs\\py3.7\\lib\\site-packages (from transformers) (3.0.12)\n",
      "Requirement already satisfied: requests in c:\\users\\me250041\\appdata\\local\\continuum\\anaconda2\\envs\\py3.7\\lib\\site-packages (from transformers) (2.22.0)\n",
      "Requirement already satisfied: sentencepiece!=0.1.92 in c:\\users\\me250041\\appdata\\local\\continuum\\anaconda2\\envs\\py3.7\\lib\\site-packages (from transformers) (0.1.91)\n",
      "Requirement already satisfied: packaging in c:\\users\\me250041\\appdata\\local\\continuum\\anaconda2\\envs\\py3.7\\lib\\site-packages (from transformers) (19.2)\n",
      "Requirement already satisfied: tqdm>=4.27 in c:\\users\\me250041\\appdata\\local\\continuum\\anaconda2\\envs\\py3.7\\lib\\site-packages (from transformers) (4.36.1)\n",
      "Requirement already satisfied: joblib in c:\\users\\me250041\\appdata\\local\\continuum\\anaconda2\\envs\\py3.7\\lib\\site-packages (from sacremoses->transformers) (0.13.2)\n",
      "Requirement already satisfied: click in c:\\users\\me250041\\appdata\\local\\continuum\\anaconda2\\envs\\py3.7\\lib\\site-packages (from sacremoses->transformers) (7.0)\n",
      "Requirement already satisfied: six in c:\\users\\me250041\\appdata\\local\\continuum\\anaconda2\\envs\\py3.7\\lib\\site-packages (from sacremoses->transformers) (1.12.0)\n",
      "Requirement already satisfied: idna<2.9,>=2.5 in c:\\users\\me250041\\appdata\\local\\continuum\\anaconda2\\envs\\py3.7\\lib\\site-packages (from requests->transformers) (2.8)\n",
      "Requirement already satisfied: urllib3!=1.25.0,!=1.25.1,<1.26,>=1.21.1 in c:\\users\\me250041\\appdata\\local\\continuum\\anaconda2\\envs\\py3.7\\lib\\site-packages (from requests->transformers) (1.24.2)\n",
      "Requirement already satisfied: certifi>=2017.4.17 in c:\\users\\me250041\\appdata\\local\\continuum\\anaconda2\\envs\\py3.7\\lib\\site-packages (from requests->transformers) (2019.9.11)\n",
      "Requirement already satisfied: chardet<3.1.0,>=3.0.2 in c:\\users\\me250041\\appdata\\local\\continuum\\anaconda2\\envs\\py3.7\\lib\\site-packages (from requests->transformers) (3.0.4)\n",
      "Requirement already satisfied: pyparsing>=2.0.2 in c:\\users\\me250041\\appdata\\local\\continuum\\anaconda2\\envs\\py3.7\\lib\\site-packages (from packaging->transformers) (2.4.2)\n",
      "Requirement already satisfied: pyarabic in c:\\users\\me250041\\appdata\\local\\continuum\\anaconda2\\envs\\py3.7\\lib\\site-packages (0.6.8)\n",
      "Requirement already satisfied: farasapy in c:\\users\\me250041\\appdata\\local\\continuum\\anaconda2\\envs\\py3.7\\lib\\site-packages (0.0.5)\n",
      "Requirement already satisfied: requests in c:\\users\\me250041\\appdata\\local\\continuum\\anaconda2\\envs\\py3.7\\lib\\site-packages (from farasapy) (2.22.0)\n",
      "Requirement already satisfied: tqdm in c:\\users\\me250041\\appdata\\local\\continuum\\anaconda2\\envs\\py3.7\\lib\\site-packages (from farasapy) (4.36.1)\n",
      "Requirement already satisfied: urllib3!=1.25.0,!=1.25.1,<1.26,>=1.21.1 in c:\\users\\me250041\\appdata\\local\\continuum\\anaconda2\\envs\\py3.7\\lib\\site-packages (from requests->farasapy) (1.24.2)\n",
      "Requirement already satisfied: certifi>=2017.4.17 in c:\\users\\me250041\\appdata\\local\\continuum\\anaconda2\\envs\\py3.7\\lib\\site-packages (from requests->farasapy) (2019.9.11)\n",
      "Requirement already satisfied: idna<2.9,>=2.5 in c:\\users\\me250041\\appdata\\local\\continuum\\anaconda2\\envs\\py3.7\\lib\\site-packages (from requests->farasapy) (2.8)\n",
      "Requirement already satisfied: chardet<3.1.0,>=3.0.2 in c:\\users\\me250041\\appdata\\local\\continuum\\anaconda2\\envs\\py3.7\\lib\\site-packages (from requests->farasapy) (3.0.4)\n"
     ]
    },
    {
     "name": "stderr",
     "output_type": "stream",
     "text": [
      "'git' is not recognized as an internal or external command,\n",
      "operable program or batch file.\n"
     ]
    }
   ],
   "source": [
    "!pip install transformers\n",
    "!pip install pyarabic\n",
    "!pip install farasapy\n",
    "!git clone https://github.com/aub-mind/arabert\n"
   ]
  },
  {
   "cell_type": "code",
   "execution_count": 1,
   "metadata": {
    "colab": {
     "base_uri": "https://localhost:8080/",
     "height": 385,
     "referenced_widgets": [
      "854fc85905904877bdd188392584a0eb",
      "1833452be0b04736a7f1fa8f2d9cb4da",
      "79be542f4c144beebdc038976bcf9cc8",
      "e06f6ef13f5c46ef9cdad1901605a159",
      "fb12ee856871474d99492064c1b1a814",
      "074d994a7d8642e483c0a011fd9b7b45",
      "b086bc6629684e7e91b377bc681976eb",
      "bcfed4bb69f14a08ab2afaf1c2b70b5c",
      "9217e1d8d2424d3a85cd38555a18bf59",
      "3c585aefa1b54066bcd2a7a931ac5a1c",
      "1a7fff9d58ad4a2ca7090bbab5b21733",
      "35835ae44d19486cba8c34a0c488561d",
      "8fe725f0fa3140538a5df031d1785643",
      "0c9e747cfd004bd1b93fc02fa04a54cf",
      "81ce4cb0ea0c46dbb2c63466fde2a4eb",
      "d756fbf4ba1d4c2f9bd1ca1d5359d923",
      "a87dd1736ddb45aba797e15f44c8776b",
      "78e8617af99f4175923b83f99177fb46",
      "eef9894d92044e558cfaf45ff2b3e66a",
      "0e991a2df4584261a64af02637279af6",
      "781ba8c7f77f49718a35d4ab918ae806",
      "22fa6ae514134836975907afb146de1d",
      "8673398ee3184573953cfd042c00c6f6",
      "7e3ad5b7e8484d309999b43c8fd56322"
     ]
    },
    "colab_type": "code",
    "id": "ieh6jjDVwAMP",
    "outputId": "a9c20bd0-4a7d-494a-d3d6-8c275284a7c4"
   },
   "outputs": [
    {
     "name": "stdout",
     "output_type": "stream",
     "text": [
      "perform system check...\n",
      "check java version...\n",
      "Your java version is 1.8 which is compatiple with Farasa \n",
      "check toolkit binaries...\n",
      "Dependencies seem to be satisfied..\n"
     ]
    },
    {
     "name": "stderr",
     "output_type": "stream",
     "text": [
      "C:\\Users\\me250041\\AppData\\Local\\Continuum\\anaconda2\\envs\\py3.7\\lib\\site-packages\\farasa\\__base.py:45: UserWarning: Be careful with large lines as they may break on interactive mode. You may switch to Standalone mode for such cases.\n",
      "  \"Be careful with large lines as they may break on interactive mode. You may switch to Standalone mode for such cases.\"\n"
     ]
    },
    {
     "name": "stdout",
     "output_type": "stream",
     "text": [
      "initializing [SEGMENT] task in INTERACTIVE mode...\n",
      "task [SEGMENT] is initialized interactively.\n"
     ]
    }
   ],
   "source": [
    "from transformers import AutoTokenizer, AutoModel\n",
    "from arabert.preprocess_arabert import never_split_tokens, preprocess\n",
    "from farasa.segmenter import FarasaSegmenter\n",
    "import torch\n",
    "\n",
    "arabert_tokenizer = AutoTokenizer.from_pretrained(\n",
    "    \"aubmindlab/bert-base-arabert\",\n",
    "    do_lower_case=False,\n",
    "    do_basic_tokenize=True,\n",
    "    never_split=never_split_tokens)\n",
    "arabert_model = AutoModel.from_pretrained(\"aubmindlab/bert-base-arabert\") #you can replace the path here with the folder containing the the pytorch model\n",
    "\n",
    "farasa_segmenter = FarasaSegmenter(interactive=True)"
   ]
  },
  {
   "cell_type": "code",
   "execution_count": 2,
   "metadata": {
    "colab": {
     "base_uri": "https://localhost:8080/",
     "height": 68
    },
    "colab_type": "code",
    "id": "7nFgjN_KwSyQ",
    "outputId": "a8c7c48f-1fe5-4ffd-a73d-f9985c9e7ae5"
   },
   "outputs": [
    {
     "name": "stdout",
     "output_type": "stream",
     "text": [
      "الجو جميل \n",
      "---------------------\n",
      "ال+ جو جميل\n"
     ]
    }
   ],
   "source": [
    "text= \"الجو جميل \"\n",
    "text_preprocessed = preprocess( text,\n",
    "                                do_farasa_tokenization = True,\n",
    "                                farasa = farasa_segmenter,\n",
    "                                use_farasapy = True) # if you want to use AraBERT v0.1 do_farasa_tokenization = False\n",
    "print(text)\n",
    "print(\"---------------------\")\n",
    "print(text_preprocessed)"
   ]
  },
  {
   "cell_type": "code",
   "execution_count": 3,
   "metadata": {
    "colab": {
     "base_uri": "https://localhost:8080/",
     "height": 51
    },
    "colab_type": "code",
    "id": "xfd4wszWwaxs",
    "outputId": "ca2b70bb-c70b-4a67-98c2-64db1b6edfb2"
   },
   "outputs": [
    {
     "name": "stdout",
     "output_type": "stream",
     "text": [
      "[29756, 3000, 516, 15724, 29758]\n",
      "['[CLS]', 'ال+', 'جو', 'جميل', '[SEP]']\n"
     ]
    }
   ],
   "source": [
    "arabert_input = arabert_tokenizer.encode(text_preprocessed,add_special_tokens=True)\n",
    "print(arabert_input)\n",
    "print(arabert_tokenizer.convert_ids_to_tokens(arabert_input))\n",
    "# you should ignore the fisrt and the last embeddings"
   ]
  },
  {
   "cell_type": "code",
   "execution_count": 4,
   "metadata": {
    "colab": {
     "base_uri": "https://localhost:8080/",
     "height": 34
    },
    "colab_type": "code",
    "id": "zXQ-bhV8x035",
    "outputId": "548a5be2-0419-4b1a-dccc-b871981edd7a"
   },
   "outputs": [
    {
     "name": "stdout",
     "output_type": "stream",
     "text": [
      "tensor([[29756,  3000,   516, 15724, 29758]])\n"
     ]
    }
   ],
   "source": [
    "tensor_input_ids = torch.tensor(arabert_input).unsqueeze(0)\n",
    "print(tensor_input_ids)"
   ]
  },
  {
   "cell_type": "code",
   "execution_count": 11,
   "metadata": {
    "colab": {},
    "colab_type": "code",
    "id": "kH6DquqBxGIi"
   },
   "outputs": [],
   "source": [
    "output = arabert_model(tensor_input_ids)\n",
    "arabert_model.config.output_hidden_states=True"
   ]
  },
  {
   "cell_type": "code",
   "execution_count": 15,
   "metadata": {
    "colab": {
     "base_uri": "https://localhost:8080/",
     "height": 34
    },
    "colab_type": "code",
    "id": "HhuCCQgExQpv",
    "outputId": "e5bcc1ce-6515-4a32-cab3-68fc205143d9"
   },
   "outputs": [
    {
     "data": {
      "text/plain": [
       "torch.Size([1, 5, 768])"
      ]
     },
     "execution_count": 15,
     "metadata": {},
     "output_type": "execute_result"
    }
   ],
   "source": [
    "output[0].shape # batch_size x seq_len x emb_dim"
   ]
  },
  {
   "cell_type": "code",
   "execution_count": 14,
   "metadata": {
    "colab": {},
    "colab_type": "code",
    "id": "l7D4sTFv0eHz"
   },
   "outputs": [],
   "source": [
    "embeddings = output[0][0][1:-1]"
   ]
  },
  {
   "cell_type": "code",
   "execution_count": 15,
   "metadata": {
    "colab": {
     "base_uri": "https://localhost:8080/",
     "height": 136
    },
    "colab_type": "code",
    "id": "yg8vCudW1ftS",
    "outputId": "a20c7480-bb43-4e35-f5c6-6c943a85e68b"
   },
   "outputs": [
    {
     "name": "stdout",
     "output_type": "stream",
     "text": [
      "torch.Size([3, 768])\n",
      "tensor([[ 0.8155,  0.7318,  1.2204,  ..., -0.8935, -0.2445,  0.1815],\n",
      "        [ 0.1583, -0.2267,  0.2711,  ..., -1.2924,  0.0926, -0.5406],\n",
      "        [ 0.6892, -0.2494,  0.2033,  ..., -0.3737,  0.3523, -0.3948]],\n",
      "       grad_fn=<SliceBackward>)\n"
     ]
    }
   ],
   "source": [
    "print(embeddings.shape)\n",
    "print(embeddings)"
   ]
  },
  {
   "cell_type": "code",
   "execution_count": 8,
   "metadata": {},
   "outputs": [
    {
     "name": "stdout",
     "output_type": "stream",
     "text": [
      "Collecting sentence-transformers\n",
      "  Downloading https://files.pythonhosted.org/packages/1d/09/36bcda3e1839fee5ba7bd64779ab3824b5f0bbf19ba32d985692c4141ec0/sentence-transformers-0.3.4.tar.gz (61kB)\n",
      "Requirement already satisfied, skipping upgrade: transformers>=3.0.2 in c:\\users\\me250041\\appdata\\local\\continuum\\anaconda2\\envs\\py3.7\\lib\\site-packages (from sentence-transformers) (3.0.2)\n",
      "Requirement already satisfied, skipping upgrade: tqdm in c:\\users\\me250041\\appdata\\local\\continuum\\anaconda2\\envs\\py3.7\\lib\\site-packages (from sentence-transformers) (4.36.1)\n",
      "Requirement already satisfied, skipping upgrade: torch>=1.2.0 in c:\\users\\me250041\\appdata\\local\\continuum\\anaconda2\\envs\\py3.7\\lib\\site-packages (from sentence-transformers) (1.5.1+cpu)\n",
      "Requirement already satisfied, skipping upgrade: numpy in c:\\users\\me250041\\appdata\\local\\continuum\\anaconda2\\envs\\py3.7\\lib\\site-packages (from sentence-transformers) (1.16.5)\n",
      "Requirement already satisfied, skipping upgrade: scikit-learn in c:\\users\\me250041\\appdata\\local\\continuum\\anaconda2\\envs\\py3.7\\lib\\site-packages (from sentence-transformers) (0.21.3)\n",
      "Requirement already satisfied, skipping upgrade: scipy in c:\\users\\me250041\\appdata\\local\\continuum\\anaconda2\\envs\\py3.7\\lib\\site-packages (from sentence-transformers) (1.3.1)\n",
      "Requirement already satisfied, skipping upgrade: nltk in c:\\users\\me250041\\appdata\\local\\continuum\\anaconda2\\envs\\py3.7\\lib\\site-packages (from sentence-transformers) (3.4.5)\n",
      "Requirement already satisfied, skipping upgrade: sacremoses in c:\\users\\me250041\\appdata\\local\\continuum\\anaconda2\\envs\\py3.7\\lib\\site-packages (from transformers>=3.0.2->sentence-transformers) (0.0.43)\n",
      "Requirement already satisfied, skipping upgrade: requests in c:\\users\\me250041\\appdata\\local\\continuum\\anaconda2\\envs\\py3.7\\lib\\site-packages (from transformers>=3.0.2->sentence-transformers) (2.22.0)\n",
      "Requirement already satisfied, skipping upgrade: packaging in c:\\users\\me250041\\appdata\\local\\continuum\\anaconda2\\envs\\py3.7\\lib\\site-packages (from transformers>=3.0.2->sentence-transformers) (19.2)\n",
      "Requirement already satisfied, skipping upgrade: filelock in c:\\users\\me250041\\appdata\\local\\continuum\\anaconda2\\envs\\py3.7\\lib\\site-packages (from transformers>=3.0.2->sentence-transformers) (3.0.12)\n",
      "Requirement already satisfied, skipping upgrade: regex!=2019.12.17 in c:\\users\\me250041\\appdata\\local\\continuum\\anaconda2\\envs\\py3.7\\lib\\site-packages (from transformers>=3.0.2->sentence-transformers) (2020.7.14)\n",
      "Requirement already satisfied, skipping upgrade: tokenizers==0.8.1.rc1 in c:\\users\\me250041\\appdata\\local\\continuum\\anaconda2\\envs\\py3.7\\lib\\site-packages (from transformers>=3.0.2->sentence-transformers) (0.8.1rc1)\n",
      "Requirement already satisfied, skipping upgrade: sentencepiece!=0.1.92 in c:\\users\\me250041\\appdata\\local\\continuum\\anaconda2\\envs\\py3.7\\lib\\site-packages (from transformers>=3.0.2->sentence-transformers) (0.1.91)\n",
      "Requirement already satisfied, skipping upgrade: future in c:\\users\\me250041\\appdata\\local\\continuum\\anaconda2\\envs\\py3.7\\lib\\site-packages (from torch>=1.2.0->sentence-transformers) (0.18.2)\n",
      "Requirement already satisfied, skipping upgrade: joblib>=0.11 in c:\\users\\me250041\\appdata\\local\\continuum\\anaconda2\\envs\\py3.7\\lib\\site-packages (from scikit-learn->sentence-transformers) (0.13.2)\n",
      "Requirement already satisfied, skipping upgrade: six in c:\\users\\me250041\\appdata\\local\\continuum\\anaconda2\\envs\\py3.7\\lib\\site-packages (from nltk->sentence-transformers) (1.12.0)\n",
      "Requirement already satisfied, skipping upgrade: click in c:\\users\\me250041\\appdata\\local\\continuum\\anaconda2\\envs\\py3.7\\lib\\site-packages (from sacremoses->transformers>=3.0.2->sentence-transformers) (7.0)\n",
      "Requirement already satisfied, skipping upgrade: idna<2.9,>=2.5 in c:\\users\\me250041\\appdata\\local\\continuum\\anaconda2\\envs\\py3.7\\lib\\site-packages (from requests->transformers>=3.0.2->sentence-transformers) (2.8)\n",
      "Requirement already satisfied, skipping upgrade: urllib3!=1.25.0,!=1.25.1,<1.26,>=1.21.1 in c:\\users\\me250041\\appdata\\local\\continuum\\anaconda2\\envs\\py3.7\\lib\\site-packages (from requests->transformers>=3.0.2->sentence-transformers) (1.24.2)\n",
      "Requirement already satisfied, skipping upgrade: certifi>=2017.4.17 in c:\\users\\me250041\\appdata\\local\\continuum\\anaconda2\\envs\\py3.7\\lib\\site-packages (from requests->transformers>=3.0.2->sentence-transformers) (2019.9.11)\n",
      "Requirement already satisfied, skipping upgrade: chardet<3.1.0,>=3.0.2 in c:\\users\\me250041\\appdata\\local\\continuum\\anaconda2\\envs\\py3.7\\lib\\site-packages (from requests->transformers>=3.0.2->sentence-transformers) (3.0.4)\n",
      "Requirement already satisfied, skipping upgrade: pyparsing>=2.0.2 in c:\\users\\me250041\\appdata\\local\\continuum\\anaconda2\\envs\\py3.7\\lib\\site-packages (from packaging->transformers>=3.0.2->sentence-transformers) (2.4.2)\n",
      "Building wheels for collected packages: sentence-transformers\n",
      "  Building wheel for sentence-transformers (setup.py): started\n",
      "  Building wheel for sentence-transformers (setup.py): finished with status 'done'\n",
      "  Created wheel for sentence-transformers: filename=sentence_transformers-0.3.4-cp37-none-any.whl size=99834 sha256=87d273618815bb39c07283fe59a232fc941e7556581864e18fc2001997323449\n",
      "  Stored in directory: C:\\Users\\me250041\\AppData\\Local\\pip\\Cache\\wheels\\39\\b3\\0a\\c25bcdeeb0858f691d377f06d4bbf5e735598fa3a54d01c04f\n",
      "Successfully built sentence-transformers\n",
      "Installing collected packages: sentence-transformers\n",
      "Successfully installed sentence-transformers-0.3.4\n"
     ]
    }
   ],
   "source": [
    "!pip install -U sentence-transformers"
   ]
  },
  {
   "cell_type": "code",
   "execution_count": 1,
   "metadata": {},
   "outputs": [
    {
     "ename": "KeyError",
     "evalue": "'__version__'",
     "output_type": "error",
     "traceback": [
      "\u001b[1;31m---------------------------------------------------------------------------\u001b[0m",
      "\u001b[1;31mKeyError\u001b[0m                                  Traceback (most recent call last)",
      "\u001b[1;32m<ipython-input-1-3a557bc617a7>\u001b[0m in \u001b[0;36m<module>\u001b[1;34m\u001b[0m\n\u001b[0;32m      1\u001b[0m \u001b[1;32mfrom\u001b[0m \u001b[0msentence_transformers\u001b[0m \u001b[1;32mimport\u001b[0m \u001b[0mSentenceTransformer\u001b[0m\u001b[1;33m\u001b[0m\u001b[1;33m\u001b[0m\u001b[0m\n\u001b[1;32m----> 2\u001b[1;33m \u001b[0mmodel\u001b[0m \u001b[1;33m=\u001b[0m \u001b[0mSentenceTransformer\u001b[0m\u001b[1;33m(\u001b[0m\u001b[1;34m\"aubmindlab/bert-base-arabert\"\u001b[0m\u001b[1;33m)\u001b[0m\u001b[1;33m\u001b[0m\u001b[1;33m\u001b[0m\u001b[0m\n\u001b[0m",
      "\u001b[1;32m~\\AppData\\Local\\Continuum\\anaconda2\\envs\\py3.7\\lib\\site-packages\\sentence_transformers\\SentenceTransformer.py\u001b[0m in \u001b[0;36m__init__\u001b[1;34m(self, model_name_or_path, modules, device)\u001b[0m\n\u001b[0;32m     75\u001b[0m                     \u001b[1;32mwith\u001b[0m \u001b[0mopen\u001b[0m\u001b[1;33m(\u001b[0m\u001b[0mos\u001b[0m\u001b[1;33m.\u001b[0m\u001b[0mpath\u001b[0m\u001b[1;33m.\u001b[0m\u001b[0mjoin\u001b[0m\u001b[1;33m(\u001b[0m\u001b[0mmodel_path\u001b[0m\u001b[1;33m,\u001b[0m \u001b[1;34m'config.json'\u001b[0m\u001b[1;33m)\u001b[0m\u001b[1;33m)\u001b[0m \u001b[1;32mas\u001b[0m \u001b[0mfIn\u001b[0m\u001b[1;33m:\u001b[0m\u001b[1;33m\u001b[0m\u001b[1;33m\u001b[0m\u001b[0m\n\u001b[0;32m     76\u001b[0m                         \u001b[0mconfig\u001b[0m \u001b[1;33m=\u001b[0m \u001b[0mjson\u001b[0m\u001b[1;33m.\u001b[0m\u001b[0mload\u001b[0m\u001b[1;33m(\u001b[0m\u001b[0mfIn\u001b[0m\u001b[1;33m)\u001b[0m\u001b[1;33m\u001b[0m\u001b[1;33m\u001b[0m\u001b[0m\n\u001b[1;32m---> 77\u001b[1;33m                         \u001b[1;32mif\u001b[0m \u001b[0mconfig\u001b[0m\u001b[1;33m[\u001b[0m\u001b[1;34m'__version__'\u001b[0m\u001b[1;33m]\u001b[0m \u001b[1;33m>\u001b[0m \u001b[0m__version__\u001b[0m\u001b[1;33m:\u001b[0m\u001b[1;33m\u001b[0m\u001b[1;33m\u001b[0m\u001b[0m\n\u001b[0m\u001b[0;32m     78\u001b[0m                             \u001b[0mlogging\u001b[0m\u001b[1;33m.\u001b[0m\u001b[0mwarning\u001b[0m\u001b[1;33m(\u001b[0m\u001b[1;34m\"You try to use a model that was created with version {}, however, your version is {}. This might cause unexpected behavior or errors. In that case, try to update to the latest version.\\n\\n\\n\"\u001b[0m\u001b[1;33m.\u001b[0m\u001b[0mformat\u001b[0m\u001b[1;33m(\u001b[0m\u001b[0mconfig\u001b[0m\u001b[1;33m[\u001b[0m\u001b[1;34m'__version__'\u001b[0m\u001b[1;33m]\u001b[0m\u001b[1;33m,\u001b[0m \u001b[0m__version__\u001b[0m\u001b[1;33m)\u001b[0m\u001b[1;33m)\u001b[0m\u001b[1;33m\u001b[0m\u001b[1;33m\u001b[0m\u001b[0m\n\u001b[0;32m     79\u001b[0m \u001b[1;33m\u001b[0m\u001b[0m\n",
      "\u001b[1;31mKeyError\u001b[0m: '__version__'"
     ]
    }
   ],
   "source": [
    "from sentence_transformers import SentenceTransformer\n",
    "model = SentenceTransformer(\"aubmindlab/bert-base-arabert\")"
   ]
  },
  {
   "cell_type": "code",
   "execution_count": null,
   "metadata": {},
   "outputs": [],
   "source": [
    "import pandas as pd\n",
    "\n",
    "header_list = [\"word\", \"body\", \"def\",'quran_ex','example']\n",
    "\n",
    "\n",
    "df = pd.read_csv(r\"C:\\Users\\me250041\\OneDrive - Teradata\\Desktop\\master\\scrapping\\data-factory\\new_scrapping_all_out.txt\",delimiter='$',encoding='utf-8',names=header_list)\n",
    "\n",
    "\n",
    "df[['word','def']]"
   ]
  }
 ],
 "metadata": {
  "colab": {
   "collapsed_sections": [],
   "name": "AraBert output Embeddings - PyTorch.ipynb",
   "provenance": []
  },
  "kernelspec": {
   "display_name": "Python 3",
   "language": "python",
   "name": "python3"
  },
  "language_info": {
   "codemirror_mode": {
    "name": "ipython",
    "version": 3
   },
   "file_extension": ".py",
   "mimetype": "text/x-python",
   "name": "python",
   "nbconvert_exporter": "python",
   "pygments_lexer": "ipython3",
   "version": "3.7.4"
  },
  "widgets": {
   "application/vnd.jupyter.widget-state+json": {
    "074d994a7d8642e483c0a011fd9b7b45": {
     "model_module": "@jupyter-widgets/base",
     "model_name": "LayoutModel",
     "state": {
      "_model_module": "@jupyter-widgets/base",
      "_model_module_version": "1.2.0",
      "_model_name": "LayoutModel",
      "_view_count": null,
      "_view_module": "@jupyter-widgets/base",
      "_view_module_version": "1.2.0",
      "_view_name": "LayoutView",
      "align_content": null,
      "align_items": null,
      "align_self": null,
      "border": null,
      "bottom": null,
      "display": null,
      "flex": null,
      "flex_flow": null,
      "grid_area": null,
      "grid_auto_columns": null,
      "grid_auto_flow": null,
      "grid_auto_rows": null,
      "grid_column": null,
      "grid_gap": null,
      "grid_row": null,
      "grid_template_areas": null,
      "grid_template_columns": null,
      "grid_template_rows": null,
      "height": null,
      "justify_content": null,
      "justify_items": null,
      "left": null,
      "margin": null,
      "max_height": null,
      "max_width": null,
      "min_height": null,
      "min_width": null,
      "object_fit": null,
      "object_position": null,
      "order": null,
      "overflow": null,
      "overflow_x": null,
      "overflow_y": null,
      "padding": null,
      "right": null,
      "top": null,
      "visibility": null,
      "width": null
     }
    },
    "0c9e747cfd004bd1b93fc02fa04a54cf": {
     "model_module": "@jupyter-widgets/base",
     "model_name": "LayoutModel",
     "state": {
      "_model_module": "@jupyter-widgets/base",
      "_model_module_version": "1.2.0",
      "_model_name": "LayoutModel",
      "_view_count": null,
      "_view_module": "@jupyter-widgets/base",
      "_view_module_version": "1.2.0",
      "_view_name": "LayoutView",
      "align_content": null,
      "align_items": null,
      "align_self": null,
      "border": null,
      "bottom": null,
      "display": null,
      "flex": null,
      "flex_flow": null,
      "grid_area": null,
      "grid_auto_columns": null,
      "grid_auto_flow": null,
      "grid_auto_rows": null,
      "grid_column": null,
      "grid_gap": null,
      "grid_row": null,
      "grid_template_areas": null,
      "grid_template_columns": null,
      "grid_template_rows": null,
      "height": null,
      "justify_content": null,
      "justify_items": null,
      "left": null,
      "margin": null,
      "max_height": null,
      "max_width": null,
      "min_height": null,
      "min_width": null,
      "object_fit": null,
      "object_position": null,
      "order": null,
      "overflow": null,
      "overflow_x": null,
      "overflow_y": null,
      "padding": null,
      "right": null,
      "top": null,
      "visibility": null,
      "width": null
     }
    },
    "0e991a2df4584261a64af02637279af6": {
     "model_module": "@jupyter-widgets/controls",
     "model_name": "HTMLModel",
     "state": {
      "_dom_classes": [],
      "_model_module": "@jupyter-widgets/controls",
      "_model_module_version": "1.5.0",
      "_model_name": "HTMLModel",
      "_view_count": null,
      "_view_module": "@jupyter-widgets/controls",
      "_view_module_version": "1.5.0",
      "_view_name": "HTMLView",
      "description": "",
      "description_tooltip": null,
      "layout": "IPY_MODEL_7e3ad5b7e8484d309999b43c8fd56322",
      "placeholder": "​",
      "style": "IPY_MODEL_8673398ee3184573953cfd042c00c6f6",
      "value": " 543M/543M [00:08&lt;00:00, 63.9MB/s]"
     }
    },
    "1833452be0b04736a7f1fa8f2d9cb4da": {
     "model_module": "@jupyter-widgets/base",
     "model_name": "LayoutModel",
     "state": {
      "_model_module": "@jupyter-widgets/base",
      "_model_module_version": "1.2.0",
      "_model_name": "LayoutModel",
      "_view_count": null,
      "_view_module": "@jupyter-widgets/base",
      "_view_module_version": "1.2.0",
      "_view_name": "LayoutView",
      "align_content": null,
      "align_items": null,
      "align_self": null,
      "border": null,
      "bottom": null,
      "display": null,
      "flex": null,
      "flex_flow": null,
      "grid_area": null,
      "grid_auto_columns": null,
      "grid_auto_flow": null,
      "grid_auto_rows": null,
      "grid_column": null,
      "grid_gap": null,
      "grid_row": null,
      "grid_template_areas": null,
      "grid_template_columns": null,
      "grid_template_rows": null,
      "height": null,
      "justify_content": null,
      "justify_items": null,
      "left": null,
      "margin": null,
      "max_height": null,
      "max_width": null,
      "min_height": null,
      "min_width": null,
      "object_fit": null,
      "object_position": null,
      "order": null,
      "overflow": null,
      "overflow_x": null,
      "overflow_y": null,
      "padding": null,
      "right": null,
      "top": null,
      "visibility": null,
      "width": null
     }
    },
    "1a7fff9d58ad4a2ca7090bbab5b21733": {
     "model_module": "@jupyter-widgets/controls",
     "model_name": "FloatProgressModel",
     "state": {
      "_dom_classes": [],
      "_model_module": "@jupyter-widgets/controls",
      "_model_module_version": "1.5.0",
      "_model_name": "FloatProgressModel",
      "_view_count": null,
      "_view_module": "@jupyter-widgets/controls",
      "_view_module_version": "1.5.0",
      "_view_name": "ProgressView",
      "bar_style": "success",
      "description": "Downloading: 100%",
      "description_tooltip": null,
      "layout": "IPY_MODEL_0c9e747cfd004bd1b93fc02fa04a54cf",
      "max": 717153,
      "min": 0,
      "orientation": "horizontal",
      "style": "IPY_MODEL_8fe725f0fa3140538a5df031d1785643",
      "value": 717153
     }
    },
    "22fa6ae514134836975907afb146de1d": {
     "model_module": "@jupyter-widgets/base",
     "model_name": "LayoutModel",
     "state": {
      "_model_module": "@jupyter-widgets/base",
      "_model_module_version": "1.2.0",
      "_model_name": "LayoutModel",
      "_view_count": null,
      "_view_module": "@jupyter-widgets/base",
      "_view_module_version": "1.2.0",
      "_view_name": "LayoutView",
      "align_content": null,
      "align_items": null,
      "align_self": null,
      "border": null,
      "bottom": null,
      "display": null,
      "flex": null,
      "flex_flow": null,
      "grid_area": null,
      "grid_auto_columns": null,
      "grid_auto_flow": null,
      "grid_auto_rows": null,
      "grid_column": null,
      "grid_gap": null,
      "grid_row": null,
      "grid_template_areas": null,
      "grid_template_columns": null,
      "grid_template_rows": null,
      "height": null,
      "justify_content": null,
      "justify_items": null,
      "left": null,
      "margin": null,
      "max_height": null,
      "max_width": null,
      "min_height": null,
      "min_width": null,
      "object_fit": null,
      "object_position": null,
      "order": null,
      "overflow": null,
      "overflow_x": null,
      "overflow_y": null,
      "padding": null,
      "right": null,
      "top": null,
      "visibility": null,
      "width": null
     }
    },
    "35835ae44d19486cba8c34a0c488561d": {
     "model_module": "@jupyter-widgets/controls",
     "model_name": "HTMLModel",
     "state": {
      "_dom_classes": [],
      "_model_module": "@jupyter-widgets/controls",
      "_model_module_version": "1.5.0",
      "_model_name": "HTMLModel",
      "_view_count": null,
      "_view_module": "@jupyter-widgets/controls",
      "_view_module_version": "1.5.0",
      "_view_name": "HTMLView",
      "description": "",
      "description_tooltip": null,
      "layout": "IPY_MODEL_d756fbf4ba1d4c2f9bd1ca1d5359d923",
      "placeholder": "​",
      "style": "IPY_MODEL_81ce4cb0ea0c46dbb2c63466fde2a4eb",
      "value": " 717k/717k [00:03&lt;00:00, 182kB/s]"
     }
    },
    "3c585aefa1b54066bcd2a7a931ac5a1c": {
     "model_module": "@jupyter-widgets/base",
     "model_name": "LayoutModel",
     "state": {
      "_model_module": "@jupyter-widgets/base",
      "_model_module_version": "1.2.0",
      "_model_name": "LayoutModel",
      "_view_count": null,
      "_view_module": "@jupyter-widgets/base",
      "_view_module_version": "1.2.0",
      "_view_name": "LayoutView",
      "align_content": null,
      "align_items": null,
      "align_self": null,
      "border": null,
      "bottom": null,
      "display": null,
      "flex": null,
      "flex_flow": null,
      "grid_area": null,
      "grid_auto_columns": null,
      "grid_auto_flow": null,
      "grid_auto_rows": null,
      "grid_column": null,
      "grid_gap": null,
      "grid_row": null,
      "grid_template_areas": null,
      "grid_template_columns": null,
      "grid_template_rows": null,
      "height": null,
      "justify_content": null,
      "justify_items": null,
      "left": null,
      "margin": null,
      "max_height": null,
      "max_width": null,
      "min_height": null,
      "min_width": null,
      "object_fit": null,
      "object_position": null,
      "order": null,
      "overflow": null,
      "overflow_x": null,
      "overflow_y": null,
      "padding": null,
      "right": null,
      "top": null,
      "visibility": null,
      "width": null
     }
    },
    "781ba8c7f77f49718a35d4ab918ae806": {
     "model_module": "@jupyter-widgets/controls",
     "model_name": "ProgressStyleModel",
     "state": {
      "_model_module": "@jupyter-widgets/controls",
      "_model_module_version": "1.5.0",
      "_model_name": "ProgressStyleModel",
      "_view_count": null,
      "_view_module": "@jupyter-widgets/base",
      "_view_module_version": "1.2.0",
      "_view_name": "StyleView",
      "bar_color": null,
      "description_width": "initial"
     }
    },
    "78e8617af99f4175923b83f99177fb46": {
     "model_module": "@jupyter-widgets/base",
     "model_name": "LayoutModel",
     "state": {
      "_model_module": "@jupyter-widgets/base",
      "_model_module_version": "1.2.0",
      "_model_name": "LayoutModel",
      "_view_count": null,
      "_view_module": "@jupyter-widgets/base",
      "_view_module_version": "1.2.0",
      "_view_name": "LayoutView",
      "align_content": null,
      "align_items": null,
      "align_self": null,
      "border": null,
      "bottom": null,
      "display": null,
      "flex": null,
      "flex_flow": null,
      "grid_area": null,
      "grid_auto_columns": null,
      "grid_auto_flow": null,
      "grid_auto_rows": null,
      "grid_column": null,
      "grid_gap": null,
      "grid_row": null,
      "grid_template_areas": null,
      "grid_template_columns": null,
      "grid_template_rows": null,
      "height": null,
      "justify_content": null,
      "justify_items": null,
      "left": null,
      "margin": null,
      "max_height": null,
      "max_width": null,
      "min_height": null,
      "min_width": null,
      "object_fit": null,
      "object_position": null,
      "order": null,
      "overflow": null,
      "overflow_x": null,
      "overflow_y": null,
      "padding": null,
      "right": null,
      "top": null,
      "visibility": null,
      "width": null
     }
    },
    "79be542f4c144beebdc038976bcf9cc8": {
     "model_module": "@jupyter-widgets/controls",
     "model_name": "FloatProgressModel",
     "state": {
      "_dom_classes": [],
      "_model_module": "@jupyter-widgets/controls",
      "_model_module_version": "1.5.0",
      "_model_name": "FloatProgressModel",
      "_view_count": null,
      "_view_module": "@jupyter-widgets/controls",
      "_view_module_version": "1.5.0",
      "_view_name": "ProgressView",
      "bar_style": "success",
      "description": "Downloading: 100%",
      "description_tooltip": null,
      "layout": "IPY_MODEL_074d994a7d8642e483c0a011fd9b7b45",
      "max": 580,
      "min": 0,
      "orientation": "horizontal",
      "style": "IPY_MODEL_fb12ee856871474d99492064c1b1a814",
      "value": 580
     }
    },
    "7e3ad5b7e8484d309999b43c8fd56322": {
     "model_module": "@jupyter-widgets/base",
     "model_name": "LayoutModel",
     "state": {
      "_model_module": "@jupyter-widgets/base",
      "_model_module_version": "1.2.0",
      "_model_name": "LayoutModel",
      "_view_count": null,
      "_view_module": "@jupyter-widgets/base",
      "_view_module_version": "1.2.0",
      "_view_name": "LayoutView",
      "align_content": null,
      "align_items": null,
      "align_self": null,
      "border": null,
      "bottom": null,
      "display": null,
      "flex": null,
      "flex_flow": null,
      "grid_area": null,
      "grid_auto_columns": null,
      "grid_auto_flow": null,
      "grid_auto_rows": null,
      "grid_column": null,
      "grid_gap": null,
      "grid_row": null,
      "grid_template_areas": null,
      "grid_template_columns": null,
      "grid_template_rows": null,
      "height": null,
      "justify_content": null,
      "justify_items": null,
      "left": null,
      "margin": null,
      "max_height": null,
      "max_width": null,
      "min_height": null,
      "min_width": null,
      "object_fit": null,
      "object_position": null,
      "order": null,
      "overflow": null,
      "overflow_x": null,
      "overflow_y": null,
      "padding": null,
      "right": null,
      "top": null,
      "visibility": null,
      "width": null
     }
    },
    "81ce4cb0ea0c46dbb2c63466fde2a4eb": {
     "model_module": "@jupyter-widgets/controls",
     "model_name": "DescriptionStyleModel",
     "state": {
      "_model_module": "@jupyter-widgets/controls",
      "_model_module_version": "1.5.0",
      "_model_name": "DescriptionStyleModel",
      "_view_count": null,
      "_view_module": "@jupyter-widgets/base",
      "_view_module_version": "1.2.0",
      "_view_name": "StyleView",
      "description_width": ""
     }
    },
    "854fc85905904877bdd188392584a0eb": {
     "model_module": "@jupyter-widgets/controls",
     "model_name": "HBoxModel",
     "state": {
      "_dom_classes": [],
      "_model_module": "@jupyter-widgets/controls",
      "_model_module_version": "1.5.0",
      "_model_name": "HBoxModel",
      "_view_count": null,
      "_view_module": "@jupyter-widgets/controls",
      "_view_module_version": "1.5.0",
      "_view_name": "HBoxView",
      "box_style": "",
      "children": [
       "IPY_MODEL_79be542f4c144beebdc038976bcf9cc8",
       "IPY_MODEL_e06f6ef13f5c46ef9cdad1901605a159"
      ],
      "layout": "IPY_MODEL_1833452be0b04736a7f1fa8f2d9cb4da"
     }
    },
    "8673398ee3184573953cfd042c00c6f6": {
     "model_module": "@jupyter-widgets/controls",
     "model_name": "DescriptionStyleModel",
     "state": {
      "_model_module": "@jupyter-widgets/controls",
      "_model_module_version": "1.5.0",
      "_model_name": "DescriptionStyleModel",
      "_view_count": null,
      "_view_module": "@jupyter-widgets/base",
      "_view_module_version": "1.2.0",
      "_view_name": "StyleView",
      "description_width": ""
     }
    },
    "8fe725f0fa3140538a5df031d1785643": {
     "model_module": "@jupyter-widgets/controls",
     "model_name": "ProgressStyleModel",
     "state": {
      "_model_module": "@jupyter-widgets/controls",
      "_model_module_version": "1.5.0",
      "_model_name": "ProgressStyleModel",
      "_view_count": null,
      "_view_module": "@jupyter-widgets/base",
      "_view_module_version": "1.2.0",
      "_view_name": "StyleView",
      "bar_color": null,
      "description_width": "initial"
     }
    },
    "9217e1d8d2424d3a85cd38555a18bf59": {
     "model_module": "@jupyter-widgets/controls",
     "model_name": "HBoxModel",
     "state": {
      "_dom_classes": [],
      "_model_module": "@jupyter-widgets/controls",
      "_model_module_version": "1.5.0",
      "_model_name": "HBoxModel",
      "_view_count": null,
      "_view_module": "@jupyter-widgets/controls",
      "_view_module_version": "1.5.0",
      "_view_name": "HBoxView",
      "box_style": "",
      "children": [
       "IPY_MODEL_1a7fff9d58ad4a2ca7090bbab5b21733",
       "IPY_MODEL_35835ae44d19486cba8c34a0c488561d"
      ],
      "layout": "IPY_MODEL_3c585aefa1b54066bcd2a7a931ac5a1c"
     }
    },
    "a87dd1736ddb45aba797e15f44c8776b": {
     "model_module": "@jupyter-widgets/controls",
     "model_name": "HBoxModel",
     "state": {
      "_dom_classes": [],
      "_model_module": "@jupyter-widgets/controls",
      "_model_module_version": "1.5.0",
      "_model_name": "HBoxModel",
      "_view_count": null,
      "_view_module": "@jupyter-widgets/controls",
      "_view_module_version": "1.5.0",
      "_view_name": "HBoxView",
      "box_style": "",
      "children": [
       "IPY_MODEL_eef9894d92044e558cfaf45ff2b3e66a",
       "IPY_MODEL_0e991a2df4584261a64af02637279af6"
      ],
      "layout": "IPY_MODEL_78e8617af99f4175923b83f99177fb46"
     }
    },
    "b086bc6629684e7e91b377bc681976eb": {
     "model_module": "@jupyter-widgets/controls",
     "model_name": "DescriptionStyleModel",
     "state": {
      "_model_module": "@jupyter-widgets/controls",
      "_model_module_version": "1.5.0",
      "_model_name": "DescriptionStyleModel",
      "_view_count": null,
      "_view_module": "@jupyter-widgets/base",
      "_view_module_version": "1.2.0",
      "_view_name": "StyleView",
      "description_width": ""
     }
    },
    "bcfed4bb69f14a08ab2afaf1c2b70b5c": {
     "model_module": "@jupyter-widgets/base",
     "model_name": "LayoutModel",
     "state": {
      "_model_module": "@jupyter-widgets/base",
      "_model_module_version": "1.2.0",
      "_model_name": "LayoutModel",
      "_view_count": null,
      "_view_module": "@jupyter-widgets/base",
      "_view_module_version": "1.2.0",
      "_view_name": "LayoutView",
      "align_content": null,
      "align_items": null,
      "align_self": null,
      "border": null,
      "bottom": null,
      "display": null,
      "flex": null,
      "flex_flow": null,
      "grid_area": null,
      "grid_auto_columns": null,
      "grid_auto_flow": null,
      "grid_auto_rows": null,
      "grid_column": null,
      "grid_gap": null,
      "grid_row": null,
      "grid_template_areas": null,
      "grid_template_columns": null,
      "grid_template_rows": null,
      "height": null,
      "justify_content": null,
      "justify_items": null,
      "left": null,
      "margin": null,
      "max_height": null,
      "max_width": null,
      "min_height": null,
      "min_width": null,
      "object_fit": null,
      "object_position": null,
      "order": null,
      "overflow": null,
      "overflow_x": null,
      "overflow_y": null,
      "padding": null,
      "right": null,
      "top": null,
      "visibility": null,
      "width": null
     }
    },
    "d756fbf4ba1d4c2f9bd1ca1d5359d923": {
     "model_module": "@jupyter-widgets/base",
     "model_name": "LayoutModel",
     "state": {
      "_model_module": "@jupyter-widgets/base",
      "_model_module_version": "1.2.0",
      "_model_name": "LayoutModel",
      "_view_count": null,
      "_view_module": "@jupyter-widgets/base",
      "_view_module_version": "1.2.0",
      "_view_name": "LayoutView",
      "align_content": null,
      "align_items": null,
      "align_self": null,
      "border": null,
      "bottom": null,
      "display": null,
      "flex": null,
      "flex_flow": null,
      "grid_area": null,
      "grid_auto_columns": null,
      "grid_auto_flow": null,
      "grid_auto_rows": null,
      "grid_column": null,
      "grid_gap": null,
      "grid_row": null,
      "grid_template_areas": null,
      "grid_template_columns": null,
      "grid_template_rows": null,
      "height": null,
      "justify_content": null,
      "justify_items": null,
      "left": null,
      "margin": null,
      "max_height": null,
      "max_width": null,
      "min_height": null,
      "min_width": null,
      "object_fit": null,
      "object_position": null,
      "order": null,
      "overflow": null,
      "overflow_x": null,
      "overflow_y": null,
      "padding": null,
      "right": null,
      "top": null,
      "visibility": null,
      "width": null
     }
    },
    "e06f6ef13f5c46ef9cdad1901605a159": {
     "model_module": "@jupyter-widgets/controls",
     "model_name": "HTMLModel",
     "state": {
      "_dom_classes": [],
      "_model_module": "@jupyter-widgets/controls",
      "_model_module_version": "1.5.0",
      "_model_name": "HTMLModel",
      "_view_count": null,
      "_view_module": "@jupyter-widgets/controls",
      "_view_module_version": "1.5.0",
      "_view_name": "HTMLView",
      "description": "",
      "description_tooltip": null,
      "layout": "IPY_MODEL_bcfed4bb69f14a08ab2afaf1c2b70b5c",
      "placeholder": "​",
      "style": "IPY_MODEL_b086bc6629684e7e91b377bc681976eb",
      "value": " 580/580 [00:00&lt;00:00, 746B/s]"
     }
    },
    "eef9894d92044e558cfaf45ff2b3e66a": {
     "model_module": "@jupyter-widgets/controls",
     "model_name": "FloatProgressModel",
     "state": {
      "_dom_classes": [],
      "_model_module": "@jupyter-widgets/controls",
      "_model_module_version": "1.5.0",
      "_model_name": "FloatProgressModel",
      "_view_count": null,
      "_view_module": "@jupyter-widgets/controls",
      "_view_module_version": "1.5.0",
      "_view_name": "ProgressView",
      "bar_style": "success",
      "description": "Downloading: 100%",
      "description_tooltip": null,
      "layout": "IPY_MODEL_22fa6ae514134836975907afb146de1d",
      "max": 543450661,
      "min": 0,
      "orientation": "horizontal",
      "style": "IPY_MODEL_781ba8c7f77f49718a35d4ab918ae806",
      "value": 543450661
     }
    },
    "fb12ee856871474d99492064c1b1a814": {
     "model_module": "@jupyter-widgets/controls",
     "model_name": "ProgressStyleModel",
     "state": {
      "_model_module": "@jupyter-widgets/controls",
      "_model_module_version": "1.5.0",
      "_model_name": "ProgressStyleModel",
      "_view_count": null,
      "_view_module": "@jupyter-widgets/base",
      "_view_module_version": "1.2.0",
      "_view_name": "StyleView",
      "bar_color": null,
      "description_width": "initial"
     }
    }
   }
  }
 },
 "nbformat": 4,
 "nbformat_minor": 1
}
